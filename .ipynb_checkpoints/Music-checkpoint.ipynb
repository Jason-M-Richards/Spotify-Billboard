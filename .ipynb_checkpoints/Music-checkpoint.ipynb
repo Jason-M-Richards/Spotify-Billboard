{
 "cells": [
  {
   "cell_type": "code",
   "execution_count": 1,
   "metadata": {},
   "outputs": [],
   "source": [
    "import spotipy\n",
    "from spotipy.oauth2 import SpotifyClientCredentials\n",
    "\n",
    "cid ='c6e576b519814bd694c9781e9e9c224b' \n",
    "secret = '242d413615b1486cb6404863b1e72b0c'\n",
    "\n",
    "client_credentials_manager = SpotifyClientCredentials(client_id=cid, client_secret=secret)\n",
    "sp = spotipy.Spotify(client_credentials_manager=client_credentials_manager)\n"
   ]
  },
  {
   "cell_type": "code",
   "execution_count": 2,
   "metadata": {
    "scrolled": true
   },
   "outputs": [
    {
     "data": {
      "text/html": [
       "<div>\n",
       "<style scoped>\n",
       "    .dataframe tbody tr th:only-of-type {\n",
       "        vertical-align: middle;\n",
       "    }\n",
       "\n",
       "    .dataframe tbody tr th {\n",
       "        vertical-align: top;\n",
       "    }\n",
       "\n",
       "    .dataframe thead th {\n",
       "        text-align: right;\n",
       "    }\n",
       "</style>\n",
       "<table border=\"1\" class=\"dataframe\">\n",
       "  <thead>\n",
       "    <tr style=\"text-align: right;\">\n",
       "      <th></th>\n",
       "      <th>artist_name</th>\n",
       "      <th>track_id</th>\n",
       "      <th>track_name</th>\n",
       "      <th>acousticness</th>\n",
       "      <th>danceability</th>\n",
       "      <th>duration_ms</th>\n",
       "      <th>energy</th>\n",
       "      <th>instrumentalness</th>\n",
       "      <th>key</th>\n",
       "      <th>liveness</th>\n",
       "      <th>loudness</th>\n",
       "      <th>mode</th>\n",
       "      <th>speechiness</th>\n",
       "      <th>tempo</th>\n",
       "      <th>time_signature</th>\n",
       "      <th>valence</th>\n",
       "      <th>popularity</th>\n",
       "    </tr>\n",
       "  </thead>\n",
       "  <tbody>\n",
       "    <tr>\n",
       "      <th>0</th>\n",
       "      <td>YG</td>\n",
       "      <td>2RM4jf1Xa9zPgMGRDiht8O</td>\n",
       "      <td>Big Bank feat. 2 Chainz, Big Sean, Nicki Minaj</td>\n",
       "      <td>0.005820</td>\n",
       "      <td>0.743</td>\n",
       "      <td>238373</td>\n",
       "      <td>0.339</td>\n",
       "      <td>0.000</td>\n",
       "      <td>1</td>\n",
       "      <td>0.0812</td>\n",
       "      <td>-7.678</td>\n",
       "      <td>1</td>\n",
       "      <td>0.4090</td>\n",
       "      <td>203.927</td>\n",
       "      <td>4</td>\n",
       "      <td>0.118</td>\n",
       "      <td>15</td>\n",
       "    </tr>\n",
       "    <tr>\n",
       "      <th>1</th>\n",
       "      <td>YG</td>\n",
       "      <td>1tHDG53xJNGsItRA3vfVgs</td>\n",
       "      <td>BAND DRUM (feat. A$AP Rocky)</td>\n",
       "      <td>0.024400</td>\n",
       "      <td>0.846</td>\n",
       "      <td>214800</td>\n",
       "      <td>0.557</td>\n",
       "      <td>0.000</td>\n",
       "      <td>8</td>\n",
       "      <td>0.2860</td>\n",
       "      <td>-7.259</td>\n",
       "      <td>1</td>\n",
       "      <td>0.4570</td>\n",
       "      <td>159.009</td>\n",
       "      <td>4</td>\n",
       "      <td>0.371</td>\n",
       "      <td>0</td>\n",
       "    </tr>\n",
       "    <tr>\n",
       "      <th>2</th>\n",
       "      <td>R3HAB</td>\n",
       "      <td>6Wosx2euFPMT14UXiWudMy</td>\n",
       "      <td>Radio Silence</td>\n",
       "      <td>0.025000</td>\n",
       "      <td>0.603</td>\n",
       "      <td>138913</td>\n",
       "      <td>0.723</td>\n",
       "      <td>0.000</td>\n",
       "      <td>9</td>\n",
       "      <td>0.0824</td>\n",
       "      <td>-5.890</td>\n",
       "      <td>0</td>\n",
       "      <td>0.0454</td>\n",
       "      <td>114.966</td>\n",
       "      <td>4</td>\n",
       "      <td>0.382</td>\n",
       "      <td>56</td>\n",
       "    </tr>\n",
       "    <tr>\n",
       "      <th>3</th>\n",
       "      <td>Chris Cooq</td>\n",
       "      <td>3J2Jpw61sO7l6Hc7qdYV91</td>\n",
       "      <td>Lactose</td>\n",
       "      <td>0.029400</td>\n",
       "      <td>0.800</td>\n",
       "      <td>125381</td>\n",
       "      <td>0.579</td>\n",
       "      <td>0.912</td>\n",
       "      <td>5</td>\n",
       "      <td>0.0994</td>\n",
       "      <td>-12.118</td>\n",
       "      <td>0</td>\n",
       "      <td>0.0701</td>\n",
       "      <td>123.003</td>\n",
       "      <td>4</td>\n",
       "      <td>0.641</td>\n",
       "      <td>0</td>\n",
       "    </tr>\n",
       "    <tr>\n",
       "      <th>4</th>\n",
       "      <td>Chris Cooq</td>\n",
       "      <td>2jbYvQCyPgX3CdmAzeVeuS</td>\n",
       "      <td>Same - Original mix</td>\n",
       "      <td>0.000035</td>\n",
       "      <td>0.783</td>\n",
       "      <td>124016</td>\n",
       "      <td>0.792</td>\n",
       "      <td>0.878</td>\n",
       "      <td>7</td>\n",
       "      <td>0.0332</td>\n",
       "      <td>-10.277</td>\n",
       "      <td>1</td>\n",
       "      <td>0.0661</td>\n",
       "      <td>120.047</td>\n",
       "      <td>4</td>\n",
       "      <td>0.928</td>\n",
       "      <td>0</td>\n",
       "    </tr>\n",
       "  </tbody>\n",
       "</table>\n",
       "</div>"
      ],
      "text/plain": [
       "  artist_name                track_id  \\\n",
       "0          YG  2RM4jf1Xa9zPgMGRDiht8O   \n",
       "1          YG  1tHDG53xJNGsItRA3vfVgs   \n",
       "2       R3HAB  6Wosx2euFPMT14UXiWudMy   \n",
       "3  Chris Cooq  3J2Jpw61sO7l6Hc7qdYV91   \n",
       "4  Chris Cooq  2jbYvQCyPgX3CdmAzeVeuS   \n",
       "\n",
       "                                       track_name  acousticness  danceability  \\\n",
       "0  Big Bank feat. 2 Chainz, Big Sean, Nicki Minaj      0.005820         0.743   \n",
       "1                    BAND DRUM (feat. A$AP Rocky)      0.024400         0.846   \n",
       "2                                   Radio Silence      0.025000         0.603   \n",
       "3                                         Lactose      0.029400         0.800   \n",
       "4                             Same - Original mix      0.000035         0.783   \n",
       "\n",
       "   duration_ms  energy  instrumentalness  key  liveness  loudness  mode  \\\n",
       "0       238373   0.339             0.000    1    0.0812    -7.678     1   \n",
       "1       214800   0.557             0.000    8    0.2860    -7.259     1   \n",
       "2       138913   0.723             0.000    9    0.0824    -5.890     0   \n",
       "3       125381   0.579             0.912    5    0.0994   -12.118     0   \n",
       "4       124016   0.792             0.878    7    0.0332   -10.277     1   \n",
       "\n",
       "   speechiness    tempo  time_signature  valence  popularity  \n",
       "0       0.4090  203.927               4    0.118          15  \n",
       "1       0.4570  159.009               4    0.371           0  \n",
       "2       0.0454  114.966               4    0.382          56  \n",
       "3       0.0701  123.003               4    0.641           0  \n",
       "4       0.0661  120.047               4    0.928           0  "
      ]
     },
     "execution_count": 2,
     "metadata": {},
     "output_type": "execute_result"
    }
   ],
   "source": [
    "import pandas as pd\n",
    "data = pd.read_csv('SpotifyAudioFeaturesApril2019.csv')\n",
    "data.head()"
   ]
  },
  {
   "cell_type": "code",
   "execution_count": 3,
   "metadata": {},
   "outputs": [
    {
     "data": {
      "text/plain": [
       "Johann Sebastian Bach      3621\n",
       "Wolfgang Amadeus Mozart    1755\n",
       "Armin van Buuren           1124\n",
       "Ludwig van Beethoven        928\n",
       "Frédéric Chopin             614\n",
       "                           ... \n",
       "Young Torch                   1\n",
       "Quality Control               1\n",
       "Hassan Khan                   1\n",
       "Colde                         1\n",
       "Axel                          1\n",
       "Name: artist_name, Length: 34621, dtype: int64"
      ]
     },
     "execution_count": 3,
     "metadata": {},
     "output_type": "execute_result"
    }
   ],
   "source": [
    "data.artist_name.value_counts()"
   ]
  },
  {
   "cell_type": "code",
   "execution_count": 12,
   "metadata": {},
   "outputs": [],
   "source": [
    "#initial webscraping of Spotify for artist information\n",
    "artist_name = []\n",
    "genres = []\n",
    "artist_id = []\n",
    "\n",
    "for i in range(0,9999,1):\n",
    "    artist_results = sp.search(q='year:2018', type='artist', limit=1,offset=i)\n",
    "    for i, t in enumerate(artist_results['artists']['items']):\n",
    "        artist_name.append(t['name'])\n",
    "        genres.append(t['genres'])\n",
    "        artist_id.append(t['id'])"
   ]
  },
  {
   "cell_type": "code",
   "execution_count": 13,
   "metadata": {
    "scrolled": true
   },
   "outputs": [
    {
     "data": {
      "text/plain": [
       "2000"
      ]
     },
     "execution_count": 13,
     "metadata": {},
     "output_type": "execute_result"
    }
   ],
   "source": [
    "len(artist_id)"
   ]
  },
  {
   "cell_type": "code",
   "execution_count": 65,
   "metadata": {
    "scrolled": true
   },
   "outputs": [
    {
     "name": "stdout",
     "output_type": "stream",
     "text": [
      "[['pop'], ['dfw rap', 'pop', 'rap'], ['electropop', 'pop'], ['pop', 'uk pop'], ['dance pop', 'pop', 'pop rap', 'r&b', 'rap'], ['dance pop', 'pop', 'post-teen pop'], ['reggaeton', 'trap latino'], ['emo rap', 'miami hip hop'], ['detroit hip hop', 'g funk', 'hip hop', 'rap'], ['latin', 'reggaeton'], ['chicago rap', 'hip hop', 'pop rap', 'rap'], ['pop', 'rap'], ['rap', 'trap music'], ['canadian pop', 'pop', 'viral pop'], ['hip hop', 'rap'], ['reggaeton', 'trap latino'], ['conscious hip hop', 'hip hop', 'pop rap', 'rap', 'west coast rap'], ['country rap'], ['canadian pop', 'dance pop', 'pop', 'post-teen pop'], ['dance pop', 'pop', 'post-teen pop', 'r&b'], ['k-pop', 'k-pop boy group'], ['canadian contemporary r&b', 'canadian pop', 'hip hop', 'pop', 'rap'], ['brostep', 'progressive electro house'], ['dance pop', 'pop', 'post-teen pop'], ['cali rap', 'hip hop', 'pop', 'pop rap', 'rap', 'southern hip hop', 'trap music'], ['reggaeton flow', 'trap latino'], ['hip hop', 'rap'], ['trap music'], ['contemporary country', 'country road'], ['dance pop', 'electropop', 'etherpop', 'indie poptimism', 'pop', 'post-teen pop'], ['latin', 'latin hip hop', 'pop', 'reggaeton', 'tropical'], ['florida rap', 'miami hip hop', 'pop', 'pop rap', 'rap', 'southern hip hop', 'trap music'], ['baroque pop', 'emo', 'modern rock', 'pop punk'], ['dance pop', 'pop', 'post-teen pop', 'r&b', 'urban contemporary'], ['british invasion', 'merseybeat', 'psychedelic rock', 'rock'], ['east coast hip hop', 'hip hop', 'pop', 'pop rap', 'rap', 'southern hip hop', 'trap music'], ['atl hip hop', 'pop', 'pop rap', 'rap', 'southern hip hop', 'trap music'], ['dance pop', 'pop', 'post-teen pop'], ['dance pop', 'pop', 'post-teen pop'], ['contemporary country', 'country', 'country pop', 'country road', 'modern country rock'], ['glam rock', 'rock'], ['pop', 'post-teen pop'], ['hip hop', 'pittsburgh rap', 'pop rap', 'rap'], ['atl hip hop', 'hip hop', 'pop', 'rap', 'trap music', 'underground hip hop'], ['modern rock', 'rock'], ['atl hip hop', 'hip hop', 'pop', 'pop rap', 'rap', 'southern hip hop', 'trap music'], ['trap music'], ['cali rap'], ['pop punk', 'rock'], ['contemporary country', 'country road'], ['contemporary country', 'country', 'country road', 'modern country rock'], ['hip hop', 'pop', 'pop rap', 'rap', 'trap music'], ['alternative r&b', 'hip hop', 'lgbtq+ hip hop', 'pop', 'rap'], ['hip hop', 'pop rap', 'rap', 'southern hip hop', 'trap music'], ['chicago rap'], ['memphis hip hop'], ['hip hop', 'pop rap', 'rap'], ['hip hop', 'pop', 'pop rap', 'rap', 'southern hip hop', 'trap music'], ['dance pop', 'pop', 'post-teen pop'], ['emo', 'modern rock', 'pop punk'], ['dark trap', 'new orleans rap', 'underground hip hop'], ['dance pop', 'pop', 'post-teen pop'], ['nyc rap'], ['pop', 'rap'], ['contemporary country', 'country', 'country road'], ['reggaeton'], ['contemporary country', 'country', 'country road'], ['houston rap', 'pop', 'trap queen'], ['rap', 'southern hip hop', 'trap music'], ['atl hip hop', 'hip hop', 'pop', 'pop rap', 'rap'], ['pop'], ['hip hop', 'miami hip hop', 'pop', 'pop rap', 'rap', 'southern hip hop', 'trap music'], ['edm', 'pop', 'tropical house'], ['alternative r&b', 'atl hip hop', 'hip hop', 'pop', 'pop rap', 'rap', 'trap music'], ['contemporary country'], ['dance pop', 'pop', 'post-teen pop'], ['hip hop', 'pop rap', 'rap', 'underground hip hop'], ['hip hop', 'pop', 'pop rap', 'rap', 'southern hip hop', 'trap music', 'underground hip hop'], ['pop'], ['emo rap', 'trap music'], ['dance pop', 'pop'], ['chicago drill', 'chicago rap', 'drill', 'hip hop', 'pop rap', 'rap', 'southern hip hop', 'trap music'], ['hip hop', 'pop', 'pop rap', 'rap'], ['edm', 'electro house', 'house', 'pop', 'progressive house', 'uk dance'], ['dance pop', 'pop', 'post-teen pop'], ['emo rap', 'lgbtq+ hip hop'], ['hip hop', 'pop', 'pop rap', 'rap', 'southern hip hop', 'trap music'], ['dance pop', 'electropop', 'pop'], ['g funk', 'gangster rap', 'hip hop', 'pop rap', 'rap', 'west coast rap'], ['alternative metal', 'nu metal', 'post-grunge', 'rap metal'], ['glam rock', 'mellow gold', 'piano rock', 'rock'], ['alternative metal', 'nu metal', 'post-grunge', 'rap metal'], ['canadian contemporary r&b', 'pop'], ['east coast hip hop', 'gangster rap', 'hip hop', 'pop rap', 'rap'], ['dance pop', 'edm', 'electronic trap', 'pop'], ['dance pop', 'pop', 'pop rap', 'r&b', 'rap', 'urban contemporary'], ['canadian hip hop', 'dark trap', 'underground hip hop', 'vapor trap'], ['latin hip hop', 'trap latino'], ['permanent wave', 'pop'], ['australian dance', 'australian pop', 'pop'], ['dance pop', 'pop', 'post-teen pop'], ['dance pop', 'pop', 'post-teen pop'], ['alternative rock', 'funk metal', 'funk rock', 'permanent wave', 'post-grunge', 'rock'], ['dance pop', 'hip hop', 'pop', 'pop rap', 'r&b', 'rap', 'southern hip hop', 'trap music', 'urban contemporary'], ['hip hop', 'pop', 'pop rap', 'rap', 'southern hip hop', 'trap music', 'underground hip hop'], ['east coast hip hop', 'gangster rap', 'hip hop', 'pop rap', 'rap'], ['boy band', 'dance pop', 'pop', 'post-teen pop', 'talent show'], ['panamanian pop'], ['hip hop', 'pop rap', 'rap'], ['alternative r&b', 'dance pop', 'pop', 'pop rap', 'r&b', 'rap', 'urban contemporary'], ['canadian contemporary r&b', 'dance pop', 'pop', 'post-teen pop'], ['album rock', 'classic rock', 'mellow gold', 'rock', 'soft rock', 'yacht rock'], ['reggaeton'], ['pop'], ['dance pop', 'pop', 'post-teen pop'], ['bachata', 'latin', 'tropical'], ['pop'], ['complextro', 'dance pop', 'edm', 'electro house', 'german techno', 'pop', 'post-teen pop', 'tropical house'], ['g funk', 'gangster rap', 'hip hop', 'pop rap', 'rap', 'west coast rap'], ['hip hop', 'pop', 'pop rap', 'rap'], ['pop', 'pop rap', 'rap', 'trap music'], ['dance pop', 'pop', 'pop rap', 'post-teen pop', 'r&b', 'uk contemporary r&b'], ['pop'], ['album rock', 'classic rock', 'hard rock', 'rock'], ['country'], ['crunk', 'dirty south rap', 'gangster rap', 'hip hop', 'memphis hip hop', 'pop rap', 'rap', 'southern hip hop', 'trap music'], ['big room', 'edm', 'pop', 'progressive house', 'tropical house'], ['dance pop', 'neo mellow', 'piano rock', 'pop', 'pop rap', 'pop rock', 'post-teen pop'], ['atl hip hop', 'dance pop', 'pop', 'pop rap', 'r&b', 'urban contemporary'], ['dance pop', 'latin', 'miami hip hop', 'pop', 'pop rap'], ['hard rock', 'metal', 'old school thrash', 'rock', 'speed metal', 'thrash metal'], ['boston hip hop', 'hip hop', 'pop rap', 'rap'], ['chamber pop', 'eau claire indie', 'folk-pop', 'indie folk', 'indie pop', 'melancholia', 'slow core', 'stomp and holler'], ['metropopolis', 'modern rock', 'pop', 'tropical house'], ['album rock', 'british invasion', 'classic rock', 'protopunk', 'rock'], ['bedroom pop', 'indie r&b'], ['folk-pop', 'irish singer-songwriter', 'pop'], ['alternative metal', 'groove metal', 'nu metal', 'post-grunge'], ['australian psych', 'neo-psychedelic', 'psychedelic rock'], ['boy band', 'dance pop', 'pop', 'post-teen pop', 'teen pop'], ['pop rap'], ['brostep', 'complextro', 'edm', 'electro'], ['permanent wave', 'pop punk', 'punk', 'rock'], ['dance pop', 'pop'], ['british soul', 'pop', 'uk pop'], ['pop'], ['modern alternative rock', 'nu gaze', 'pop', 'shiver pop'], ['dance pop', 'pop'], ['dance pop', 'pop', 'post-teen pop', 'uk pop'], ['pop', 'pop rap'], ['reggae'], ['dance pop', 'electropop', 'pop', 'post-teen pop', 'viral pop'], ['dance pop', 'edm', 'pop', 'post-teen pop', 'tropical house', 'uk pop'], ['neo mellow'], [], ['alternative rock', 'grunge', 'permanent wave', 'post-grunge', 'rock'], ['canadian hip hop', 'pop'], ['album rock', 'classic rock', 'folk rock', 'heartland rock', 'mellow gold', 'rock', 'singer-songwriter', 'soft rock', 'yacht rock'], ['dance pop', 'pop', 'pop rap', 'r&b', 'urban contemporary'], ['dance pop', 'pop', 'pop rap', 'post-teen pop'], ['dance pop', 'pop', 'post-teen pop', 'tropical house'], ['dance pop', 'pop', 'post-teen pop', 'talent show'], ['g funk', 'gangster rap', 'hip hop', 'rap', 'west coast rap'], ['dance pop', 'pop', 'r&b', 'urban contemporary'], ['alternative metal', 'canadian metal', 'canadian rock', 'nu metal', 'pop punk', 'post-grunge'], ['dance pop', 'pop', 'tropical house'], ['electro house'], ['dance pop', 'edm', 'pop', 'post-teen pop', 'tropical house'], ['latin viral pop', 'pop', 'rap latina', 'reggaeton'], ['candy pop', 'emo', 'pixie', 'pop emo', 'pop punk'], ['electro', 'electronic', 'filter house'], ['motown', 'quiet storm', 'soul'], ['dance pop', 'edm', 'electropop', 'pop', 'post-teen pop', 'scandipop', 'swedish electropop', 'swedish pop', 'tropical house'], ['modern rock', 'stomp and holler', 'uk americana'], ['pop', 'pop rap'], ['ccm', 'christian music', 'world worship', 'worship'], ['dance pop', 'pop', 'post-teen pop'], ['dance pop', 'edm', 'electro house', 'pop', 'pop edm', 'tropical house'], ['album rock', 'art rock', 'classic rock', 'dance rock', 'glam rock', 'new wave', 'permanent wave', 'protopunk', 'rock'], ['sleep', 'white noise'], ['dance pop', 'pop', 'r&b', 'urban contemporary'], ['alternative hip hop', 'art pop'], ['garage rock', 'indie rock', 'modern rock', 'permanent wave', 'rock', 'sheffield indie'], ['colombian pop', 'latin', 'reggaeton'], ['reggaeton flow', 'trap latino'], ['dance pop', 'edm', 'pop', 'post-teen pop', 'tropical house', 'uk pop'], ['latin', 'reggaeton flow', 'trap latino', 'tropical'], ['british indie rock'], ['dance pop', 'edm', 'miami hip hop', 'pop', 'pop rap'], ['ccm', 'christian music', 'worship'], ['environmental', 'sleep'], ['dance pop', 'girl group', 'pop', 'post-teen pop', 'talent show', 'uk pop'], ['pop reggaeton'], ['glam metal', 'hard rock', 'rock'], ['bachata', 'latin', 'latin pop', 'pop', 'tropical'], ['boy band', 'dance pop', 'europop'], ['latin', 'reggaeton flow', 'tropical'], ['dance pop', 'edm', 'pop', 'tropical house', 'uk dance'], ['pop', 'post-teen pop', 'r&b'], ['colombian pop', 'dance pop', 'latin', 'latin pop', 'mexican pop', 'pop'], ['dance pop', 'electropop', 'metropopolis', 'pop', 'post-teen pop', 'swedish electropop', 'swedish pop', 'swedish synthpop', 'tropical house'], ['alternative metal', 'christian alternative rock', 'christian music', 'christian rock', 'post-grunge'], ['j-pop girl group', 'k-pop', 'k-pop girl group'], ['hip pop', 'neo soul', 'pop', 'r&b', 'urban contemporary'], ['reggaeton flow'], ['dance pop', 'edm', 'electro house', 'electropop', 'pop', 'post-teen pop', 'tropical house'], ['ambient worship', 'ccm', 'christian music', 'deep ccm', 'world worship', 'worship'], ['indie folk', 'modern rock', 'neo mellow', 'pop'], ['colombian pop'], ['pop'], ['alternative metal', 'alternative rock', 'modern rock', 'permanent wave', 'post-grunge', 'rock'], ['electro latino', 'latin', 'latin hip hop', 'reggaeton', 'tropical'], ['australian dance', 'australian electropop', 'australian indie', 'downtempo', 'pop'], ['canadian pop', 'dance pop', 'electropop', 'indie poptimism', 'pop', 'post-teen pop'], ['afro dancehall', 'afropop', 'azonto', 'nigerian hip hop', 'nigerian pop'], ['g funk', 'gangster rap', 'hip hop', 'pop rap', 'rap', 'west coast rap'], ['australian pop', 'pop'], ['heartland rock', 'mellow gold', 'permanent wave', 'rock', 'singer-songwriter'], ['ccm', 'russian ccm', 'world worship', 'worship'], ['latin', 'reggaeton flow', 'tropical'], ['acoustic pop', 'neo mellow', 'pop', 'pop rock'], ['deep tropical house', 'edm', 'electro house', 'pop', 'pop edm', 'tropical house'], ['dance pop', 'latin', 'latin hip hop', 'latin pop', 'pop', 'reggaeton', 'reggaeton flow', 'tropical'], ['latin', 'reggaeton', 'reggaeton flow', 'tropical'], ['norteno', 'regional mexican pop'], ['electropop', 'modern alternative rock', 'modern rock', 'pop'], ['dance pop', 'electropop', 'pop', 'post-teen pop', 'viral pop'], ['house', 'pop', 'tropical house', 'uk dance'], ['dance pop', 'electropop', 'pop', 'post-teen pop'], ['big room', 'dance pop', 'edm', 'electro house', 'pop', 'progressive electro house', 'tropical house'], ['regional mexican pop'], ['dance pop', 'pop', 'post-teen pop'], ['glam metal', 'rock'], ['rock-and-roll', 'rockabilly'], ['canadian pop', 'candy pop', 'dance pop', 'pop', 'post-teen pop'], ['alternative rock', 'grunge', 'permanent wave', 'post-grunge', 'rock'], ['hollywood'], ['baroque pop', 'chamber pop', 'folk-pop', 'pop', 'uk alternative pop'], ['alternative metal', 'groove metal', 'nu metal', 'post-grunge', 'rap metal', 'rap rock', 'rock'], ['dance pop', 'pop', 'pop rap', 'post-teen pop', 'urban contemporary'], ['bachata', 'latin', 'latin hip hop', 'latin pop', 'tropical'], ['latin', 'latin pop', 'pop', 'tropical'], ['banda', 'norteno', 'regional mexican'], ['australian pop', 'dance pop', 'electropop', 'indie poptimism', 'pop'], ['reggaeton flow', 'trap argentino'], ['argentine hip hop', 'trap argentino', 'trap latino'], ['latin', 'reggaeton flow', 'trap latino', 'tropical'], ['melodic metalcore', 'metalcore', 'rock', 'screamo', 'uk metalcore'], ['alternative metal', 'permanent wave', 'pop punk', 'post-grunge', 'punk', 'rock', 'skate punk', 'socal pop punk'], ['r&b'], ['latin', 'latin hip hop', 'latin pop', 'pop', 'reggaeton', 'reggaeton flow', 'tropical'], ['neo mellow', 'pop'], ['europop', 'swedish pop'], ['la pop', 'pop'], ['r&b en espanol'], ['dance pop', 'pop', 'post-teen pop', 'tropical house', 'uk pop'], ['garage rock', 'indie rock', 'modern rock', 'rock'], ['alternative pop rock'], ['deep pop r&b'], ['baroque', 'classical', 'early music', 'german baroque'], ['reggaeton flow', 'trap latino'], ['mellow gold', 'soft rock'], ['j-pop girl group', 'k-pop', 'k-pop girl group'], ['dance pop', 'pop', 'post-teen pop', 'tropical house', 'uk pop'], ['latin', 'latin arena pop', 'latin pop', 'mexican pop', 'pop', 'reggaeton'], ['alternative metal', 'nu metal', 'pop punk', 'post-grunge', 'rap metal', 'rap rock', 'screamo'], ['banda', 'norteno', 'regional mexican', 'regional mexican pop'], ['reggaeton flow'], ['celtic rock', 'dance pop', 'neo mellow', 'pop', 'pop rock', 'post-teen pop', 'viral pop'], ['regional mexican pop'], ['hollywood', 'pop', 'post-teen pop', 'viral pop'], ['australian pop', 'dance pop', 'pop', 'post-teen pop'], ['modern rock', 'permanent wave', 'piano rock', 'post-grunge', 'rock'], ['grupera', 'gruperas inmortales', 'nu-cumbia', 'regional mexican'], ['latin', 'latin hip hop', 'reggaeton', 'reggaeton flow', 'trap latino', 'tropical'], ['latin', 'latin hip hop', 'reggaeton flow', 'trap latino', 'tropical'], ['pop'], ['alternative metal', 'danish metal', 'nu metal', 'post-grunge'], ['latin', 'reggaeton flow', 'trap latino'], ['banda', 'grupera', 'norteno', 'regional mexican'], ['reggaeton flow'], ['grupera', 'mariachi', 'ranchera'], ['baile pop', 'funk carioca', 'funk das antigas'], ['dembow', 'latin', 'latin hip hop', 'rap dominicano', 'reggaeton flow', 'tropical'], ['r&b en espanol'], ['banda', 'grupera', 'norteno', 'ranchera', 'regional mexican'], ['neo-singer-songwriter', 'pop'], ['pop rap'], ['dance pop', 'deep euro house', 'deep house', 'edm', 'german dance', 'pop', 'tropical house'], ['latin', 'latin arena pop', 'latin pop', 'latin rock', 'mexican pop', 'mexican rock', 'rock en espanol', 'tropical'], ['alternative metal', 'canadian pop punk', 'canadian punk', 'nu metal', 'pop punk', 'post-grunge', 'punk'], ['reggaeton flow', 'trap latino'], ['boy band', 'latin', 'latin pop', 'pop', 'reggaeton', 'tropical'], ['banda', 'regional mexican'], ['dance pop', 'edm', 'electro house', 'pop', 'pop edm', 'tropical house'], ['metal', 'power metal', 'swedish metal'], ['australian electropop', 'tropical house'], ['dance pop', 'edm', 'norwegian pop', 'pop', 'pop edm', 'tropical house'], ['latin', 'latin pop', 'pop'], ['electronic'], ['argentine hip hop', 'rap latina', 'trap argentino', 'trap latino'], ['k-pop', 'k-pop boy group'], ['dance pop', 'edm', 'house', 'pop', 'tropical house', 'uk dance'], ['reggaeton flow'], ['j-pop girl group', 'k-pop', 'k-pop girl group'], ['grime', 'uk hip hop'], ['chamber pop', 'folk-pop', 'indie folk', 'indie pop', 'indie rock', 'modern rock', 'stomp and holler'], ['sleep'], ['britpop', 'madchester', 'permanent wave', 'rock'], ['banda', 'grupera', 'norteno', 'regional mexican'], ['k-pop', 'k-pop boy group'], ['birmingham grime', 'grime', 'instrumental grime', 'rap'], ['colombian pop', 'pop reggaeton', 'reggaeton flow'], ['canadian pop', 'dance pop'], ['edm', 'progressive house', 'progressive trance', 'trance'], ['grupera', 'latin', 'latin pop', 'regional mexican'], ['latin pop'], ['bass trap'], ['danish pop', 'pop', 'scandipop'], ['bow pop', 'compositional ambient', 'neo-classical'], ['dance pop', 'edm', 'electro house', 'german dance', 'pop', 'tropical house'], ['colombian pop'], ['latin hip hop', 'mexican hip hop'], ['colombian pop', 'cumbia', 'dance pop', 'latin', 'latin pop', 'mexican pop', 'pop', 'rock en espanol', 'tropical'], ['big room', 'deep big room', 'edm', 'electro house', 'future house', 'house', 'pop', 'progressive electro house', 'progressive house', 'tropical house'], ['latin', 'latin pop'], ['canadian hip hop', 'dark trap', 'emo rap', 'ottawa rap', 'underground hip hop'], ['indie r&b'], ['argentine hip hop', 'trap argentino'], ['dance pop', 'edm', 'pop', 'tropical house', 'uk pop'], ['pop'], ['hollywood', 'post-teen pop', 'vapor pop'], ['colombian pop', 'latin'], ['australian pop', 'dance pop', 'neo mellow', 'pop', 'tropical house', 'uk pop'], ['banda', 'grupera', 'latin', 'latin pop', 'norteno', 'ranchera', 'regional mexican', 'tejano'], ['k-pop', 'k-pop boy group'], ['album rock', 'classic rock', 'mellow gold', 'rock', 'soft rock'], ['banda', 'deep regional mexican', 'regional mexican', 'regional mexican pop'], ['australian pop', 'dance pop', 'pop', 'post-teen pop', 'viral pop'], ['dancehall', 'reggae fusion'], ['dance pop', 'edm', 'liquid funk', 'pop', 'tropical house', 'uk funky', 'uk pop'], ['k-pop', 'k-pop boy group'], ['israeli pop'], ['latin', 'latin arena pop', 'latin pop', 'mexican pop', 'ranchera', 'tropical'], ['swedish pop', 'tropical house'], ['reggaeton flow'], ['latin', 'pop', 'reggaeton', 'tropical'], ['champeta', 'colombian pop', 'latin', 'latin pop', 'tropical', 'vallenato'], ['dream pop', 'el paso indie', 'shoegaze'], ['latin', 'latin pop', 'pop', 'tropical'], ['bachata', 'latin', 'latin pop', 'merengue', 'salsa choke', 'tropical'], ['neo soul'], ['grupera', 'latin pop', 'latin talent show', 'mariachi', 'ranchera'], ['k-pop', 'k-pop boy group'], ['k-pop', 'k-pop girl group'], ['dance pop', 'electropop', 'norwegian pop', 'pop', 'post-teen pop', 'tropical house'], ['musica canaria'], ['uk hip hop'], ['indie anthem-folk', 'pop', 'uk pop'], ['indie r&b', 'uk pop'], ['cantautor', 'latin', 'latin arena pop', 'latin pop', 'mexican pop', 'rock en espanol', 'spanish pop', 'tropical'], ['c-pop', 'mandopop', 'taiwan pop'], ['k-pop', 'k-pop boy group'], ['dance pop', 'gauze pop', 'pop', 'post-teen pop', 'tropical house', 'uk pop'], ['reggae fusion', 'uk reggae'], ['latin', 'latin arena pop', 'latin pop', 'mexican pop', 'pop'], ['k-pop', 'k-pop boy group'], ['k-pop'], ['alternative r&b', 'malaysian pop'], ['latin christian', 'rock cristiano'], ['aussietronica', 'australian pop', 'edm', 'gauze pop', 'house', 'pop', 'tropical house', 'vapor soul'], ['uk pop'], ['belgian edm'], ['k-pop', 'k-pop girl group'], ['grime', 'uk hip hop'], ['colombian hip hop', 'latin', 'reggaeton flow'], ['latin', 'latin arena pop', 'latin pop', 'mexican pop'], ['colombian pop', 'latin', 'latin pop', 'r&b en espanol', 'tropical'], ['adult standards', 'mellow gold', 'soft rock'], ['house', 'pop house', 'tropical house', 'uk pop'], ['bolero', 'latin pop'], ['belgian edm', 'edm', 'pop', 'tropical house'], ['deep tropical house'], ['dance pop', 'tropical house'], ['k-pop', 'k-pop boy group'], ['colombian pop', 'latin pop'], ['k-pop', 'korean pop'], ['latin pop'], ['argentine hip hop', 'trap argentino'], ['latin', 'latin arena pop', 'latin pop', 'mexican pop'], ['dance pop', 'edm', 'electro house', 'pop', 'pop edm', 'swedish tropical house', 'tropical house'], ['venezuelan hip hop'], ['bossa nova', 'latin classical', 'mpb'], ['edm', 'tropical house'], ['latin christian', 'latin worship'], ['electro house', 'pop nacional'], ['dance pop', 'electropop', 'norwegian pop', 'pop', 'tropical house'], ['swedish pop'], ['basshall', 'dutch hip hop', 'dutch house', 'dutch pop', 'dutch urban'], ['desi pop', 'filmi', 'modern bollywood'], ['colombian pop', 'cumbia', 'latin', 'latin pop', 'tropical'], ['desi pop', 'filmi', 'modern bollywood'], ['latin', 'latin arena pop', 'latin pop', 'spanish pop', 'spanish pop rock', 'tropical'], ['latin', 'latin arena pop', 'latin pop', 'mexican pop'], ['indie rock'], ['desi hip hop', 'desi pop', 'filmi', 'modern bollywood'], ['nordic house', 'tracestep'], ['grupera', 'latin', 'latin arena pop', 'latin pop', 'mexican pop'], ['latin', 'latin arena pop', 'latin pop', 'spanish pop'], ['colombian pop', 'cumbia', 'latin', 'tropical', 'vallenato'], ['norwegian pop', 'tropical house'], ['latin alternative', 'latin rock', 'mexican rock', 'rock en espanol'], ['desi pop', 'filmi', 'modern bollywood', 'sufi'], ['anime', 'j-pop'], ['latin', 'latin alternative', 'latin rock', 'mexican rock', 'rock en espanol'], ['argentine rock', 'latin alternative', 'latin rock', 'rock en espanol', 'ska argentino'], ['anime', 'j-pop', 'j-rock', 'visual kei'], ['australian indie', 'australian reggae fusion', 'reggae fusion'], [], ['k-pop'], ['desi pop', 'filmi', 'modern bollywood', 'sufi'], ['mexican hip hop', 'rap conciencia'], ['belgian pop'], [\"australian children's music\", \"children's music\"], ['french hip hop', 'rap conscient'], ['dutch house', 'dutch pop', 'tropical house'], ['australian pop', 'nz pop'], ['boy band', 'dance pop', 'europop'], ['k-pop', 'k-pop girl group'], ['colombian pop', 'latin', 'latin pop', 'pop reggaeton', 'tropical'], ['mexican hip hop', 'trap mexicano'], ['r&b en espanol', 'spanish hip hop', 'trap espanol'], ['colombian hip hop', 'colombian pop', 'cumbia', 'latin', 'latin alternative', 'latin pop', 'latin rock', 'salsa choke'], ['j-pop', 'j-rock', 'visual kei'], ['latin pop', 'reggaeton chileno', 'trap chileno'], ['mandopop', 'singaporean mandopop', 'singaporean pop'], ['desi pop', 'filmi', 'modern bollywood', 'sufi'], ['desi pop', 'filmi', 'modern bollywood', 'sufi'], ['k-pop'], ['j-pop girl group', 'k-pop', 'k-pop girl group'], ['trap espanol'], ['spanish hip hop', 'spanish pop'], ['sertanejo'], ['latin alternative', 'latin rock', 'rock en espanol'], ['australian pop', 'australian talent show'], ['norwegian pop', 'tropical house'], ['latin', 'latin pop', 'mexican pop', 'ranchera', 'rock en espanol'], ['k-pop', 'korean pop'], ['anime'], ['cantopop', 'mandopop'], ['argentine reggae', 'latin alternative', 'rock en espanol'], ['anime', 'j-pop', 'j-rock', 'otacore'], ['dance pop', 'edm', 'electronic trap', 'tropical house'], ['bass trap', 'funk carioca', 'pop nacional'], ['baile pop', 'funk carioca', 'funk das antigas'], ['chihuahua indie', 'mexican indie'], ['dance pop', 'edm', 'nordic house', 'norwegian pop', 'tropical house'], ['sertanejo universitario'], ['opm'], ['desi pop', 'filmi', 'modern bollywood', 'sufi'], ['chutney', 'desi pop', 'filmi', 'modern bollywood', 'sufi'], ['desi pop', 'modern bollywood', 'punjabi pop'], ['anime', 'anime rock', 'j-pixie', 'j-pop', 'j-poprock'], ['deep euro house', 'edm', 'german dance', 'tropical house'], ['desi pop', 'filmi', 'modern bollywood', 'sufi'], ['australian pop', 'australian singer-songwriter', 'indie anthem-folk'], ['desi pop', 'modern bollywood'], ['latin alternative', 'latin rock', 'mexican rock', 'rock en espanol', 'ska mexicano'], ['indie r&b', 'popping'], ['desi pop', 'filmi', 'modern bollywood', 'pakistani pop', 'sufi'], ['opm', 'pinoy indie', 'pinoy pop punk'], ['c-pop', 'cantopop', 'mandopop'], ['funk carioca', 'funk ostentacao'], ['uk dancehall', 'uk drill', 'uk hip hop'], ['anime', 'j-pop', 'j-poprock', 'j-rock', 'otacore'], ['latin pop', 'spanish pop', 'spanish pop rock'], ['french hip hop', 'trap francais'], ['baile pop', 'dance pop', 'funk carioca', 'pop', 'pop nacional', 'post-teen pop'], ['swedish pop'], ['k-pop', 'k-pop boy group'], ['basshall'], ['norwegian pop'], ['israeli mediterranean', 'israeli pop', 'mizrahi'], ['australian indie', 'australian reggae fusion'], ['desi pop', 'filmi', 'modern bollywood', 'sufi'], ['grime', 'uk drill', 'uk hip hop'], ['desi pop', 'filmi', 'modern bollywood', 'sufi'], ['baile pop', 'funk carioca', 'funk ostentacao'], ['dance pop', 'europop', 'hands up', 'italo dance'], ['latin pop', 'latin talent show', 'spanish pop'], ['sertanejo', 'sertanejo universitario'], ['jawaiian', 'kiwi rock', 'nz hip hop', 'nz reggae', 'polynesian pop', 'reggae rock'], ['filmi', 'modern bollywood', 'pakistani pop', 'qawwali', 'sufi'], ['desi pop', 'filmi', 'modern bollywood'], ['desi pop', 'filmi', 'modern bollywood', 'punjabi', 'punjabi pop', 'sufi'], ['modern bollywood'], ['big room', 'dance pop', 'deep pop edm', 'edm', 'electro house', 'norwegian pop', 'tropical house'], ['c-pop', 'mandopop', 'taiwan pop'], ['french hip hop', 'trap francais'], ['anime rock', 'j-pop', 'j-rock'], ['sertanejo universitario'], ['argentine rock', 'latin alternative', 'latin rock', 'rock en espanol'], ['reggaeton flow', 'trap chileno', 'trap espanol'], ['argentine hip hop', 'trap argentino'], ['desi pop', 'filmi', 'modern bollywood', 'punjabi', 'sufi'], ['belgian pop'], ['deep indian pop', 'desi pop', 'filmi', 'modern bollywood', 'sufi', 'tamil pop'], ['colombian pop', 'cumbia', 'latin', 'latin pop'], ['trap espanol'], ['desi pop', 'filmi', 'modern bollywood', 'sufi'], ['latin', 'latin pop', 'peruvian rock', 'tropical'], ['viral pop'], ['french hip hop', 'rap maroc', 'trap francais'], ['filmi', 'tamil pop'], ['mandopop'], ['classic opm', 'opm', 'pinoy reggae', 'pinoy rock'], ['classic bollywood', 'desi pop', 'filmi', 'modern bollywood', 'sufi'], ['classic arab pop', 'rai'], ['brazilian edm', 'pop nacional'], ['desi pop', 'filmi', 'modern bollywood'], ['desi pop', 'filmi', 'modern bollywood'], ['french hip hop', 'trap francais'], ['desi pop', 'filmi', 'modern bollywood', 'sufi'], ['indie anthem-folk', 'irish pop', 'tropical house'], ['c-pop', 'cantopop', 'classic cantopop', 'classic mandopop', 'classic opm', 'mandopop'], ['bhangra', 'desi pop', 'filmi', 'modern bollywood', 'punjabi', 'sufi'], ['desi pop', 'filmi', 'modern bollywood', 'sufi'], ['opm', 'pinoy indie'], ['argentine rock', 'cuarteto', 'latin alternative', 'latin rock', 'rock en espanol', 'ska argentino'], ['pinoy hip hop'], ['swedish gangsta rap', 'uk hip hop'], ['pop nacional', 'sertanejo universitario'], ['brazilian edm'], ['c-pop', 'mandopop', 'singaporean mandopop', 'singaporean pop'], ['italian hip hop'], ['australian pop'], ['francoton', 'french hip hop', 'trap francais'], ['argentine hip hop', 'reggaeton chileno', 'trap chileno'], ['desi pop', 'filmi', 'modern bollywood', 'sufi'], ['mandopop'], ['sertanejo universitario'], ['forro'], ['deep indian pop', 'desi pop', 'filmi', 'modern bollywood', 'sufi'], ['c-pop', 'mandopop', 'taiwan pop'], ['mainland chinese pop', 'mandopop'], ['bossa nova', 'mpb'], ['rap conscient', 'trap francais'], ['desi pop', 'filmi', 'modern bollywood', 'sufi'], ['mandopop'], ['desi pop', 'modern bollywood'], ['funk carioca'], ['c-pop', 'cantopop', 'chinese indie', 'classic cantopop', 'classic mandopop', 'mandopop'], ['australian hip hop', 'australian pop'], ['brazilian reggae'], ['belgian hip hop', 'french hip hop', 'rap conscient', 'trap francais'], ['dakke dak', 'danish pop'], ['desi pop', 'modern bollywood'], ['opm', 'pinoy indie', 'pinoy rock'], ['belgian hip hop', 'french hip hop', 'rap conscient', 'trap francais'], ['c-pop', 'malaysian mandopop', 'mandopop'], ['classic opm', 'opm', 'pinoy reggae', 'pinoy rock'], ['russian hip hop'], ['anime', 'anime rock', 'j-pop', 'j-rock', 'otacore'], ['trap espanol', 'trap latino'], ['desi pop', 'filmi', 'modern bollywood', 'sufi'], ['sertanejo universitario'], ['baile pop', 'funk carioca', 'funk das antigas'], ['classic opm', 'opm'], ['italian arena pop', 'italian pop'], ['anime', 'anime score', 'j-pop', 'j-pop boy group', 'j-rock'], ['danish pop'], ['mandopop'], ['c-pop', 'mandopop'], ['classic opm', 'opm'], ['c-pop', 'mandopop'], ['trap espanol'], ['german hip hop'], ['desi pop', 'filmi', 'modern bollywood'], ['modern bollywood'], ['classic opm', 'manila sound', 'opm'], ['dutch pop'], ['jawaiian', 'nz reggae', 'polynesian pop'], ['estonian hip hop', 'russian trap', 'uzbek pop'], ['v-pop'], ['francoton', 'trap francais'], ['argentine hip hop', 'trap argentino'], ['c-pop', 'chinese indie', 'mandopop'], ['desi pop', 'modern bollywood'], ['opm', 'pinoy indie', 'pinoy rock'], ['classic opm', 'opm', 'pinoy indie', 'pinoy rock'], ['argentine hip hop', 'trap argentino'], ['c-pop', 'cantopop'], ['chinese indie', 'mandopop'], ['opm', 'pinoy r&b'], ['norwegian pop', 'tropical house'], ['argentine rock', 'latin alternative', 'latin rock', 'nueva cancion', 'rock en espanol', 'rock nacional'], ['funk carioca', 'sertanejo', 'sertanejo universitario'], ['german hip hop'], ['classic opm', 'opm'], ['italian hip hop'], ['trap argentino'], ['russiavision'], ['opm', 'pinoy r&b'], ['italian arena pop'], ['funk carioca', 'pop nacional', 'sertanejo pop', 'sertanejo universitario'], ['swedish idol pop', 'swedish pop'], ['afro dancehall', 'grime', 'uk hip hop'], ['desi pop', 'modern bollywood', 'punjabi pop'], ['desi pop', 'filmi', 'modern bollywood', 'sufi'], ['cumbia pop'], ['francoton', 'french hip hop', 'trap francais'], ['classic opm', 'opm', 'pinoy alternative rap', 'pinoy hip hop', 'pinoy trap'], ['turkish pop'], ['basshall'], ['c-pop', 'mandopop', 'taiwan pop'], ['latin pop', 'pop chileno'], ['israeli pop', 'jewish pop'], ['afro house', 'kwaito house', 'south african pop'], ['opm', 'pinoy indie'], ['opm', 'pinoy hip hop', 'pinoy r&b'], ['kazakh pop'], ['desi pop', 'modern bollywood'], ['opm'], ['desi pop', 'filmi', 'modern bollywood', 'sufi'], ['belgian hip hop', 'french hip hop'], ['c-pop', 'cantopop', 'classic mandopop', 'mandopop'], ['german cloud rap', 'german hip hop'], ['german hip hop', 'german pop'], ['french hip hop', 'trap francais'], ['israeli mediterranean', 'israeli pop', 'mizrahi', 'persian pop'], ['j-pop'], ['kazakh pop'], ['russian hip hop'], ['c-pop', 'cantopop', 'mandopop'], ['lithuanian electronic'], ['c-pop', 'chinese indie', 'mandopop', 'singaporean mandopop', 'singaporean pop'], ['eurovision', 'greek pop', 'laiko'], ['argentine rock', 'argentine telepop', 'cumbia pop', 'folklore argentino', 'pop argentino', 'rock en espanol'], ['latin pop', 'spanish pop'], ['c-pop', 'cantopop', 'classic cantopop', 'mandopop'], ['pagode', 'sertanejo', 'sertanejo pop', 'sertanejo universitario'], ['rumba', 'spanish pop'], ['desi pop', 'filmi', 'modern bollywood', 'sufi'], ['argentine hip hop', 'trap argentino'], ['kazakh pop', 'russian hip hop', 'russian trap'], ['spanish pop'], ['desi pop', 'modern bollywood', 'punjabi pop'], ['pagode'], ['folk brasileiro', 'nova mpb', 'pop nacional', 'portuguese pop'], ['opm', 'pinoy indie', 'pinoy rock', 'pinoy trap'], ['arabic hip hop', 'french hip hop', 'rap maroc', 'trap francais'], ['opm', 'pinoy alternative rap', 'pinoy hip hop', 'pinoy r&b', 'pinoy rock', 'pinoy trap'], ['sertanejo', 'sertanejo universitario'], ['argentine rock', 'latin alternative', 'latin rock', 'rock en espanol'], ['c-pop', 'cantopop', 'mandopop'], ['carnaval cadiz', 'latin pop', 'spanish pop'], ['opm', 'pinoy indie'], [], ['pinoy hip hop', 'pinoy r&b'], ['sertanejo pop', 'sertanejo universitario'], ['pagode'], ['brazilian rock', 'rock alternativo brasileiro', 'rock nacional brasileiro'], ['opm', 'pinoy indie', 'pinoy reggae', 'pinoy rock', 'pop rock'], ['c-pop', 'cantopop', 'classic cantopop'], ['c-pop', 'mandopop', 'taiwan pop'], ['taiwan pop'], ['grime', 'manchester hip hop', 'uk hip hop'], ['funk carioca', 'funk ostentacao'], ['israeli mediterranean', 'israeli pop'], ['cumbia paraguaya', 'cumbia villera'], ['polish hip hop', 'polish trap'], ['folk brasileiro', 'mpb', 'nova mpb'], ['dutch hip hop', 'dutch pop'], ['dutch hip hop', 'dutch pop'], ['classic opm', 'opm', 'pinoy indie', 'pinoy reggae', 'pinoy rock', 'pop rock'], ['francoton', 'french hip hop', 'trap francais'], ['grime', 'uk hip hop'], ['opm', 'pinoy rock'], ['funk carioca', 'sertanejo pop', 'sertanejo universitario'], ['grime', 'uk drill', 'uk hip hop'], ['argentine indie'], ['german hip hop'], ['basshall', 'dutch hip hop', 'dutch pop', 'dutch urban'], ['baile pop', 'funk carioca', 'funk ostentacao'], ['belgian hip hop', 'french hip hop', 'rap conscient'], ['baile pop', 'brega funk', 'funk carioca'], ['desi pop', 'modern bollywood'], ['latin alternative', 'latin rock', 'rock en espanol'], ['classic russian rock', 'russian hip hop', 'russian pop', 'russian rock', 'ukrainian pop'], ['classic opm', 'opm', 'pinoy indie', 'pinoy rock'], ['belarusian pop'], ['arab pop', 'rif'], ['anime score', 'j-pop', 'j-pop boy group'], ['arabic hip hop', 'rap maroc'], ['classic opm', 'opm'], ['pagode', 'sertanejo universitario'], ['classic opm', 'opm', 'pinoy pop punk', 'pinoy rock'], ['french hip hop', 'trap francais'], ['anime', 'j-pop', 'j-rock'], ['dutch hip hop', 'rap maroc'], ['italian hip hop', 'italian underground hip hop', 'rap sardegna'], ['turkish pop', 'turkish rock'], ['brazilian hip hop', 'trap brasileiro'], ['russian hip hop', 'russian pop', 'russiavision', 'ukrainian pop'], ['israeli mediterranean', 'israeli pop'], ['brazilian hip hop', 'trap brasileiro'], ['uk hip hop'], ['french hip hop', 'trap francais'], ['german hip hop'], ['c-pop', 'cantopop'], ['classic opm', 'opm', 'pinoy indie', 'pinoy reggae', 'pinoy rock'], ['russian reggae'], [], ['german hip hop'], ['italian hip hop', 'italian pop', 'italian underground hip hop', 'rap napoletano'], ['mandopop'], ['c-pop', 'cantopop', 'classic cantopop'], ['german hip hop'], ['french hip hop'], ['french hip hop', 'rap conscient'], ['dutch hip hop', 'dutch pop'], ['mainland chinese pop', 'mandopop'], ['israeli mediterranean', 'mizrahi'], ['rap catalan', 'rap latina', 'trap espanol'], ['russian hip hop', 'russian trap'], ['j-pop', 'j-rock', 'japanese r&b'], ['c-pop', 'cantopop'], ['pop nacional'], ['trap espanol'], ['indonesian jazz', 'indonesian pop'], ['norwegian pop'], ['italian arena pop', 'italian hip hop', 'italian pop'], ['funk carioca', 'sertanejo', 'sertanejo pop', 'sertanejo universitario'], ['cumbia peruana', 'peruvian rock', 'tropical'], ['french hip hop', 'trap francais'], ['manchester hip hop', 'uk hip hop'], ['lithuanian pop'], ['francoton', 'trap francais'], ['christlicher rap', 'german hip hop'], ['brazilian hip hop', 'r&b brasileiro', 'trap brasileiro'], ['j-pop', 'j-rock', 'japanese alternative rock', 'japanese r&b'], ['uk hip hop'], ['italian arena pop', 'italian hip hop', 'italian pop'], ['v-pop'], ['c-pop', 'cantopop', 'classic cantopop'], ['italian arena pop', 'italian pop'], ['chinese indie', 'mandopop', 'taiwan indie', 'taiwan pop', 'taiwan singer-songwriter'], ['c-pop', 'cantopop', 'classic cantopop'], ['j-pop', 'j-punk', 'j-rock'], ['axe', 'funk carioca', 'pagode', 'pop nacional'], ['c-pop', 'mandopop'], ['israeli mediterranean', 'mizrahi'], ['c-pop', 'cantopop', 'classic cantopop', 'vintage chinese pop'], ['russian pop', 'russiavision'], ['french hip hop', 'trap francais'], ['anime rock', 'j-pop'], ['francoton', 'french hip hop', 'french pop', 'rap conscient', 'trap francais'], ['anime', 'anime score', 'j-pop', 'j-rock'], ['anime rock', 'j-pop', 'j-pop boy group'], ['funk carioca', 'funk ostentacao'], ['francoton', 'french hip hop', 'french pop'], ['cologne indie', 'german pop', 'german rock'], ['albanian hip hop'], ['turkish hip hop', 'turkish trap'], ['german cloud rap', 'german hip hop', 'latin hip hop'], ['dutch hip hop', 'dutch urban'], ['italian arena pop', 'italian pop'], ['german hip hop', 'german pop'], ['funk carioca', 'pagode', 'sertanejo universitario'], ['j-acoustic', 'j-pop'], ['chinese hip hop', 'malaysian mandopop', 'mandopop'], ['arab pop', 'egyptian pop'], ['israeli pop'], ['italian hip hop', 'milan indie', 'rap tunisien'], ['modern salsa', 'salsa peruana'], ['italian arena pop', 'italian pop'], ['belo horizonte indie', 'brazilian edm', 'nova mpb'], ['israeli mediterranean'], ['dutch hip hop', 'dutch pop'], ['francoton', 'french hip hop', 'french pop', 'trap francais'], ['c-pop', 'chinese indie', 'mandopop', 'taiwan pop', 'taiwan singer-songwriter'], ['kavkaz', 'russian trap'], ['brazilian hip hop', 'pop nacional'], ['french hip hop', 'trap francais'], ['brazilian edm', 'funk carioca', 'funk ostentacao'], ['russian hip hop', 'russian trap'], ['belgian hip hop', 'french hip hop', 'trap francais'], ['cumbia chilena'], ['turkish trap'], ['anime', 'j-pop', 'j-pop boy group', 'j-rock'], ['reading'], ['anime', 'j-acoustic', 'j-pop', 'j-rock'], ['italian arena pop', 'italian hip hop', 'italian pop'], ['german hip hop'], ['anime', 'eurobeat', 'j-idol', 'j-pop'], ['deep german hip hop', 'german hip hop', 'hamburg hip hop'], ['electro bailando'], ['uk hip hop'], ['brazilian hip hop', 'funk carioca', 'trap brasileiro'], ['j-rap', 'japanese r&b'], ['francoton', 'rap conscient'], ['anime', 'anime rock', 'j-acoustic', 'j-idol', 'j-pop', 'j-pop girl group'], ['german hip hop', 'hamburg hip hop'], ['mainland chinese pop', 'mandopop'], ['brazilian punk', 'brazilian rock', 'mpb', 'rock nacional brasileiro'], ['dutch hip hop', 'dutch pop', 'dutch urban'], ['spanish pop'], ['chinese hip hop', 'taiwan pop'], ['brazilian hip hop', 'funk carioca', 'funk ostentacao'], ['c-pop', 'cantopop'], ['dutch pop', 'dutch rock'], ['pagode', 'sertanejo universitario'], ['russian trap'], ['pagode', 'sertanejo', 'sertanejo pop', 'sertanejo universitario'], [], ['albanian hip hop', 'deep german hip hop', 'german hip hop'], ['italian hip hop'], ['mandopop'], ['francoton', 'french hip hop', 'french pop', 'trap francais'], ['israeli pop'], ['baile pop', 'pop nacional', 'r&b brasileiro'], ['norwegian indie', 'norwegian pop', 'norwegian rock'], ['french hip hop', 'trap francais'], ['chinese indie', 'mandopop'], ['dutch hip hop'], ['sertanejo pop', 'sertanejo universitario'], ['c-pop', 'cantopop'], ['sertanejo pop', 'sertanejo universitario'], ['indie viet', 'v-pop', 'vietnamese hip hop'], ['russiavision'], ['basshall', 'desi pop', 'dutch hip hop', 'dutch pop', 'dutch urban'], ['anime', 'j-idol', 'j-pop', 'j-pop boy group', 'j-poprock', 'j-rock'], ['sertanejo pop', 'sertanejo universitario'], ['mainland chinese pop'], ['brazilian edm', 'funk carioca'], ['turkish pop', 'turkish rock'], ['opm'], ['desi pop'], ['argentine rock', 'latin alternative', 'latin rock', 'rock en espanol', 'rock nacional'], ['baile pop', 'funk carioca', 'funk ostentacao'], ['indonesian pop'], ['francoton', 'french hip hop', 'rap maroc', 'rap tunisien', 'trap francais'], ['funk carioca', 'funk ostentacao', 'r&b brasileiro'], ['belgian pop'], ['romanian pop'], ['latin arena pop', 'spanish pop', 'spanish rock'], ['dutch hip hop', 'dutch pop'], ['funk carioca', 'sertanejo pop'], ['mandopop'], ['turkish hip hop'], ['chinese indie', 'mandopop', 'taiwan indie', 'taiwan pop'], ['australian hip hop', 'australian indie', 'australian pop', 'australian trap', 'pop rap'], ['indonesian pop', 'indonesian r&b'], ['israeli mediterranean', 'israeli pop', 'mizrahi'], ['brazilian hip hop', 'funk carioca', 'funk ostentacao', 'trap brasileiro'], ['anime rock', 'j-pop', 'j-rock', 'japanese alternative rock'], ['italian arena pop', 'italian pop'], ['dutch hip hop', 'dutch pop', 'dutch urban'], ['brazilian edm', 'brazilian hip hop', 'trap brasileiro'], ['anime', 'j-idol', 'j-pop', 'j-pop girl group'], ['indonesian jazz', 'indonesian pop'], ['italian arena pop', 'italian pop'], ['anime', 'j-pop', 'j-rock'], ['francoton', 'french pop'], ['sertanejo', 'sertanejo pop', 'sertanejo universitario'], ['greek pop', 'laiko'], ['j-pop', 'japanese alternative rock'], ['french hip hop', 'rap conscient', 'trap francais'], ['cantautor', 'latin rock', 'rock en espanol', 'spanish pop'], ['turkish pop', 'turkish soundtrack'], ['italian arena pop', 'italian hip hop', 'italian pop'], ['french hip hop', 'rap conscient', 'trap francais'], ['arabic hip hop', 'rap tunisien', 'rif'], ['mandopop'], ['italian hip hop'], ['israeli pop'], ['egyptian pop'], ['italian hip hop'], ['albanian hip hop', 'german hip hop'], ['israeli hip hop', 'israeli pop'], ['c-pop', 'mandopop', 'taiwan pop'], ['argentine telepop', 'folklore argentino', 'latin pop'], ['anime', 'j-idol', 'j-pop', 'j-pop boy group'], ['french hip hop', 'rap conscient', 'trap francais'], ['italian arena pop', 'italian hip hop', 'italian pop', 'rap napoletano', 'rome indie'], ['swedish pop'], ['norwegian hip hop', 'norwegian indie', 'norwegian pop', 'norwegian pop rap', 'norwegian rock'], ['indonesian pop'], ['dutch hip hop', 'dutch pop', 'dutch urban'], ['sertanejo pop'], ['mandopop', 'taiwan pop'], ['dutch hip hop', 'dutch pop'], ['classic greek pop', 'entehno', 'greek pop', 'laiko'], ['cantopop', 'mandopop'], ['mandopop', 'taiwan pop'], ['german hip hop'], ['c-pop', 'cantopop', 'classic cantopop'], ['mandopop', 'taiwan pop'], ['kizomba'], ['norwegian indie', 'norwegian pop rap'], ['french hip hop', 'rap ivoire', 'trap francais'], ['german hip hop'], ['dutch hip hop', 'dutch pop'], ['funk carioca', 'pop nacional'], ['italian arena pop', 'italian pop', 'italian pop rock'], ['c-pop', 'cantopop'], ['cumbia pop', 'pop argentino'], ['indonesian indie', 'indonesian pop', 'indonesian pop punk'], ['chinese indie', 'taiwan pop'], ['brazilian hip hop', 'funk carioca'], ['basshall', 'dutch hip hop', 'dutch pop', 'dutch urban', 'kaseko'], ['chinese hip hop'], ['german hip hop', 'german pop'], ['francoton', 'rap maroc', 'rif', 'trap francais'], ['brazilian hip hop', 'funk carioca', 'funk ostentacao'], ['greek hip hop', 'greek pop', 'greek trap'], ['axe', 'forro', 'pagode', 'sertanejo universitario'], ['german cloud rap', 'german hip hop'], ['cantopop'], ['brazilian edm', 'brazilian hip hop', 'r&b brasileiro', 'trap brasileiro'], ['german cloud rap', 'german hip hop'], ['german hip hop'], ['brazilian hip hop', 'trap brasileiro'], ['italian arena pop', 'italian pop', 'italian pop rock'], ['dutch hip hop', 'dutch pop'], ['c-pop', 'cantopop'], ['albanian hip hop', 'german hip hop'], ['classic italian pop', 'italian arena pop', 'italian pop'], ['c-pop', 'mandopop', 'taiwan pop'], ['turkish hip hop', 'turkish trap'], ['arab pop', 'palestinian pop'], ['turkish hip hop', 'turkish rock'], ['italian arena pop', 'italian hip hop', 'italian pop'], ['entehno', 'greek pop', 'laiko'], ['argentine rock', 'latin alternative', 'latin rock', 'rock en espanol', 'rock nacional', 'ska argentino'], ['v-pop'], ['mainland chinese pop', 'mandopop'], ['danish hip hop', 'danish pop'], ['french hip hop', 'rap conscient', 'trap francais'], ['chinese hip hop', 'mandopop', 'taiwan pop'], ['mandopop'], ['swedish pop'], ['israeli pop', 'israeli rock'], ['dutch hip hop'], ['polish indie', 'polish pop', 'talent show'], ['french hip hop', 'trap francais'], ['mandopop', 'taiwan pop'], ['russian trap'], ['c-pop', 'cantopop', 'mandopop'], ['french hip hop', 'neo metal', 'trap francais'], ['albanian hip hop', 'german hip hop'], ['mandopop', 'taiwan pop', 'taiwan singer-songwriter'], ['brazilian rock', 'mpb'], ['italian arena pop', 'italian hip hop', 'italian pop', 'italian reggae'], ['j-pop', 'j-pop girl group'], ['german hip hop'], ['turkish hip hop', 'turkish rock', 'turkish trap'], ['entehno', 'greek pop', 'laiko'], ['german hip hop'], ['birmingham grime', 'birmingham indie', 'grime', 'uk hip hop'], ['polish hip hop', 'polish trap'], ['romanian pop'], ['europop', 'swedish idol pop', 'swedish pop'], ['indie viet', 'rock viet', 'v-pop'], ['italian arena pop', 'italian pop', 'rome indie'], ['luk thung', 'thai idol', 'thai pop'], ['c-pop', 'cantopop'], ['israeli mediterranean', 'mizrahi'], ['arab pop', 'rai', 'rif'], ['israeli pop', 'israeli rock'], ['c-pop', 'cantopop'], ['italian hip hop'], ['anime', 'j-pop', 'j-pop boy group'], ['polish underground hip hop'], ['dutch hip hop', 'dutch pop', 'dutch urban'], ['arabic hip hop', 'rap maroc'], ['rai', 'rif'], ['romanian pop'], ['greek pop'], ['italian hip hop', 'trap italiana'], [], ['hoerspiel', 'kleine hoerspiel'], ['indonesian indie', 'indonesian pop'], ['c-pop', 'classic mandopop', 'mandopop', 'taiwan pop'], ['italian hip hop'], ['hip hop tuga', 'trap tuga'], ['italian hip hop', 'italian pop', 'italian underground hip hop', 'rap napoletano'], ['argentine rock', 'cumbia pop', 'cumbia santafesina', 'cumbia villera'], ['c-pop', 'cantopop'], ['dutch hip hop'], ['italian hip hop'], ['entehno', 'greek pop', 'laiko'], ['chinese electropop', 'mandopop', 'taiwan pop'], ['polish trap'], ['v-pop'], ['italian arena pop', 'italian pop'], ['italian hip hop', 'trap italiana'], [], ['romanian pop'], ['hoerspiel'], ['v-pop'], ['dangdut koplo', 'indonesian pop'], ['cantopop'], ['dutch hip hop', 'dutch pop', 'dutch urban'], ['c-pop', 'cantopop', 'classic cantopop', 'mandopop'], ['indonesian indie', 'indonesian pop'], ['danish hip hop', 'danish pop'], ['indonesian indie', 'indonesian jazz', 'indonesian pop'], ['french hip hop', 'rap conscient'], ['greek pop'], ['indonesian pop', 'malaysian pop'], ['dutch hip hop'], ['cumbia pop', 'latin alternative', 'latin rock', 'rock en espanol'], ['polish hip hop', 'polish trap'], ['german cloud rap', 'german hip hop'], ['arabic hip hop', 'rai', 'rap maroc'], ['francoton'], ['german hip hop'], ['italian hip hop'], ['italian alternative', 'italian hip hop', 'trap italiana'], ['entehno', 'greek pop', 'laiko'], ['chinese hip hop', 'chinese indie', 'mandopop', 'taiwan pop'], ['cumbia pop'], ['j-pop', 'j-rap', 'japanese r&b'], ['indonesian pop'], ['c-pop', 'cantopop'], ['kizomba', 'portuguese pop'], ['indonesian indie', 'indonesian pop'], ['tracestep'], ['turkish folk', 'turkish rock'], ['deep german hip hop', 'german hip hop'], ['indonesian indie', 'indonesian pop', 'indonesian rock'], ['mandopop', 'taiwan pop'], ['italian hip hop', 'rap napoletano'], ['polish hip hop', 'polish trap'], ['french hip hop', 'trap francais'], ['dutch indie', 'dutch pop', 'dutch rock'], ['polish hip hop'], ['francoton', 'french hip hop', 'trap francais'], ['deep german hip hop'], ['j-dance', 'j-division', 'j-pop', 'j-pop boy group'], ['german cloud rap', 'german hip hop', 'phonk'], ['german hip hop'], ['israeli mediterranean'], ['indonesian indie', 'indonesian pop'], ['arabic hip hop', 'rai', 'rap maroc'], ['turkish hip hop', 'turkish trap'], ['french hip hop'], ['mandopop', 'taiwan pop'], ['israeli mediterranean'], ['dutch cabaret', 'dutch pop', 'dutch rock'], ['polish hip hop', 'polish trap'], ['turkish pop', 'turkish rock'], ['indonesian pop', 'malaysian pop'], ['turkish modern jazz', 'turkish rock'], ['italian hip hop'], ['italian alternative', 'italian arena pop'], ['mandopop', 'taiwan pop'], ['turkish pop'], ['swedish pop'], ['cantautor', 'latin rock', 'spanish indie pop', 'spanish pop', 'spanish rock'], ['argentine rock', 'cumbia pop'], ['trap espanol'], ['chinese indie', 'mandopop', 'taiwan indie', 'taiwan pop', 'taiwan singer-songwriter'], ['hoerspiel', 'kleine hoerspiel'], ['turkish rock'], ['indonesian indie', 'indonesian pop'], ['anime', 'j-pop', 'japanese city pop'], ['indonesian indie', 'indonesian pop'], ['belgian edm'], ['arabic hip hop', 'rai', 'rap maroc'], ['dutch pop', 'dutch rock'], ['arabesk', 'deep turkish pop', 'turkish pop'], ['karadeniz halk muzigi', 'turkish pop'], ['turkish hip hop'], ['arab pop', 'iraqi pop', 'khaliji'], ['italian arena pop', 'italian hip hop', 'italian pop', 'rap napoletano'], ['thai pop'], ['rai', 'rif'], ['c-pop', 'cantopop', 'classic cantopop'], ['italian hip hop', 'trap italiana'], ['indonesian indie', 'indonesian pop'], ['italian hip hop'], ['rap maroc'], ['italian arena pop', 'italian hip hop', 'italian pop'], ['mandopop'], ['arab pop', 'classic arab pop', 'syrian pop'], ['j-pop', 'j-pop boy group'], ['cumbia pop'], ['polish hip hop'], ['afro house', 'kwaito', 'kwaito house', 'south african hip hop', 'south african pop'], ['turkish pop'], ['afro house', 'gqom', 'kwaito', 'kwaito house', 'south african pop'], ['french hip hop'], ['turkish pop', 'turkish rock'], ['fado', 'portuguese pop'], ['israeli hip hop', 'israeli pop'], ['indonesian pop', 'malaysian pop'], ['turkish pop'], ['italian hip hop'], ['arabesk', 'turkish rock'], ['indonesian pop'], ['indonesian indie', 'indonesian pop', 'indonesian r&b'], ['turkish pop'], ['anime', 'j-idol', 'j-pop'], ['anime', 'j-pop'], ['greek hip hop', 'greek trap'], ['argentine rock', 'cumbia pop', 'cumbia villera', 'latin alternative', 'rock en espanol'], ['entehno', 'greek pop', 'laiko'], ['french hip hop', 'trap francais'], ['arabesk', 'deep turkish pop', 'turkish pop'], ['israeli pop'], ['panamanian pop'], ['j-division', 'j-pop', 'j-pop boy group'], ['thai idol', 'thai pop', 'thai rock'], ['turkish rock', 'turkish trap'], ['german hip hop'], ['cyber metal', 'finnish metal', 'gothic metal', 'melodic death metal', 'suomi rock'], ['j-pop', 'japanese r&b'], ['indonesian indie', 'indonesian jazz', 'indonesian pop'], ['deep turkish pop', 'persian pop', 'turkish pop'], ['afro house', 'gospel', 'haitian gospel', 'kwaito', 'kwaito house', 'naija worship', 'south african choral', 'south african gospel', 'south african pop', 'world worship'], ['israeli pop'], ['israeli hip hop', 'israeli pop'], ['turkish pop'], ['dutch urban'], ['c-pop', 'cantopop', 'malaysian mandopop'], ['iraqi pop', 'khaliji'], ['italian hip hop'], ['chinese indie', 'taiwan indie', 'taiwan pop'], ['classic icelandic pop', 'icelandic folk', 'icelandic pop'], ['turkish hip hop'], ['thai hip hop', 'thai pop'], ['indonesian pop'], ['anadolu rock', 'turkish jazz', 'turkish psych', 'turkish rock'], ['thai idol', 'thai indie', 'thai pop', 'thai rock'], ['romanian pop'], ['eurovision', 'greek pop', 'laiko'], ['greek hip hop', 'greek pop', 'greek trap'], ['batida', 'funana', 'portuguese pop'], ['swedish alternative rock', 'swedish pop'], ['c-pop', 'cantopop', 'classic cantopop'], ['dangdut', 'dangdut koplo', 'indonesian indie', 'indonesian pop'], ['polish hip hop', 'polish trap'], ['turkish jazz', 'turkish pop', 'turkish psych', 'turkish rock'], ['entehno', 'greek pop', 'laiko'], ['hoerspiel'], ['turkish pop'], ['dutch pop', 'dutch rock'], ['dutch pop', 'dutch rock'], ['anime', 'j-idol', 'j-pop', 'j-pop boy group'], ['greek hip hop', 'greek trap'], ['turkish jazz', 'turkish pop', 'turkish singer-songwriter'], ['kizomba', 'portuguese pop'], ['polish hip hop', 'polish trap'], ['dutch hip hop', 'dutch pop', 'dutch urban'], ['turkish hip hop'], ['turkish pop'], ['german hip hop', 'hamburg hip hop'], ['israeli pop'], ['oyun havasi', 'turkish pop', 'turkish rock'], ['dutch indie', 'dutch pop', 'dutch rock', 'nederpop'], ['greek hip hop', 'greek pop', 'greek trap'], ['israeli hip hop', 'israeli pop'], ['indonesian indie', 'indonesian pop'], ['chinese hip hop', 'taiwan pop'], ['chinese hip hop', 'chinese indie', 'taiwan pop'], ['belgian dance', 'belgian edm'], ['polish hip hop'], ['classic indo pop', 'indonesian indie', 'indonesian pop'], ['thai idol', 'thai pop'], ['alt-idol', 'j-idol', 'j-pop', 'j-pop girl group'], ['polish hip hop', 'polish trap'], ['italian arena pop'], ['afro house', 'kwaito', 'kwaito house', 'south african pop'], ['turkish rock'], ['argentine rock', 'cumbia pop', 'latin alternative', 'latin rock', 'rock en espanol', 'rock nacional'], [], ['dutch hip hop', 'dutch urban'], ['dutch hip hop', 'dutch urban', 'ritmo kombina'], ['danish hip hop', 'danish pop'], ['turkish pop'], ['polish hip hop', 'polish trap'], ['norwegian pop', 'russelater', 'tropical house'], ['indonesian pop'], ['turkish hip hop'], ['turkish pop'], ['cantopop'], ['arab pop', 'iraqi pop', 'khaliji'], ['rai', 'rif'], ['mainland chinese pop', 'mandopop'], ['israeli pop', 'israeli rock'], ['greek hip hop', 'greek pop', 'greek trap'], ['thai idol', 'thai pop'], ['albanian pop', 'greek trap'], ['chinese indie', 'mandopop', 'taiwan pop'], ['turkish pop', 'turkish rock', 'turkish singer-songwriter'], ['israeli pop'], ['dutch hip hop'], ['italian hip hop'], ['indonesian indie', 'indonesian pop'], ['israeli mediterranean'], ['italian alternative', 'italian arena pop', 'italian hip hop'], ['indonesian pop', 'malaysian pop'], ['thai idol', 'thai indie', 'thai pop', 'thai rock'], ['danspunk', 'russelater', 'swedish eurodance'], ['entehno', 'greek pop', 'laiko'], ['danish pop'], ['anadolu rock', 'azeri traditional', 'turkish folk', 'turkish jazz', 'turkish psych', 'turkish rock'], ['cuarteto', 'cumbia pop'], ['hip hop tuga', 'portuguese pop'], ['thai idol', 'thai pop'], ['turkish folk', 'turkish jazz', 'turkish pop', 'turkish rock'], ['persian pop', 'turkish pop'], ['swedish hip hop', 'swedish pop'], ['turkish pop', 'turkish rock'], ['j-division', 'j-pop', 'j-pop boy group'], ['israeli pop', 'israeli rock'], ['indonesian indie', 'indonesian pop'], ['scandinavian r&b', 'swedish gangsta rap', 'swedish hip hop', 'swedish pop', 'swedish urban'], ['rai', 'rif'], ['polish hip hop', 'polish trap'], ['italian alternative', 'italian arena pop', 'italian hip hop', 'milan indie'], ['indonesian jazz', 'indonesian pop'], ['polish hip hop', 'polish trap'], ['turkish hip hop', 'turkish trap'], ['greek pop', 'laiko'], ['israeli pop', 'israeli rock'], ['greek hip hop', 'greek pop', 'greek trap'], ['polish hip hop', 'polish trap'], ['j-pop', 'j-punk', 'j-rock'], ['indonesian indie', 'indonesian jazz', 'indonesian pop'], ['dutch hip hop'], ['dutch hip hop', 'dutch urban'], ['israeli pop', 'israeli rock'], ['indonesian indie'], ['indonesian indie', 'indonesian jazz', 'indonesian pop'], ['dutch hip hop', 'dutch pop', 'dutch urban'], ['israeli rock'], ['hoerspiel'], ['israeli indie', 'israeli pop'], ['dutch hip hop', 'dutch pop'], ['indonesian pop'], ['indonesian indie', 'indonesian pop', 'musik anak-anak'], ['turkish folk', 'turkish jazz', 'turkish pop', 'turkish singer-songwriter'], ['hoerspiel'], ['israeli mediterranean'], ['v-pop'], ['thai pop'], ['italian hip hop'], ['polish hip hop', 'polish trap'], ['turkish pop'], ['polish hip hop'], ['entehno', 'greek pop', 'laiko'], ['thai hip hop', 'thai pop'], [], ['polish hip hop'], ['gothenburg indie', 'swedish indie rock', 'swedish pop'], ['dutch hip hop', 'dutch pop'], ['swedish idol pop', 'swedish pop'], ['gnawa', 'rai', 'rif'], ['classic arab pop', 'khaliji'], ['dutch hip hop', 'dutch pop', 'dutch urban'], ['arabic hip hop', 'gnawa', 'rai', 'rap maroc'], ['turkish alternative', 'turkish alternative rock', 'turkish pop', 'turkish rock'], ['dangdut', 'dangdut koplo'], ['czsk hip hop'], ['danish hip hop', 'danish pop'], ['polish hip hop', 'polish trap'], ['romanian pop'], ['turkish hip hop'], ['italian hip hop'], ['indonesian pop'], ['polish hip hop', 'south african gospel'], ['dutch hip hop', 'dutch pop', 'dutch urban', 'kaseko'], ['classic arab pop', 'khaliji'], ['classic greek pop', 'entehno', 'greek pop', 'laiko'], ['indonesian pop'], ['indonesian indie', 'indonesian pop'], ['israeli rock'], ['anime', 'j-pop'], ['argentine rock', 'latin alternative', 'latin rock', 'rock en espanol', 'rock nacional', 'ska argentino'], ['turkish pop'], ['dangdut', 'indonesian pop', 'malaysian pop'], ['mandopop'], ['greek hip hop', 'greek trap'], ['indie viet', 'v-pop'], ['indonesian pop'], ['israeli pop', 'israeli rock'], ['kabyle', 'rai', 'rif'], ['thai idol', 'thai indie', 'thai pop', 'thai rock'], ['europop', 'swedish pop'], ['dutch hip hop', 'dutch pop', 'kaseko'], ['danish hip hop', 'danish pop'], ['dutch pop', 'dutch rock', 'nederpop'], ['dutch hip hop', 'dutch pop', 'dutch urban'], [], ['thai idol', 'thai pop'], ['dutch hip hop', 'dutch pop', 'dutch urban'], ['polish hip hop', 'polish trap'], ['indonesian indie', 'indonesian pop', 'indonesian rock'], ['thai idol', 'thai indie', 'thai pop', 'thai rock'], ['swedish gangsta rap', 'swedish hip hop', 'swedish urban'], ['indonesian pop'], ['turkish hip hop', 'turkish trap'], ['thai idol', 'thai pop'], ['arabic hip hop', 'rai', 'rap maroc', 'rif'], ['afro house', 'kwaito', 'kwaito house', 'south african pop'], ['rai'], ['entehno', 'greek pop', 'laiko'], ['greek trap'], ['turkish pop', 'turkish rock', 'turkish singer-songwriter'], ['indonesian indie', 'indonesian pop'], ['dutch hip hop'], ['greek hip hop', 'greek pop', 'greek trap'], ['indonesian indie', 'indonesian pop'], ['thai idol', 'thai pop'], ['anime', 'j-pop', 'j-pop boy group'], ['thai hip hop', 'thai pop'], ['turkish hip hop', 'turkish trap'], ['turkish hip hop', 'turkish trap'], ['turkish rock'], ['israeli pop', 'israeli rock'], ['thai idol', 'thai pop'], ['thai pop'], ['thai idol', 'thai pop'], ['norwegian pop', 'tropical house'], ['polish hip hop'], ['norwegian indie', 'norwegian pop', 'norwegian pop rap', 'scandinavian r&b', 'tropical house'], ['italian arena pop'], ['israeli pop', 'israeli rock'], ['arabic hip hop', 'rap maroc'], ['italian alternative', 'italian hip hop', 'milan indie'], ['turkish jazz', 'turkish pop', 'turkish rock'], ['danish pop'], ['dangdut', 'dangdut koplo'], ['italian alternative', 'italian arena pop', 'rome indie'], ['chinese indie', 'mandopop', 'taiwan indie', 'taiwan pop'], [], ['chinese indie', 'taiwan indie', 'taiwan pop'], ['turkish hip hop', 'turkish trap'], ['rap maroc'], ['greek house', 'thai pop'], ['polish hip hop'], ['hip hop tuga', 'trap tuga'], ['romanian pop'], ['polish hip hop', 'polish trap'], ['canto popular uruguayo', 'cumbia pop', 'cumbia uruguaya'], ['arabic hip hop', 'rai', 'rap maroc'], ['c-pop', 'cantopop', 'chinese indie'], ['argentine rock', 'cumbia pop', 'latin alternative', 'latin rock', 'rock en espanol', 'rock nacional'], ['dutch hip hop', 'dutch pop', 'dutch urban'], ['romanian hip hop', 'romanian pop'], ['arabesk', 'deep turkish pop', 'turkish pop', 'turkish rock'], [], ['norwegian hip hop', 'norwegian indie', 'norwegian pop', 'norwegian pop rap', 'norwegian rock', 'tropical house'], ['arabesk', 'turkish folk', 'turkish pop'], [], ['arabesk', 'deep turkish pop', 'turkish pop'], ['turkish rock'], ['turkish hip hop', 'turkish pop', 'turkish trap'], ['anadolu rock', 'karadeniz halk muzigi', 'turkish folk', 'turkish jazz', 'turkish psych', 'turkish rock'], ['swedish hip hop', 'swedish pop', 'swedish reggae', 'swedish trap', 'swedish urban'], ['israeli pop', 'mizrahi'], ['indonesian indie', 'indonesian indie rock', 'indonesian pop'], ['arabic hip hop', 'rap maroc'], ['indonesian pop'], ['turkish pop'], ['czech hip hop', 'czsk hip hop'], ['turkish hip hop', 'turkish pop', 'turkish trap'], ['swedish alternative rock', 'swedish pop'], ['israeli pop', 'israeli rock'], ['polish hip hop', 'polish trap'], ['dutch indie', 'dutch pop', 'dutch rock'], ['thai hip hop', 'thai idol', 'thai pop'], ['thai pop'], ['deep turkish pop', 'turkish pop', 'turkish rock'], ['italian hip hop'], ['thai idol', 'thai pop'], ['c-pop', 'cantopop'], ['thai hip hop', 'thai pop'], ['turkish hip hop'], ['polish hip hop', 'polish trap'], ['dutch hip hop'], ['italian alternative', 'italian arena pop', 'italian hip hop'], ['israeli mediterranean'], ['indie viet', 'rock viet', 'v-pop'], ['turkish hip hop', 'turkish trap'], ['thai pop'], ['bulgarian hip hop', 'bulgarian pop', 'chalga'], ['c-pop', 'cantopop'], ['israeli pop'], ['fado'], ['dutch hip hop', 'dutch pop', 'dutch urban', 'kaseko'], ['c-pop'], ['indonesian indie', 'indonesian pop'], ['estonian electronic', 'estonian pop'], ['indonesian indie', 'indonesian jazz', 'indonesian pop', 'indonesian reggae'], ['j-pop', 'j-pop boy group'], ['indonesian pop'], ['polish indie', 'polish pop'], ['polish hip hop', 'polish trap'], ['khaliji'], ['romanian hip hop', 'romanian trap'], [], ['german pop'], ['turkish singer-songwriter'], ['israeli pop'], ['turkish pop', 'turkish rock'], ['turkish hip hop'], ['manele', 'romanian pop'], ['thai idol', 'thai pop'], ['israeli hip hop', 'israeli pop'], [], ['thai idol', 'thai pop'], ['thai idol', 'thai pop'], ['dangdut', 'indonesian pop'], ['arab pop', 'rai', 'rif'], ['dutch hip hop', 'dutch urban'], ['swedish pop', 'swedish urban'], ['israeli mediterranean'], ['danish pop'], ['swedish pop', 'swedish urban'], ['dutch hip hop', 'dutch pop', 'dutch urban'], ['dutch hip hop', 'dutch pop', 'dutch urban'], ['indonesian indie', 'indonesian pop', 'indonesian reggae', 'indonesian rock'], ['turkish pop', 'turkish rock'], ['romanian pop'], ['malaysian hip hop', 'malaysian indie', 'malaysian pop'], ['turkish hip hop', 'turkish trap'], ['turkish hip hop', 'turkish trap'], ['turkish hip hop', 'turkish pop'], ['turkish pop', 'turkish rock'], ['thai idol', 'thai indie', 'thai pop'], ['israeli pop', 'israeli rock'], ['dutch hip hop', 'dutch pop', 'dutch urban'], ['swedish pop', 'swedish urban'], ['dutch hip hop', 'dutch urban'], ['indonesian pop'], ['danspunk', 'russelater'], ['anime', 'j-acoustic', 'j-pop', 'japanese city pop'], ['j-pop', 'j-pop girl group', 'j-rock'], ['malaysian hip hop'], ['turkish pop', 'turkish rock'], ['danish hip hop', 'danish pop'], ['czech hip hop', 'czsk hip hop'], ['dutch hip hop', 'dutch urban'], ['swedish pop', 'swedish urban'], ['icelandic electronic'], ['rai'], ['polish pop', 'polish trap'], ['turkish pop'], ['turkish hip hop', 'turkish pop'], ['thai idol', 'thai indie', 'thai pop', 'thai rock'], ['hip hop tuga'], ['thai idol', 'thai indie', 'thai pop', 'thai rock'], ['czsk hip hop'], ['anadolu rock', 'turkish alternative', 'turkish alternative rock', 'turkish hip hop', 'turkish rock'], ['hip hop tuga'], ['israeli pop'], ['turkish pop', 'turkish punk', 'turkish rock'], [], ['dutch hip hop', 'dutch pop', 'dutch urban'], ['danish hip hop', 'danish pop'], ['turkish pop'], ['dutch hip hop', 'dutch pop', 'dutch urban'], ['polish alternative rock', 'polish indie', 'polish pop'], ['turkish hip hop', 'turkish trap'], ['turkish hip hop'], ['dutch hip hop', 'dutch pop', 'dutch urban'], ['danish pop'], ['thai pop'], ['classic greek rock', 'entehno', 'greek indie', 'greek pop', 'laiko'], ['bulgarian pop', 'chalga'], [], ['icelandic pop'], ['swedish pop'], ['hoerspiel'], [], ['swedish gangsta rap', 'swedish hip hop', 'swedish pop', 'swedish reggae', 'swedish urban'], ['portuguese pop'], ['turkish pop', 'turkish rock'], ['swedish gangsta rap', 'swedish hip hop', 'swedish trap', 'swedish urban'], ['turkish alternative rock', 'turkish rock'], ['europop', 'swedish idol pop', 'swedish pop'], ['swedish gangsta rap', 'swedish hip hop', 'swedish pop', 'swedish urban'], ['classic danish pop', 'danish pop'], ['hip hop tuga', 'trap tuga'], ['danspunk', 'russelater', 'swedish eurodance'], ['bulgarian pop', 'chalga'], ['bulgarian pop', 'bulgarian rock', 'chalga'], ['turkish rock'], ['dutch hip hop', 'dutch pop', 'dutch urban'], ['greek pop'], ['anime', 'j-pop', 'japanese city pop'], ['turkish hip hop'], ['icelandic hip hop', 'icelandic pop'], ['icelandic hip hop', 'icelandic pop'], ['icelandic hip hop'], ['turkish hip hop', 'turkish trap'], ['dutch hip hop', 'dutch pop', 'dutch urban'], ['lithuanian pop'], ['portuguese pop'], ['portuguese pop'], ['swedish hip hop', 'swedish pop', 'swedish urban'], ['israeli rock'], ['nordic house', 'norwegian pop', 'tropical house'], ['norwegian pop', 'tropical house'], ['albanian pop'], [], ['eurovision', 'turkish pop', 'turkish rock'], ['turkish rock'], ['classic swedish pop', 'danspunk', 'swedish pop'], ['turkish rock'], ['norwegian indie', 'norwegian pop', 'norwegian pop rap', 'tropical house'], ['thai idol', 'thai indie', 'thai pop'], ['thai idol', 'thai pop'], ['danish hip hop', 'danish pop'], ['greek trap'], ['swedish alternative rock', 'swedish hip hop', 'swedish pop', 'swedish soul'], ['turkish rock'], ['thai pop'], ['khaliji'], ['manele', 'romanian pop'], ['swedish eurodance', 'swedish hip hop', 'swedish idol pop', 'swedish pop'], ['israeli mediterranean'], ['baile pop', 'portuguese pop'], ['romanian hip hop', 'romanian trap'], ['thai idol', 'thai pop'], ['russelater'], ['dutch americana', 'dutch indie', 'dutch pop', 'dutch rock', 'dutch singer-songwriter', 'nederpop'], ['swedish urban'], ['bulgarian pop', 'chalga', 'macedonian folk'], ['classic danish pop', 'danish pop', 'danish pop rock'], ['dakke dak', 'danish pop'], ['romanian trap'], ['dutch hip hop', 'dutch urban'], ['swedish pop'], ['hip hop tuga'], ['irish hip hop'], ['danish pop', 'europop'], ['j-pop', 'j-pop boy group', 'j-rap'], ['bulgarian pop'], ['dutch hip hop', 'dutch trap', 'dutch urban'], ['norwegian pop', 'russelater'], ['dutch pop', 'dutch rock'], ['thai idol', 'thai pop'], ['romanian hip hop', 'romanian pop', 'romanian rock', 'romanian trap'], ['balkan trap', 'bulgarian pop'], [], ['swedish gangsta rap', 'swedish urban'], ['anime', 'j-pop', 'j-rap', 'japanese r&b'], ['norwegian pop', 'tropical house'], ['swedish hip hop', 'swedish pop', 'swedish urban'], ['czsk hip hop'], ['romanian hip hop', 'romanian trap'], ['finnish dance pop', 'finnish hip hop', 'finnish pop'], ['dutch hip hop', 'dutch pop', 'dutch urban'], ['estonian pop'], ['j-pop', 'j-pop boy group', 'j-rap', 'okinawan folk'], ['thai hip hop', 'thai pop'], ['icelandic hip hop', 'icelandic indie', 'icelandic pop'], ['norwegian pop', 'norwegian pop rap'], ['czsk hip hop'], ['danish alternative rock', 'danish pop'], ['thai idol', 'thai pop'], ['dutch urban'], ['belgian hip hop', 'belgian rock'], ['swedish eurodance', 'swedish gangsta rap', 'swedish hip hop', 'swedish pop'], ['thai pop'], ['thai idol', 'thai pop', 'thai rock'], ['lithuanian pop'], ['latvian pop'], [\"children's choir\"], ['african rock', 'afrikaans', 'south african pop'], ['thai idol', 'thai pop'], ['turkish pop', 'turkish rock'], ['turkish alternative', 'turkish modern jazz', 'turkish pop', 'turkish rock'], ['danish hip hop', 'danish pop'], ['romanian hip hop', 'romanian pop', 'romanian rock'], ['norges stemme', 'norwegian indie', 'norwegian pop', 'tropical house'], ['swedish hip hop', 'swedish trap', 'swedish urban'], ['bulgarian hip hop', 'bulgarian pop', 'chalga'], ['thai idol', 'thai pop'], ['classic malaysian pop', 'malaysian indie', 'malaysian pop', 'rock kapak'], ['dutch hip hop', 'dutch indie', 'dutch pop', 'dutch rock'], ['dutch hip hop', 'dutch urban'], ['classic swedish pop', 'danspunk', 'europop', 'swedish alternative rock', 'swedish eurodance', 'swedish pop'], ['thai hip hop'], ['malaysian indie', 'malaysian pop'], ['norwegian pop rap'], ['norwegian pop', 'norwegian pop rap', 'russelater', 'tropical house'], [], ['swedish gangsta rap', 'swedish hip hop', 'swedish urban'], ['czsk hip hop', 'slovak hip hop'], [], ['czech pop', 'czech rock', 'slovak pop'], ['thai idol', 'thai pop'], [], ['romanian hip hop', 'romanian rock'], ['hip hop tuga'], ['greek hip hop', 'greek trap'], ['bulgarian pop', 'chalga'], [], ['czsk hip hop'], ['bulgarian pop', 'chalga'], ['dutch pop', 'dutch rock', 'levenslied', 'nederpop'], [], ['thai pop'], ['czech pop', 'czsk hip hop', 'slovak pop'], ['thai idol', 'thai pop', 'thai rock'], ['swedish gangsta rap', 'swedish hip hop', 'swedish trap', 'swedish urban'], ['thai hip hop', 'thai pop'], ['hip hop tuga'], ['romanian electronic', 'romanian hip hop', 'romanian rock'], ['portuguese rock', 'punk tuga'], ['bulgarian hip hop', 'bulgarian pop', 'chalga'], ['dutch pop'], ['romanian hip hop', 'romanian pop'], ['dutch pop', 'dutch rock'], ['entehno', 'greek indie', 'greek pop'], ['hip hop tuga', 'portuguese pop'], [], ['romanian pop'], ['lithuanian pop'], ['lithuanian hip hop', 'lithuanian pop'], ['norwegian pop', 'tropical house'], ['hip hop tuga'], ['swedish hip hop', 'swedish pop', 'swedish urban'], ['bulgarian pop', 'chalga'], ['romanian hip hop'], ['norwegian hip hop', 'norwegian pop rap'], ['slovak hip hop'], ['classic portuguese pop', 'hip hop tuga', 'portuguese rock'], ['classic norwegian pop', 'danseband', 'norwegian country', 'norwegian pop'], ['czsk hip hop'], ['swedish hip hop', 'swedish urban'], ['czech pop', 'czech rock'], ['portuguese pop'], ['malaysian indie', 'malaysian pop', 'rock kapak'], ['thai hip hop'], ['iraqi pop'], ['bulgarian hip hop', 'bulgarian pop', 'chalga'], ['hip hop tuga', 'moombahton'], ['icelandic pop'], ['romanian hip hop', 'romanian pop', 'romanian rock'], ['czsk hip hop'], [], ['danish hip hop', 'danish pop'], ['thai hip hop'], ['swedish hip hop', 'swedish urban'], ['j-pop', 'j-rap', 'japanese r&b'], ['greek hip hop', 'greek trap'], ['czech hip hop', 'czsk hip hop'], ['portuguese pop'], ['danish hip hop', 'danish pop'], ['bulgarian pop', 'chalga'], [], ['thai idol', 'thai pop'], ['dutch pop', 'dutch rock', 'levenslied'], ['icelandic pop'], ['bulgarian hip hop', 'bulgarian pop', 'chalga'], ['czsk hip hop', 'slovak hip hop', 'slovak pop'], ['classic swedish pop', 'swedish alternative rock', 'swedish pop', 'swedish singer-songwriter'], ['romanian hip hop', 'romanian trap'], ['lithuanian hip hop', 'lithuanian pop'], ['austropop', 'volkspop'], ['malaysian pop'], ['bulgarian pop', 'chalga'], ['classic greek rock', 'entehno', 'greek indie'], ['african rock', 'afrikaans', 'south african alternative', 'south african pop'], ['lithuanian pop'], ['icelandic pop'], ['greek trap'], ['finnish dance pop', 'finnish pop', 'iskelma', 'suomi rock'], ['romanian hip hop', 'romanian pop', 'romanian trap'], ['swedish hip hop', 'swedish urban'], ['greek trap'], ['danspunk', 'swedish eurodance', 'swedish pop'], ['norwegian pop', 'norwegian pop rap', 'russelater'], ['dutch hip hop', 'dutch pop', 'dutch rock'], [], ['classic swedish pop', 'swedish jazz', 'swedish pop'], ['swedish gangsta rap', 'swedish urban'], ['bulgarian hip hop', 'bulgarian pop'], ['portuguese pop'], [], ['hungarian hip hop', 'hungarian pop'], ['dutch pop'], ['danish hip hop', 'danish pop'], ['hip hop tuga', 'portuguese pop'], ['bulgarian pop', 'chalga'], ['hungarian hip hop', 'hungarian pop', 'hungarian rock', 'magyar alternative'], ['czsk hip hop'], ['romanian trap'], ['icelandic electronic', 'icelandic hip hop', 'icelandic pop'], ['bulgarian pop', 'chalga'], ['thai pop'], ['classic swedish pop', 'danspunk', 'europop', 'swedish alternative rock', 'swedish pop'], ['finnish metal', 'finnish pop', 'suomi rock'], ['czech folk', 'czech pop', 'czech rock'], ['hip hop tuga'], ['hungarian hip hop', 'hungarian pop'], ['swedish gangsta rap', 'swedish hip hop', 'swedish urban'], ['thai pop'], ['icelandic hip hop', 'icelandic pop'], ['dutch hip hop', 'dutch pop', 'dutch rock'], [], ['norwegian pop', 'norwegian pop rap', 'swedish gangsta rap'], ['swedish hip hop', 'swedish urban'], ['lithuanian pop'], ['dakke dak', 'danish hip hop', 'danish pop'], ['czsk hip hop'], ['bulgarian pop', 'chalga'], ['bulgarian pop', 'chalga'], ['bulgarian hip hop', 'bulgarian pop', 'bulgarian rock', 'chalga'], ['swedish trap'], ['classic swedish pop', 'dansband', 'danspunk', 'swedish pop'], ['hip hop tuga'], ['hungarian pop', 'hungarian rock'], ['finnish dance pop', 'finnish pop', 'suomi rock'], ['dutch pop'], ['czsk hip hop'], ['estonian hip hop', 'estonian pop'], ['lithuanian hip hop', 'lithuanian pop'], ['icelandic hip hop', 'icelandic pop'], ['hip hop tuga'], ['czech folk', 'czech pop', 'czech rock'], ['hungarian hip hop', 'hungarian pop'], ['classic icelandic pop', 'icelandic pop', 'icelandic rock'], [], ['bulgarian hip hop', 'bulgarian pop', 'chalga'], ['czech folk', 'czech pop', 'czech rock'], ['funk ostentacao'], ['greek hip hop'], ['czsk hip hop', 'slovak hip hop', 'slovak pop'], [], ['lithuanian pop'], ['greek hip hop', 'greek trap'], ['czsk hip hop'], ['romanian hip hop', 'romanian pop', 'romanian rock'], ['romanian trap'], ['finnish dance pop', 'finnish hip hop'], ['czech hip hop', 'czsk hip hop'], ['bulgarian hip hop', 'bulgarian pop'], ['czech folk', 'czech pop', 'czech rock', 'slovak pop'], ['czsk hip hop'], ['latvian hip hop', 'latvian pop'], ['bulgarian hip hop', 'bulgarian pop', 'bulgarian rock', 'chalga'], ['romanian hip hop', 'romanian rock', 'romanian trap'], ['hip hop tuga', 'portuguese indie', 'portuguese rock'], [], ['argentine rock', 'rio de la plata', 'rock en espanol'], ['italian arena pop'], ['icelandic hip hop', 'icelandic pop'], ['bulgarian pop', 'chalga'], ['lithuanian hip hop', 'lithuanian pop'], ['norwegian country', 'norwegian pop'], ['icelandic electronic', 'icelandic pop'], ['dutch hip hop', 'dutch pop', 'dutch rock'], ['finnish dance pop', 'finnish hip hop'], ['italian arena pop'], ['romanian trap'], ['czsk hip hop'], ['bulgarian pop', 'chalga'], ['latvian pop'], ['indie surf', 'latvian indie'], ['hungarian pop', 'magyar alternative'], ['lithuanian pop'], ['lithuanian hip hop', 'lithuanian pop'], ['swedish hip hop', 'swedish urban'], ['lithuanian pop'], ['barnemusikk'], ['finnish dance pop', 'finnish hip hop', 'finnish pop'], ['finnish dance pop', 'finnish pop', 'iskelma', 'suomi rock'], ['czsk hip hop', 'slovak hip hop'], ['czsk hip hop'], ['czsk hip hop'], ['hip hop tuga'], ['bulgarian pop', 'chalga'], ['hip hop tuga', 'trap tuga'], ['hungarian hip hop'], ['czsk hip hop'], ['estonian hip hop', 'estonian pop'], ['hip hop tuga', 'trap tuga'], ['bulgarian pop'], ['czsk hip hop', 'slovak pop', 'slovak rock'], ['greek trap'], ['classic norwegian pop', 'danseband', 'norwegian country', 'norwegian pop', 'norwegian rock'], ['entehno', 'greek indie'], ['hip hop tuga', 'trap tuga'], ['czsk hip hop'], ['icelandic pop'], ['cumbia pop'], [], ['hungarian hip hop'], ['hungarian hip hop', 'hungarian pop', 'hungarian rock'], ['finnish dance pop', 'finnish hip hop', 'finnish pop', 'iskelma'], ['classic icelandic pop', 'icelandic pop'], ['latvian pop'], ['latvian pop'], ['czsk hip hop'], ['belgian rock', 'classic belgian pop', 'dutch rock'], ['czech hip hop', 'czsk hip hop'], [], [], ['finnish dance pop', 'finnish hip hop'], ['czech punk', 'czech rock'], ['hungarian pop'], ['czsk hip hop', 'slovak hip hop'], ['finnish dance pop', 'finnish hip hop', 'finnish pop', 'iskelma', 'suomi rock'], ['romanian trap'], ['lithuanian pop'], ['finnish dance pop', 'finnish pop'], ['czech pop', 'czech rock'], ['romanian trap'], ['czsk hip hop'], ['czsk hip hop'], ['hip hop tuga', 'trap tuga'], ['czech rock', 'czsk hip hop', 'slovak pop', 'slovak rock'], ['carnaval', 'levenslied'], ['lithuanian pop'], ['greek hip hop'], ['classic norwegian pop', 'danseband', 'norwegian pop', 'norwegian rock'], ['thai pop'], ['hip hop tuga', 'trap tuga'], ['czsk hip hop'], ['czsk hip hop'], ['bulgarian hip hop', 'bulgarian pop'], ['greek trap'], ['hungarian hip hop'], ['finnish dance pop', 'finnish hip hop', 'finnish pop'], ['czech folk', 'czech punk', 'czech rock'], ['finnish dance pop', 'finnish hip hop', 'finnish pop'], ['latvian pop'], ['romanian trap'], ['czsk hip hop'], ['lithuanian pop'], [], ['czech hip hop', 'czsk hip hop'], ['lithuanian pop'], ['czech hip hop', 'czsk hip hop'], ['finnish dance pop', 'finnish hip hop'], ['greek hip hop'], ['czsk hip hop'], ['barnemusikk'], ['hungarian pop', 'hungarian rock', 'magyar alternative'], ['khaliji'], ['lithuanian hip hop', 'lithuanian pop'], ['hip hop tuga'], ['hungarian pop'], ['finnish dance pop', 'finnish hip hop'], ['slovak pop'], ['icelandic hip hop', 'icelandic pop'], ['icelandic hip hop', 'icelandic pop'], ['czech pop', 'czech rock'], ['lithuanian hip hop', 'lithuanian pop'], ['czech folk', 'czech pop', 'czech rock'], ['hungarian pop', 'hungarian rock'], ['finnish dance pop', 'finnish punk', 'suomi rock'], ['finnish dance pop', 'finnish hip hop'], ['icelandic pop'], ['j-pop', 'j-pop girl group', 'j-rock', 'japanese alternative rock'], ['finnish dance pop', 'finnish hip hop', 'finnish pop'], ['latvian hip hop'], ['lithuanian pop'], ['hungarian pop', 'hungarian rock', 'magyar alternative'], ['bulgarian pop'], ['lithuanian indie', 'lithuanian pop'], ['finnish dance pop', 'finnish pop', 'iskelma', 'suomi rock'], ['lithuanian pop', 'sung poetry'], ['barnemusikk', 'classic norwegian pop'], ['hungarian hip hop'], ['hungarian pop'], ['czsk hip hop'], ['czsk hip hop'], ['czech folk', 'czech hip hop', 'czech pop', 'czech rock', 'slovak pop'], ['finnish dance pop', 'finnish pop', 'iskelma', 'suomi rock'], ['czech pop', 'czech rock', 'slovak pop'], ['classic icelandic pop', 'icelandic rock'], ['czsk hip hop'], ['hungarian pop', 'hungarian rock'], ['czsk hip hop', 'slovak hip hop'], ['finnish dance pop', 'finnish hip hop', 'finnish pop'], [], ['finnish dance pop', 'finnish hip hop', 'finnish pop', 'iskelma', 'suomi rock'], ['czech folk', 'czech pop', 'czech rock', 'slovak pop'], ['bulgarian electronic'], ['hungarian pop'], ['romanian hip hop'], ['bulgarian rock'], ['finnish dance pop', 'finnish hip hop', 'finnish pop'], ['classic iskelma', 'finnish dance pop', 'finnish pop', 'iskelma', 'suomi rock'], ['romanian trap'], ['czsk hip hop'], ['czsk hip hop'], ['lithuanian pop'], ['latvian hip hop'], ['finnish dance pop', 'finnish hip hop', 'finnish pop'], ['belgian pop', 'dutch pop', 'dutch rock'], ['finnish dance pop', 'finnish hip hop'], ['bulgarian hip hop', 'bulgarian pop', 'bulgarian rock'], ['barnsagor'], ['finnish dance pop', 'finnish hip hop'], ['latvian hip hop'], ['finnish dance pop', 'finnish hip hop', 'finnish pop'], ['iraqi pop'], ['czech pop'], ['latvian pop'], ['hungarian hip hop'], ['bulgarian hip hop'], ['czsk hip hop'], ['czsk hip hop'], ['czsk hip hop', 'slovak hip hop'], ['finnish dance pop', 'finnish pop', 'iskelma'], ['finnish dance pop', 'finnish hip hop', 'finnish pop', 'iskelma', 'suomi rock'], ['hip hop tuga'], [], ['estonian pop'], ['lithuanian indie', 'lithuanian pop'], ['dansband', 'danspunk'], ['bulgarian hip hop', 'bulgarian pop', 'bulgarian rock'], ['finnish dance pop', 'finnish hip hop', 'finnish pop'], ['belgian rock', 'classic belgian pop', 'flemish folk'], [], ['barnmusik', 'barnsagor'], ['czech folk', 'czech indie', 'czech punk', 'czech rock'], ['slovak pop'], ['finnish dance pop', 'finnish hip hop', 'finnish pop'], ['slovak pop'], ['hungarian pop', 'hungarian rock', 'magyar alternative'], ['hungarian pop', 'hungarian rock', 'magyar alternative'], [], [], [], [], ['finnish dance pop', 'finnish hip hop', 'finnish pop'], ['classic icelandic pop'], ['estonian hip hop', 'estonian pop'], ['finnish dance pop', 'finnish indie', 'finnish pop', 'iskelma', 'suomi rock'], ['finnish dance pop', 'finnish hip hop', 'finnish pop'], ['finnish dance pop', 'finnish hip hop', 'finnish pop', 'iskelma', 'suomi rock'], ['czech pop'], ['finnish dance pop', 'finnish hip hop'], ['czsk hip hop'], ['belgian hip hop'], ['hungarian pop'], ['czech folk', 'czech pop', 'czech punk', 'czech rock'], ['finnish dance pop', 'finnish hip hop'], ['latvian pop', 'latvian rock'], ['latvian indie', 'latvian pop'], [], ['finnish dance pop', 'finnish pop', 'suomi rock'], ['estonian pop'], ['finnish dance pop', 'finnish hip hop'], [], ['czsk hip hop'], ['czech pop'], [], ['latvian hip hop', 'latvian pop'], [], ['latvian hip hop', 'latvian pop'], ['classic swedish pop', 'swedish pop'], ['hungarian pop', 'hungarian rock'], [], ['belgian pop'], ['czech folk', 'czech pop', 'czech rock'], ['finnish dance pop', 'finnish hip hop', 'finnish pop', 'iskelma'], [], ['finnish dance pop', 'finnish hip hop'], ['estonian hip hop', 'estonian pop'], ['estonian pop'], ['finnish dance pop', 'finnish pop', 'iskelma', 'suomi rock'], ['belgian pop', 'classic belgian pop'], ['maltese pop'], ['j-pop'], ['estonian indie', 'estonian pop'], [], ['estonian hip hop'], ['latvian hip hop'], ['latvian pop'], ['hungarian pop', 'hungarian rock'], ['slovak pop'], ['finnish indie', 'finnish pop', 'suomi rock'], ['latvian hip hop'], [], ['slovak indie', 'slovak pop'], [], ['finnish dance pop', 'finnish hip hop', 'finnish pop', 'iskelma', 'suomi rock'], ['latvian pop'], ['finnish pop'], ['j-indie', 'j-pop', 'j-rock', 'japanese alternative rock'], ['danish hip hop', 'danish pop'], ['finnish dance pop', 'finnish hip hop'], ['finnish dance pop', 'finnish hip hop', 'finnish pop'], ['finnish pop'], ['finnish dance pop', 'finnish hip hop', 'finnish pop'], ['finnish dance pop', 'finnish hip hop'], ['czech pop'], ['czech pop', 'czech rock'], 'pop', 'dfw rap', 'electropop', 'pop', 'dance pop', 'dance pop', 'reggaeton', 'emo rap', 'detroit hip hop', 'latin', 'chicago rap', 'pop', 'rap', 'canadian pop', 'hip hop', 'reggaeton', 'conscious hip hop', 'country rap', 'canadian pop', 'dance pop', 'k-pop', 'canadian contemporary r&b', 'brostep', 'dance pop', 'cali rap', 'reggaeton flow', 'hip hop', 'trap music', 'contemporary country', 'dance pop', 'latin', 'florida rap', 'baroque pop', 'dance pop', 'british invasion', 'east coast hip hop', 'atl hip hop', 'dance pop', 'dance pop', 'contemporary country', 'glam rock', 'pop', 'hip hop', 'atl hip hop', 'modern rock', 'atl hip hop', 'trap music', 'cali rap', 'pop punk', 'contemporary country', 'contemporary country', 'hip hop', 'alternative r&b', 'hip hop', 'chicago rap', 'memphis hip hop', 'hip hop', 'hip hop', 'dance pop', 'emo', 'dark trap', 'dance pop', 'nyc rap', 'pop', 'contemporary country', 'reggaeton', 'contemporary country', 'houston rap', 'rap', 'atl hip hop', 'pop', 'hip hop', 'edm', 'alternative r&b', 'contemporary country', 'dance pop', 'hip hop', 'hip hop', 'pop', 'emo rap', 'dance pop', 'chicago drill', 'hip hop', 'edm', 'dance pop', 'emo rap', 'hip hop', 'dance pop', 'g funk', 'alternative metal', 'glam rock', 'alternative metal', 'canadian contemporary r&b', 'east coast hip hop', 'dance pop', 'dance pop', 'canadian hip hop', 'latin hip hop', 'permanent wave', 'australian dance', 'dance pop', 'dance pop', 'alternative rock', 'dance pop', 'hip hop', 'east coast hip hop', 'boy band', 'panamanian pop', 'hip hop', 'alternative r&b', 'canadian contemporary r&b', 'album rock', 'reggaeton', 'pop', 'dance pop', 'bachata', 'pop', 'complextro', 'g funk', 'hip hop', 'pop', 'dance pop', 'pop', 'album rock', 'country', 'crunk', 'big room', 'dance pop', 'atl hip hop', 'dance pop', 'hard rock', 'boston hip hop', 'chamber pop', 'metropopolis', 'album rock', 'bedroom pop', 'folk-pop', 'alternative metal', 'australian psych', 'boy band', 'pop rap', 'brostep', 'permanent wave', 'dance pop', 'british soul', 'pop', 'modern alternative rock', 'dance pop', 'dance pop', 'pop', 'reggae', 'dance pop', 'dance pop', 'neo mellow', 'pop', 'rap', 'pop', 'uk pop', 'rap', 'post-teen pop', 'trap latino', 'miami hip hop', 'rap', 'reggaeton', 'rap', 'rap', 'trap music', 'viral pop', 'rap', 'trap latino', 'west coast rap', 'country rap', 'post-teen pop', 'r&b', 'k-pop boy group', 'rap', 'progressive electro house', 'post-teen pop', 'trap music', 'trap latino', 'rap', 'trap music', 'country road', 'post-teen pop', 'tropical', 'trap music', 'pop punk', 'urban contemporary', 'rock', 'trap music', 'trap music', 'post-teen pop', 'post-teen pop', 'modern country rock', 'rock', 'post-teen pop', 'rap', 'underground hip hop', 'rock', 'trap music', 'trap music', 'cali rap', 'rock', 'country road', 'modern country rock', 'trap music', 'rap', 'trap music', 'chicago rap', 'memphis hip hop', 'rap', 'trap music', 'post-teen pop', 'pop punk', 'underground hip hop', 'post-teen pop', 'nyc rap', 'rap', 'country road', 'reggaeton', 'country road', 'trap queen', 'trap music', 'rap', 'pop', 'trap music', 'tropical house', 'trap music', 'contemporary country', 'post-teen pop', 'underground hip hop', 'underground hip hop', 'pop', 'trap music', 'pop', 'trap music', 'rap', 'uk dance', 'post-teen pop', 'lgbtq+ hip hop', 'trap music', 'pop', 'west coast rap', 'rap metal', 'rock', 'rap metal', 'pop', 'rap', 'pop', 'urban contemporary', 'vapor trap', 'trap latino', 'pop', 'pop', 'post-teen pop', 'post-teen pop', 'rock', 'urban contemporary', 'underground hip hop', 'rap', 'talent show', 'panamanian pop', 'rap', 'urban contemporary', 'post-teen pop', 'yacht rock', 'reggaeton', 'pop', 'post-teen pop', 'tropical', 'pop', 'tropical house', 'west coast rap', 'rap', 'trap music', 'uk contemporary r&b', 'pop', 'rock', 'country', 'trap music', 'tropical house', 'post-teen pop', 'urban contemporary', 'pop rap', 'thrash metal', 'rap', 'stomp and holler', 'tropical house', 'rock', 'indie r&b', 'pop', 'post-grunge', 'psychedelic rock', 'teen pop', 'pop rap', 'electro', 'rock', 'pop', 'uk pop', 'pop', 'shiver pop', 'pop', 'uk pop', 'pop rap', 'reggae', 'viral pop', 'uk pop', 'neo mellow']\n"
     ]
    }
   ],
   "source": [
    "print(genres)"
   ]
  },
  {
   "cell_type": "code",
   "execution_count": 58,
   "metadata": {},
   "outputs": [
    {
     "name": "stdout",
     "output_type": "stream",
     "text": [
      "<class 'pandas.core.frame.DataFrame'>\n",
      "RangeIndex: 2000 entries, 0 to 1999\n",
      "Data columns (total 3 columns):\n",
      "artist_name    2000 non-null object\n",
      "genres         2000 non-null object\n",
      "artist_id      2000 non-null object\n",
      "dtypes: object(3)\n",
      "memory usage: 47.0+ KB\n"
     ]
    }
   ],
   "source": []
  },
  {
   "cell_type": "code",
   "execution_count": null,
   "metadata": {},
   "outputs": [],
   "source": []
  },
  {
   "cell_type": "code",
   "execution_count": 19,
   "metadata": {},
   "outputs": [
    {
     "data": {
      "text/plain": [
       "(2000, 3)"
      ]
     },
     "execution_count": 19,
     "metadata": {},
     "output_type": "execute_result"
    }
   ],
   "source": [
    "data2 = pd.DataFrame({'artist_name':artist_name, 'genres':genres, 'artist_id':artist_id})\n",
    "data2.head()\n",
    "data2.shape"
   ]
  },
  {
   "cell_type": "code",
   "execution_count": 20,
   "metadata": {
    "scrolled": true
   },
   "outputs": [
    {
     "data": {
      "text/html": [
       "<div>\n",
       "<style scoped>\n",
       "    .dataframe tbody tr th:only-of-type {\n",
       "        vertical-align: middle;\n",
       "    }\n",
       "\n",
       "    .dataframe tbody tr th {\n",
       "        vertical-align: top;\n",
       "    }\n",
       "\n",
       "    .dataframe thead th {\n",
       "        text-align: right;\n",
       "    }\n",
       "</style>\n",
       "<table border=\"1\" class=\"dataframe\">\n",
       "  <thead>\n",
       "    <tr style=\"text-align: right;\">\n",
       "      <th></th>\n",
       "      <th>artist_name</th>\n",
       "      <th>genres</th>\n",
       "      <th>artist_id</th>\n",
       "    </tr>\n",
       "  </thead>\n",
       "  <tbody>\n",
       "    <tr>\n",
       "      <th>0</th>\n",
       "      <td>Khalid</td>\n",
       "      <td>[pop]</td>\n",
       "      <td>6LuN9FCkKOj5PcnpouEgny</td>\n",
       "    </tr>\n",
       "    <tr>\n",
       "      <th>1</th>\n",
       "      <td>Post Malone</td>\n",
       "      <td>[dfw rap, pop, rap]</td>\n",
       "      <td>246dkjvS1zLTtiykXe5h60</td>\n",
       "    </tr>\n",
       "    <tr>\n",
       "      <th>2</th>\n",
       "      <td>Billie Eilish</td>\n",
       "      <td>[electropop, pop]</td>\n",
       "      <td>6qqNVTkY8uBg9cP3Jd7DAH</td>\n",
       "    </tr>\n",
       "    <tr>\n",
       "      <th>3</th>\n",
       "      <td>Ed Sheeran</td>\n",
       "      <td>[pop, uk pop]</td>\n",
       "      <td>6eUKZXaKkcviH0Ku9w2n3V</td>\n",
       "    </tr>\n",
       "    <tr>\n",
       "      <th>4</th>\n",
       "      <td>Chris Brown</td>\n",
       "      <td>[dance pop, pop, pop rap, r&amp;b, rap]</td>\n",
       "      <td>7bXgB6jMjp9ATFy66eO08Z</td>\n",
       "    </tr>\n",
       "  </tbody>\n",
       "</table>\n",
       "</div>"
      ],
      "text/plain": [
       "     artist_name                               genres               artist_id\n",
       "0         Khalid                                [pop]  6LuN9FCkKOj5PcnpouEgny\n",
       "1    Post Malone                  [dfw rap, pop, rap]  246dkjvS1zLTtiykXe5h60\n",
       "2  Billie Eilish                    [electropop, pop]  6qqNVTkY8uBg9cP3Jd7DAH\n",
       "3     Ed Sheeran                        [pop, uk pop]  6eUKZXaKkcviH0Ku9w2n3V\n",
       "4    Chris Brown  [dance pop, pop, pop rap, r&b, rap]  7bXgB6jMjp9ATFy66eO08Z"
      ]
     },
     "execution_count": 20,
     "metadata": {},
     "output_type": "execute_result"
    }
   ],
   "source": [
    "data2.head()"
   ]
  },
  {
   "cell_type": "code",
   "execution_count": 66,
   "metadata": {},
   "outputs": [],
   "source": [
    "data2['Empty'] = data2['genres'].apply(lambda dog : 1 if len(dog) == 0 else 0)"
   ]
  },
  {
   "cell_type": "code",
   "execution_count": 68,
   "metadata": {},
   "outputs": [
    {
     "data": {
      "text/plain": [
       "0    1946\n",
       "1      54\n",
       "Name: Empty, dtype: int64"
      ]
     },
     "execution_count": 68,
     "metadata": {},
     "output_type": "execute_result"
    }
   ],
   "source": [
    "data2.Empty.value_counts()"
   ]
  },
  {
   "cell_type": "code",
   "execution_count": 80,
   "metadata": {
    "scrolled": true
   },
   "outputs": [],
   "source": [
    "data2 = data2[data2.Empty != 1]"
   ]
  },
  {
   "cell_type": "code",
   "execution_count": 81,
   "metadata": {},
   "outputs": [
    {
     "name": "stdout",
     "output_type": "stream",
     "text": [
      "<class 'pandas.core.frame.DataFrame'>\n",
      "Int64Index: 1946 entries, 0 to 1999\n",
      "Data columns (total 4 columns):\n",
      "artist_name    1946 non-null object\n",
      "genres         1946 non-null object\n",
      "artist_id      1946 non-null object\n",
      "Empty          1946 non-null int64\n",
      "dtypes: int64(1), object(3)\n",
      "memory usage: 76.0+ KB\n"
     ]
    }
   ],
   "source": [
    "data2.info()"
   ]
  },
  {
   "cell_type": "code",
   "execution_count": 82,
   "metadata": {},
   "outputs": [
    {
     "name": "stderr",
     "output_type": "stream",
     "text": [
      "C:\\Users\\perso\\Anaconda3\\envs\\learn-env\\lib\\site-packages\\ipykernel_launcher.py:7: SettingWithCopyWarning: \n",
      "A value is trying to be set on a copy of a slice from a DataFrame.\n",
      "Try using .loc[row_indexer,col_indexer] = value instead\n",
      "\n",
      "See the caveats in the documentation: http://pandas.pydata.org/pandas-docs/stable/user_guide/indexing.html#returning-a-view-versus-a-copy\n",
      "  import sys\n"
     ]
    },
    {
     "data": {
      "text/html": [
       "<div>\n",
       "<style scoped>\n",
       "    .dataframe tbody tr th:only-of-type {\n",
       "        vertical-align: middle;\n",
       "    }\n",
       "\n",
       "    .dataframe tbody tr th {\n",
       "        vertical-align: top;\n",
       "    }\n",
       "\n",
       "    .dataframe thead th {\n",
       "        text-align: right;\n",
       "    }\n",
       "</style>\n",
       "<table border=\"1\" class=\"dataframe\">\n",
       "  <thead>\n",
       "    <tr style=\"text-align: right;\">\n",
       "      <th></th>\n",
       "      <th>artist_name</th>\n",
       "      <th>genres</th>\n",
       "      <th>artist_id</th>\n",
       "      <th>Empty</th>\n",
       "      <th>genre_mc</th>\n",
       "    </tr>\n",
       "  </thead>\n",
       "  <tbody>\n",
       "    <tr>\n",
       "      <th>0</th>\n",
       "      <td>Khalid</td>\n",
       "      <td>[pop]</td>\n",
       "      <td>6LuN9FCkKOj5PcnpouEgny</td>\n",
       "      <td>0</td>\n",
       "      <td>pop</td>\n",
       "    </tr>\n",
       "    <tr>\n",
       "      <th>1</th>\n",
       "      <td>Post Malone</td>\n",
       "      <td>[dfw rap, pop, rap]</td>\n",
       "      <td>246dkjvS1zLTtiykXe5h60</td>\n",
       "      <td>0</td>\n",
       "      <td>dfw rap</td>\n",
       "    </tr>\n",
       "    <tr>\n",
       "      <th>2</th>\n",
       "      <td>Billie Eilish</td>\n",
       "      <td>[electropop, pop]</td>\n",
       "      <td>6qqNVTkY8uBg9cP3Jd7DAH</td>\n",
       "      <td>0</td>\n",
       "      <td>electropop</td>\n",
       "    </tr>\n",
       "    <tr>\n",
       "      <th>3</th>\n",
       "      <td>Ed Sheeran</td>\n",
       "      <td>[pop, uk pop]</td>\n",
       "      <td>6eUKZXaKkcviH0Ku9w2n3V</td>\n",
       "      <td>0</td>\n",
       "      <td>pop</td>\n",
       "    </tr>\n",
       "    <tr>\n",
       "      <th>4</th>\n",
       "      <td>Chris Brown</td>\n",
       "      <td>[dance pop, pop, pop rap, r&amp;b, rap]</td>\n",
       "      <td>7bXgB6jMjp9ATFy66eO08Z</td>\n",
       "      <td>0</td>\n",
       "      <td>dance pop</td>\n",
       "    </tr>\n",
       "  </tbody>\n",
       "</table>\n",
       "</div>"
      ],
      "text/plain": [
       "     artist_name                               genres               artist_id  \\\n",
       "0         Khalid                                [pop]  6LuN9FCkKOj5PcnpouEgny   \n",
       "1    Post Malone                  [dfw rap, pop, rap]  246dkjvS1zLTtiykXe5h60   \n",
       "2  Billie Eilish                    [electropop, pop]  6qqNVTkY8uBg9cP3Jd7DAH   \n",
       "3     Ed Sheeran                        [pop, uk pop]  6eUKZXaKkcviH0Ku9w2n3V   \n",
       "4    Chris Brown  [dance pop, pop, pop rap, r&b, rap]  7bXgB6jMjp9ATFy66eO08Z   \n",
       "\n",
       "   Empty    genre_mc  \n",
       "0      0         pop  \n",
       "1      0     dfw rap  \n",
       "2      0  electropop  \n",
       "3      0         pop  \n",
       "4      0   dance pop  "
      ]
     },
     "execution_count": 82,
     "metadata": {},
     "output_type": "execute_result"
    }
   ],
   "source": [
    "from collections import Counter \n",
    "  \n",
    "def most_frequent(List): \n",
    "    occurence_count = Counter(List) \n",
    "    return occurence_count.most_common(1)[0][0]\n",
    "\n",
    "data2['genre_mc'] = data2['genres'].apply(lambda fav: most_frequent(fav))\n",
    "\n",
    "data2.head()"
   ]
  },
  {
   "cell_type": "code",
   "execution_count": 90,
   "metadata": {},
   "outputs": [],
   "source": [
    "#data2 = data2.drop('Empty', axis=1)\n",
    "data2 = data2.drop('genres', axis=1)"
   ]
  },
  {
   "cell_type": "code",
   "execution_count": 91,
   "metadata": {},
   "outputs": [
    {
     "data": {
      "text/html": [
       "<div>\n",
       "<style scoped>\n",
       "    .dataframe tbody tr th:only-of-type {\n",
       "        vertical-align: middle;\n",
       "    }\n",
       "\n",
       "    .dataframe tbody tr th {\n",
       "        vertical-align: top;\n",
       "    }\n",
       "\n",
       "    .dataframe thead th {\n",
       "        text-align: right;\n",
       "    }\n",
       "</style>\n",
       "<table border=\"1\" class=\"dataframe\">\n",
       "  <thead>\n",
       "    <tr style=\"text-align: right;\">\n",
       "      <th></th>\n",
       "      <th>artist_name</th>\n",
       "      <th>artist_id</th>\n",
       "      <th>genre_mc</th>\n",
       "    </tr>\n",
       "  </thead>\n",
       "  <tbody>\n",
       "    <tr>\n",
       "      <th>1</th>\n",
       "      <td>Post Malone</td>\n",
       "      <td>246dkjvS1zLTtiykXe5h60</td>\n",
       "      <td>dfw rap</td>\n",
       "    </tr>\n",
       "    <tr>\n",
       "      <th>2</th>\n",
       "      <td>Billie Eilish</td>\n",
       "      <td>6qqNVTkY8uBg9cP3Jd7DAH</td>\n",
       "      <td>electropop</td>\n",
       "    </tr>\n",
       "    <tr>\n",
       "      <th>3</th>\n",
       "      <td>Ed Sheeran</td>\n",
       "      <td>6eUKZXaKkcviH0Ku9w2n3V</td>\n",
       "      <td>pop</td>\n",
       "    </tr>\n",
       "    <tr>\n",
       "      <th>4</th>\n",
       "      <td>Chris Brown</td>\n",
       "      <td>7bXgB6jMjp9ATFy66eO08Z</td>\n",
       "      <td>dance pop</td>\n",
       "    </tr>\n",
       "    <tr>\n",
       "      <th>5</th>\n",
       "      <td>Ariana Grande</td>\n",
       "      <td>66CXWjxzNUsdJxJ2JdwvnR</td>\n",
       "      <td>dance pop</td>\n",
       "    </tr>\n",
       "  </tbody>\n",
       "</table>\n",
       "</div>"
      ],
      "text/plain": [
       "     artist_name               artist_id    genre_mc\n",
       "1    Post Malone  246dkjvS1zLTtiykXe5h60     dfw rap\n",
       "2  Billie Eilish  6qqNVTkY8uBg9cP3Jd7DAH  electropop\n",
       "3     Ed Sheeran  6eUKZXaKkcviH0Ku9w2n3V         pop\n",
       "4    Chris Brown  7bXgB6jMjp9ATFy66eO08Z   dance pop\n",
       "5  Ariana Grande  66CXWjxzNUsdJxJ2JdwvnR   dance pop"
      ]
     },
     "execution_count": 91,
     "metadata": {},
     "output_type": "execute_result"
    }
   ],
   "source": [
    "data2.head()"
   ]
  },
  {
   "cell_type": "code",
   "execution_count": 94,
   "metadata": {},
   "outputs": [
    {
     "name": "stdout",
     "output_type": "stream",
     "text": [
      "<class 'pandas.core.frame.DataFrame'>\n",
      "Int64Index: 130663 entries, 0 to 130662\n",
      "Data columns (total 19 columns):\n",
      "artist_name         130663 non-null object\n",
      "track_id            130663 non-null object\n",
      "track_name          130663 non-null object\n",
      "acousticness        130663 non-null float64\n",
      "danceability        130663 non-null float64\n",
      "duration_ms         130663 non-null int64\n",
      "energy              130663 non-null float64\n",
      "instrumentalness    130663 non-null float64\n",
      "key                 130663 non-null int64\n",
      "liveness            130663 non-null float64\n",
      "loudness            130663 non-null float64\n",
      "mode                130663 non-null int64\n",
      "speechiness         130663 non-null float64\n",
      "tempo               130663 non-null float64\n",
      "time_signature      130663 non-null int64\n",
      "valence             130663 non-null float64\n",
      "popularity          130663 non-null int64\n",
      "artist_id           12480 non-null object\n",
      "genre_mc            12480 non-null object\n",
      "dtypes: float64(9), int64(5), object(5)\n",
      "memory usage: 19.9+ MB\n"
     ]
    }
   ],
   "source": [
    "data_all=pd.merge(data, data2, on = \"artist_name\", how = 'left')\n",
    "data_all.info()"
   ]
  },
  {
   "cell_type": "code",
   "execution_count": 95,
   "metadata": {
    "scrolled": true
   },
   "outputs": [
    {
     "data": {
      "text/html": [
       "<div>\n",
       "<style scoped>\n",
       "    .dataframe tbody tr th:only-of-type {\n",
       "        vertical-align: middle;\n",
       "    }\n",
       "\n",
       "    .dataframe tbody tr th {\n",
       "        vertical-align: top;\n",
       "    }\n",
       "\n",
       "    .dataframe thead th {\n",
       "        text-align: right;\n",
       "    }\n",
       "</style>\n",
       "<table border=\"1\" class=\"dataframe\">\n",
       "  <thead>\n",
       "    <tr style=\"text-align: right;\">\n",
       "      <th></th>\n",
       "      <th>artist_name</th>\n",
       "      <th>track_id</th>\n",
       "      <th>track_name</th>\n",
       "      <th>acousticness</th>\n",
       "      <th>danceability</th>\n",
       "      <th>duration_ms</th>\n",
       "      <th>energy</th>\n",
       "      <th>instrumentalness</th>\n",
       "      <th>key</th>\n",
       "      <th>liveness</th>\n",
       "      <th>loudness</th>\n",
       "      <th>mode</th>\n",
       "      <th>speechiness</th>\n",
       "      <th>tempo</th>\n",
       "      <th>time_signature</th>\n",
       "      <th>valence</th>\n",
       "      <th>popularity</th>\n",
       "      <th>artist_id</th>\n",
       "      <th>genre_mc</th>\n",
       "    </tr>\n",
       "  </thead>\n",
       "  <tbody>\n",
       "    <tr>\n",
       "      <th>0</th>\n",
       "      <td>YG</td>\n",
       "      <td>2RM4jf1Xa9zPgMGRDiht8O</td>\n",
       "      <td>Big Bank feat. 2 Chainz, Big Sean, Nicki Minaj</td>\n",
       "      <td>0.005820</td>\n",
       "      <td>0.743</td>\n",
       "      <td>238373</td>\n",
       "      <td>0.339</td>\n",
       "      <td>0.000</td>\n",
       "      <td>1</td>\n",
       "      <td>0.0812</td>\n",
       "      <td>-7.678</td>\n",
       "      <td>1</td>\n",
       "      <td>0.4090</td>\n",
       "      <td>203.927</td>\n",
       "      <td>4</td>\n",
       "      <td>0.118</td>\n",
       "      <td>15</td>\n",
       "      <td>0A0FS04o6zMoto8OKPsDwY</td>\n",
       "      <td>cali rap</td>\n",
       "    </tr>\n",
       "    <tr>\n",
       "      <th>1</th>\n",
       "      <td>YG</td>\n",
       "      <td>1tHDG53xJNGsItRA3vfVgs</td>\n",
       "      <td>BAND DRUM (feat. A$AP Rocky)</td>\n",
       "      <td>0.024400</td>\n",
       "      <td>0.846</td>\n",
       "      <td>214800</td>\n",
       "      <td>0.557</td>\n",
       "      <td>0.000</td>\n",
       "      <td>8</td>\n",
       "      <td>0.2860</td>\n",
       "      <td>-7.259</td>\n",
       "      <td>1</td>\n",
       "      <td>0.4570</td>\n",
       "      <td>159.009</td>\n",
       "      <td>4</td>\n",
       "      <td>0.371</td>\n",
       "      <td>0</td>\n",
       "      <td>0A0FS04o6zMoto8OKPsDwY</td>\n",
       "      <td>cali rap</td>\n",
       "    </tr>\n",
       "    <tr>\n",
       "      <th>2</th>\n",
       "      <td>R3HAB</td>\n",
       "      <td>6Wosx2euFPMT14UXiWudMy</td>\n",
       "      <td>Radio Silence</td>\n",
       "      <td>0.025000</td>\n",
       "      <td>0.603</td>\n",
       "      <td>138913</td>\n",
       "      <td>0.723</td>\n",
       "      <td>0.000</td>\n",
       "      <td>9</td>\n",
       "      <td>0.0824</td>\n",
       "      <td>-5.890</td>\n",
       "      <td>0</td>\n",
       "      <td>0.0454</td>\n",
       "      <td>114.966</td>\n",
       "      <td>4</td>\n",
       "      <td>0.382</td>\n",
       "      <td>56</td>\n",
       "      <td>NaN</td>\n",
       "      <td>NaN</td>\n",
       "    </tr>\n",
       "    <tr>\n",
       "      <th>3</th>\n",
       "      <td>Chris Cooq</td>\n",
       "      <td>3J2Jpw61sO7l6Hc7qdYV91</td>\n",
       "      <td>Lactose</td>\n",
       "      <td>0.029400</td>\n",
       "      <td>0.800</td>\n",
       "      <td>125381</td>\n",
       "      <td>0.579</td>\n",
       "      <td>0.912</td>\n",
       "      <td>5</td>\n",
       "      <td>0.0994</td>\n",
       "      <td>-12.118</td>\n",
       "      <td>0</td>\n",
       "      <td>0.0701</td>\n",
       "      <td>123.003</td>\n",
       "      <td>4</td>\n",
       "      <td>0.641</td>\n",
       "      <td>0</td>\n",
       "      <td>NaN</td>\n",
       "      <td>NaN</td>\n",
       "    </tr>\n",
       "    <tr>\n",
       "      <th>4</th>\n",
       "      <td>Chris Cooq</td>\n",
       "      <td>2jbYvQCyPgX3CdmAzeVeuS</td>\n",
       "      <td>Same - Original mix</td>\n",
       "      <td>0.000035</td>\n",
       "      <td>0.783</td>\n",
       "      <td>124016</td>\n",
       "      <td>0.792</td>\n",
       "      <td>0.878</td>\n",
       "      <td>7</td>\n",
       "      <td>0.0332</td>\n",
       "      <td>-10.277</td>\n",
       "      <td>1</td>\n",
       "      <td>0.0661</td>\n",
       "      <td>120.047</td>\n",
       "      <td>4</td>\n",
       "      <td>0.928</td>\n",
       "      <td>0</td>\n",
       "      <td>NaN</td>\n",
       "      <td>NaN</td>\n",
       "    </tr>\n",
       "  </tbody>\n",
       "</table>\n",
       "</div>"
      ],
      "text/plain": [
       "  artist_name                track_id  \\\n",
       "0          YG  2RM4jf1Xa9zPgMGRDiht8O   \n",
       "1          YG  1tHDG53xJNGsItRA3vfVgs   \n",
       "2       R3HAB  6Wosx2euFPMT14UXiWudMy   \n",
       "3  Chris Cooq  3J2Jpw61sO7l6Hc7qdYV91   \n",
       "4  Chris Cooq  2jbYvQCyPgX3CdmAzeVeuS   \n",
       "\n",
       "                                       track_name  acousticness  danceability  \\\n",
       "0  Big Bank feat. 2 Chainz, Big Sean, Nicki Minaj      0.005820         0.743   \n",
       "1                    BAND DRUM (feat. A$AP Rocky)      0.024400         0.846   \n",
       "2                                   Radio Silence      0.025000         0.603   \n",
       "3                                         Lactose      0.029400         0.800   \n",
       "4                             Same - Original mix      0.000035         0.783   \n",
       "\n",
       "   duration_ms  energy  instrumentalness  key  liveness  loudness  mode  \\\n",
       "0       238373   0.339             0.000    1    0.0812    -7.678     1   \n",
       "1       214800   0.557             0.000    8    0.2860    -7.259     1   \n",
       "2       138913   0.723             0.000    9    0.0824    -5.890     0   \n",
       "3       125381   0.579             0.912    5    0.0994   -12.118     0   \n",
       "4       124016   0.792             0.878    7    0.0332   -10.277     1   \n",
       "\n",
       "   speechiness    tempo  time_signature  valence  popularity  \\\n",
       "0       0.4090  203.927               4    0.118          15   \n",
       "1       0.4570  159.009               4    0.371           0   \n",
       "2       0.0454  114.966               4    0.382          56   \n",
       "3       0.0701  123.003               4    0.641           0   \n",
       "4       0.0661  120.047               4    0.928           0   \n",
       "\n",
       "                artist_id  genre_mc  \n",
       "0  0A0FS04o6zMoto8OKPsDwY  cali rap  \n",
       "1  0A0FS04o6zMoto8OKPsDwY  cali rap  \n",
       "2                     NaN       NaN  \n",
       "3                     NaN       NaN  \n",
       "4                     NaN       NaN  "
      ]
     },
     "execution_count": 95,
     "metadata": {},
     "output_type": "execute_result"
    }
   ],
   "source": [
    "data_all.head()"
   ]
  },
  {
   "cell_type": "code",
   "execution_count": 97,
   "metadata": {
    "scrolled": true
   },
   "outputs": [
    {
     "data": {
      "text/plain": [
       "artist_name              0\n",
       "track_id                 0\n",
       "track_name               0\n",
       "acousticness             0\n",
       "danceability             0\n",
       "duration_ms              0\n",
       "energy                   0\n",
       "instrumentalness         0\n",
       "key                      0\n",
       "liveness                 0\n",
       "loudness                 0\n",
       "mode                     0\n",
       "speechiness              0\n",
       "tempo                    0\n",
       "time_signature           0\n",
       "valence                  0\n",
       "popularity               0\n",
       "artist_id           118183\n",
       "genre_mc            118183\n",
       "dtype: int64"
      ]
     },
     "execution_count": 97,
     "metadata": {},
     "output_type": "execute_result"
    }
   ],
   "source": [
    "data_all.isnull().sum()"
   ]
  },
  {
   "cell_type": "code",
   "execution_count": 77,
   "metadata": {
    "scrolled": false
   },
   "outputs": [
    {
     "data": {
      "text/html": [
       "<div>\n",
       "<style scoped>\n",
       "    .dataframe tbody tr th:only-of-type {\n",
       "        vertical-align: middle;\n",
       "    }\n",
       "\n",
       "    .dataframe tbody tr th {\n",
       "        vertical-align: top;\n",
       "    }\n",
       "\n",
       "    .dataframe thead th {\n",
       "        text-align: right;\n",
       "    }\n",
       "</style>\n",
       "<table border=\"1\" class=\"dataframe\">\n",
       "  <thead>\n",
       "    <tr style=\"text-align: right;\">\n",
       "      <th></th>\n",
       "      <th>url</th>\n",
       "      <th>WeekID</th>\n",
       "      <th>Week Position</th>\n",
       "      <th>Song</th>\n",
       "      <th>Performer</th>\n",
       "      <th>SongID</th>\n",
       "      <th>Instance</th>\n",
       "      <th>Previous Week Position</th>\n",
       "      <th>Peak Position</th>\n",
       "      <th>Weeks on Chart</th>\n",
       "    </tr>\n",
       "  </thead>\n",
       "  <tbody>\n",
       "    <tr>\n",
       "      <th>0</th>\n",
       "      <td>https://www.billboard.com/charts/hot-100/2018-...</td>\n",
       "      <td>12/29/2018</td>\n",
       "      <td>41</td>\n",
       "      <td>(There's No Place Like) Home For The Holidays</td>\n",
       "      <td>Perry Como</td>\n",
       "      <td>(There's No Place Like) Home For The HolidaysP...</td>\n",
       "      <td>1</td>\n",
       "      <td>NaN</td>\n",
       "      <td>41</td>\n",
       "      <td>1</td>\n",
       "    </tr>\n",
       "    <tr>\n",
       "      <th>1</th>\n",
       "      <td>https://www.billboard.com/charts/hot-100/2018-...</td>\n",
       "      <td>12/29/2018</td>\n",
       "      <td>50</td>\n",
       "      <td>Christmas (Baby Please Come Home)</td>\n",
       "      <td>Darlene Love</td>\n",
       "      <td>Christmas (Baby Please Come Home)Darlene Love</td>\n",
       "      <td>1</td>\n",
       "      <td>NaN</td>\n",
       "      <td>50</td>\n",
       "      <td>1</td>\n",
       "    </tr>\n",
       "    <tr>\n",
       "      <th>2</th>\n",
       "      <td>https://www.billboard.com/charts/hot-100/2018-...</td>\n",
       "      <td>12/29/2018</td>\n",
       "      <td>100</td>\n",
       "      <td>MAMA</td>\n",
       "      <td>6ix9ine Featuring Nicki Minaj &amp; Kanye West</td>\n",
       "      <td>MAMA6ix9ine Featuring Nicki Minaj &amp; Kanye West</td>\n",
       "      <td>1</td>\n",
       "      <td>75.0</td>\n",
       "      <td>43</td>\n",
       "      <td>4</td>\n",
       "    </tr>\n",
       "    <tr>\n",
       "      <th>3</th>\n",
       "      <td>https://www.billboard.com/charts/hot-100/2018-...</td>\n",
       "      <td>12/29/2018</td>\n",
       "      <td>24</td>\n",
       "      <td>Imagine</td>\n",
       "      <td>Ariana Grande</td>\n",
       "      <td>ImagineAriana Grande</td>\n",
       "      <td>1</td>\n",
       "      <td>NaN</td>\n",
       "      <td>24</td>\n",
       "      <td>1</td>\n",
       "    </tr>\n",
       "    <tr>\n",
       "      <th>4</th>\n",
       "      <td>https://www.billboard.com/charts/hot-100/2018-...</td>\n",
       "      <td>12/29/2018</td>\n",
       "      <td>42</td>\n",
       "      <td>It's Beginning To Look A Lot Like Christmas</td>\n",
       "      <td>Perry Como &amp; The Fontane Sisters</td>\n",
       "      <td>It's Beginning To Look A Lot Like ChristmasPer...</td>\n",
       "      <td>1</td>\n",
       "      <td>NaN</td>\n",
       "      <td>42</td>\n",
       "      <td>1</td>\n",
       "    </tr>\n",
       "  </tbody>\n",
       "</table>\n",
       "</div>"
      ],
      "text/plain": [
       "                                                 url      WeekID  \\\n",
       "0  https://www.billboard.com/charts/hot-100/2018-...  12/29/2018   \n",
       "1  https://www.billboard.com/charts/hot-100/2018-...  12/29/2018   \n",
       "2  https://www.billboard.com/charts/hot-100/2018-...  12/29/2018   \n",
       "3  https://www.billboard.com/charts/hot-100/2018-...  12/29/2018   \n",
       "4  https://www.billboard.com/charts/hot-100/2018-...  12/29/2018   \n",
       "\n",
       "   Week Position                                           Song  \\\n",
       "0             41  (There's No Place Like) Home For The Holidays   \n",
       "1             50              Christmas (Baby Please Come Home)   \n",
       "2            100                                           MAMA   \n",
       "3             24                                        Imagine   \n",
       "4             42    It's Beginning To Look A Lot Like Christmas   \n",
       "\n",
       "                                    Performer  \\\n",
       "0                                  Perry Como   \n",
       "1                                Darlene Love   \n",
       "2  6ix9ine Featuring Nicki Minaj & Kanye West   \n",
       "3                               Ariana Grande   \n",
       "4            Perry Como & The Fontane Sisters   \n",
       "\n",
       "                                              SongID  Instance  \\\n",
       "0  (There's No Place Like) Home For The HolidaysP...         1   \n",
       "1      Christmas (Baby Please Come Home)Darlene Love         1   \n",
       "2     MAMA6ix9ine Featuring Nicki Minaj & Kanye West         1   \n",
       "3                               ImagineAriana Grande         1   \n",
       "4  It's Beginning To Look A Lot Like ChristmasPer...         1   \n",
       "\n",
       "   Previous Week Position  Peak Position  Weeks on Chart  \n",
       "0                     NaN             41               1  \n",
       "1                     NaN             50               1  \n",
       "2                    75.0             43               4  \n",
       "3                     NaN             24               1  \n",
       "4                     NaN             42               1  "
      ]
     },
     "execution_count": 77,
     "metadata": {},
     "output_type": "execute_result"
    }
   ],
   "source": [
    "billboard = pd.read_csv(\"billboard2018.csv\")\n",
    "billboard.head()"
   ]
  },
  {
   "cell_type": "code",
   "execution_count": 98,
   "metadata": {},
   "outputs": [],
   "source": [
    "billboard.rename(columns={'Song': 'track_name'}, inplace=True)"
   ]
  },
  {
   "cell_type": "code",
   "execution_count": 99,
   "metadata": {},
   "outputs": [
    {
     "name": "stdout",
     "output_type": "stream",
     "text": [
      "<class 'pandas.core.frame.DataFrame'>\n",
      "Int64Index: 154546 entries, 0 to 154545\n",
      "Data columns (total 28 columns):\n",
      "artist_name               154546 non-null object\n",
      "track_id                  154546 non-null object\n",
      "track_name                154546 non-null object\n",
      "acousticness              154546 non-null float64\n",
      "danceability              154546 non-null float64\n",
      "duration_ms               154546 non-null int64\n",
      "energy                    154546 non-null float64\n",
      "instrumentalness          154546 non-null float64\n",
      "key                       154546 non-null int64\n",
      "liveness                  154546 non-null float64\n",
      "loudness                  154546 non-null float64\n",
      "mode                      154546 non-null int64\n",
      "speechiness               154546 non-null float64\n",
      "tempo                     154546 non-null float64\n",
      "time_signature            154546 non-null int64\n",
      "valence                   154546 non-null float64\n",
      "popularity                154546 non-null int64\n",
      "artist_id                 15224 non-null object\n",
      "genre_mc                  15224 non-null object\n",
      "url                       26412 non-null object\n",
      "WeekID                    26412 non-null object\n",
      "Week Position             26412 non-null float64\n",
      "Performer                 26412 non-null object\n",
      "SongID                    26412 non-null object\n",
      "Instance                  26412 non-null float64\n",
      "Previous Week Position    23647 non-null float64\n",
      "Peak Position             26412 non-null float64\n",
      "Weeks on Chart            26412 non-null float64\n",
      "dtypes: float64(14), int64(5), object(9)\n",
      "memory usage: 34.2+ MB\n"
     ]
    }
   ],
   "source": [
    "data_all=pd.merge(data_all, billboard, on = \"track_name\", how = 'left')\n",
    "data_all.info()"
   ]
  },
  {
   "cell_type": "code",
   "execution_count": 103,
   "metadata": {},
   "outputs": [],
   "source": [
    "cols = ['track_id', 'artist_id', 'url', 'WeekID', 'Performer', 'SongID']\n",
    "data_all = data_all.drop(cols, axis=1)"
   ]
  },
  {
   "cell_type": "code",
   "execution_count": 104,
   "metadata": {},
   "outputs": [
    {
     "name": "stdout",
     "output_type": "stream",
     "text": [
      "<class 'pandas.core.frame.DataFrame'>\n",
      "Int64Index: 154546 entries, 0 to 154545\n",
      "Data columns (total 22 columns):\n",
      "artist_name               154546 non-null object\n",
      "track_name                154546 non-null object\n",
      "acousticness              154546 non-null float64\n",
      "danceability              154546 non-null float64\n",
      "duration_ms               154546 non-null int64\n",
      "energy                    154546 non-null float64\n",
      "instrumentalness          154546 non-null float64\n",
      "key                       154546 non-null int64\n",
      "liveness                  154546 non-null float64\n",
      "loudness                  154546 non-null float64\n",
      "mode                      154546 non-null int64\n",
      "speechiness               154546 non-null float64\n",
      "tempo                     154546 non-null float64\n",
      "time_signature            154546 non-null int64\n",
      "valence                   154546 non-null float64\n",
      "popularity                154546 non-null int64\n",
      "genre_mc                  15224 non-null object\n",
      "Week Position             26412 non-null float64\n",
      "Instance                  26412 non-null float64\n",
      "Previous Week Position    23647 non-null float64\n",
      "Peak Position             26412 non-null float64\n",
      "Weeks on Chart            26412 non-null float64\n",
      "dtypes: float64(14), int64(5), object(3)\n",
      "memory usage: 27.1+ MB\n"
     ]
    }
   ],
   "source": [
    "data_all.info()"
   ]
  },
  {
   "cell_type": "code",
   "execution_count": 107,
   "metadata": {},
   "outputs": [
    {
     "data": {
      "text/plain": [
       "baroque               3621\n",
       "dance pop             1487\n",
       "edm                   1180\n",
       "pop                    381\n",
       "k-pop                  346\n",
       "                      ... \n",
       "swedish eurodance        1\n",
       "eurovision               1\n",
       "spanish pop              1\n",
       "chinese electropop       1\n",
       "australian psych         1\n",
       "Name: genre_mc, Length: 265, dtype: int64"
      ]
     },
     "execution_count": 107,
     "metadata": {},
     "output_type": "execute_result"
    }
   ],
   "source": [
    "data_all.genre_mc.value_counts()"
   ]
  },
  {
   "cell_type": "code",
   "execution_count": null,
   "metadata": {},
   "outputs": [],
   "source": []
  }
 ],
 "metadata": {
  "kernelspec": {
   "display_name": "learn-env",
   "language": "python",
   "name": "learn-env"
  },
  "language_info": {
   "codemirror_mode": {
    "name": "ipython",
    "version": 3
   },
   "file_extension": ".py",
   "mimetype": "text/x-python",
   "name": "python",
   "nbconvert_exporter": "python",
   "pygments_lexer": "ipython3",
   "version": "3.6.9"
  },
  "toc": {
   "base_numbering": 1,
   "nav_menu": {},
   "number_sections": true,
   "sideBar": true,
   "skip_h1_title": false,
   "title_cell": "Table of Contents",
   "title_sidebar": "Contents",
   "toc_cell": false,
   "toc_position": {
    "height": "calc(100% - 180px)",
    "left": "10px",
    "top": "150px",
    "width": "341.319px"
   },
   "toc_section_display": true,
   "toc_window_display": true
  }
 },
 "nbformat": 4,
 "nbformat_minor": 2
}
