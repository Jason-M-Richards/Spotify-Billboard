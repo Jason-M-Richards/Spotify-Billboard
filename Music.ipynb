{
 "cells": [
  {
   "cell_type": "code",
   "execution_count": 1,
   "metadata": {},
   "outputs": [],
   "source": [
    "import spotipy\n",
    "from spotipy.oauth2 import SpotifyClientCredentials\n",
    "\n",
    "cid ='c6e576b519814bd694c9781e9e9c224b' \n",
    "secret = '242d413615b1486cb6404863b1e72b0c'\n",
    "\n",
    "client_credentials_manager = SpotifyClientCredentials(client_id=cid, client_secret=secret)\n",
    "sp = spotipy.Spotify(client_credentials_manager=client_credentials_manager)\n"
   ]
  },
  {
   "cell_type": "code",
   "execution_count": 2,
   "metadata": {
    "scrolled": true
   },
   "outputs": [
    {
     "data": {
      "text/html": [
       "<div>\n",
       "<style scoped>\n",
       "    .dataframe tbody tr th:only-of-type {\n",
       "        vertical-align: middle;\n",
       "    }\n",
       "\n",
       "    .dataframe tbody tr th {\n",
       "        vertical-align: top;\n",
       "    }\n",
       "\n",
       "    .dataframe thead th {\n",
       "        text-align: right;\n",
       "    }\n",
       "</style>\n",
       "<table border=\"1\" class=\"dataframe\">\n",
       "  <thead>\n",
       "    <tr style=\"text-align: right;\">\n",
       "      <th></th>\n",
       "      <th>artist_name</th>\n",
       "      <th>track_id</th>\n",
       "      <th>track_name</th>\n",
       "      <th>acousticness</th>\n",
       "      <th>danceability</th>\n",
       "      <th>duration_ms</th>\n",
       "      <th>energy</th>\n",
       "      <th>instrumentalness</th>\n",
       "      <th>key</th>\n",
       "      <th>liveness</th>\n",
       "      <th>loudness</th>\n",
       "      <th>mode</th>\n",
       "      <th>speechiness</th>\n",
       "      <th>tempo</th>\n",
       "      <th>time_signature</th>\n",
       "      <th>valence</th>\n",
       "      <th>popularity</th>\n",
       "    </tr>\n",
       "  </thead>\n",
       "  <tbody>\n",
       "    <tr>\n",
       "      <th>0</th>\n",
       "      <td>YG</td>\n",
       "      <td>2RM4jf1Xa9zPgMGRDiht8O</td>\n",
       "      <td>Big Bank feat. 2 Chainz, Big Sean, Nicki Minaj</td>\n",
       "      <td>0.005820</td>\n",
       "      <td>0.743</td>\n",
       "      <td>238373</td>\n",
       "      <td>0.339</td>\n",
       "      <td>0.000</td>\n",
       "      <td>1</td>\n",
       "      <td>0.0812</td>\n",
       "      <td>-7.678</td>\n",
       "      <td>1</td>\n",
       "      <td>0.4090</td>\n",
       "      <td>203.927</td>\n",
       "      <td>4</td>\n",
       "      <td>0.118</td>\n",
       "      <td>15</td>\n",
       "    </tr>\n",
       "    <tr>\n",
       "      <th>1</th>\n",
       "      <td>YG</td>\n",
       "      <td>1tHDG53xJNGsItRA3vfVgs</td>\n",
       "      <td>BAND DRUM (feat. A$AP Rocky)</td>\n",
       "      <td>0.024400</td>\n",
       "      <td>0.846</td>\n",
       "      <td>214800</td>\n",
       "      <td>0.557</td>\n",
       "      <td>0.000</td>\n",
       "      <td>8</td>\n",
       "      <td>0.2860</td>\n",
       "      <td>-7.259</td>\n",
       "      <td>1</td>\n",
       "      <td>0.4570</td>\n",
       "      <td>159.009</td>\n",
       "      <td>4</td>\n",
       "      <td>0.371</td>\n",
       "      <td>0</td>\n",
       "    </tr>\n",
       "    <tr>\n",
       "      <th>2</th>\n",
       "      <td>R3HAB</td>\n",
       "      <td>6Wosx2euFPMT14UXiWudMy</td>\n",
       "      <td>Radio Silence</td>\n",
       "      <td>0.025000</td>\n",
       "      <td>0.603</td>\n",
       "      <td>138913</td>\n",
       "      <td>0.723</td>\n",
       "      <td>0.000</td>\n",
       "      <td>9</td>\n",
       "      <td>0.0824</td>\n",
       "      <td>-5.890</td>\n",
       "      <td>0</td>\n",
       "      <td>0.0454</td>\n",
       "      <td>114.966</td>\n",
       "      <td>4</td>\n",
       "      <td>0.382</td>\n",
       "      <td>56</td>\n",
       "    </tr>\n",
       "    <tr>\n",
       "      <th>3</th>\n",
       "      <td>Chris Cooq</td>\n",
       "      <td>3J2Jpw61sO7l6Hc7qdYV91</td>\n",
       "      <td>Lactose</td>\n",
       "      <td>0.029400</td>\n",
       "      <td>0.800</td>\n",
       "      <td>125381</td>\n",
       "      <td>0.579</td>\n",
       "      <td>0.912</td>\n",
       "      <td>5</td>\n",
       "      <td>0.0994</td>\n",
       "      <td>-12.118</td>\n",
       "      <td>0</td>\n",
       "      <td>0.0701</td>\n",
       "      <td>123.003</td>\n",
       "      <td>4</td>\n",
       "      <td>0.641</td>\n",
       "      <td>0</td>\n",
       "    </tr>\n",
       "    <tr>\n",
       "      <th>4</th>\n",
       "      <td>Chris Cooq</td>\n",
       "      <td>2jbYvQCyPgX3CdmAzeVeuS</td>\n",
       "      <td>Same - Original mix</td>\n",
       "      <td>0.000035</td>\n",
       "      <td>0.783</td>\n",
       "      <td>124016</td>\n",
       "      <td>0.792</td>\n",
       "      <td>0.878</td>\n",
       "      <td>7</td>\n",
       "      <td>0.0332</td>\n",
       "      <td>-10.277</td>\n",
       "      <td>1</td>\n",
       "      <td>0.0661</td>\n",
       "      <td>120.047</td>\n",
       "      <td>4</td>\n",
       "      <td>0.928</td>\n",
       "      <td>0</td>\n",
       "    </tr>\n",
       "  </tbody>\n",
       "</table>\n",
       "</div>"
      ],
      "text/plain": [
       "  artist_name                track_id  \\\n",
       "0          YG  2RM4jf1Xa9zPgMGRDiht8O   \n",
       "1          YG  1tHDG53xJNGsItRA3vfVgs   \n",
       "2       R3HAB  6Wosx2euFPMT14UXiWudMy   \n",
       "3  Chris Cooq  3J2Jpw61sO7l6Hc7qdYV91   \n",
       "4  Chris Cooq  2jbYvQCyPgX3CdmAzeVeuS   \n",
       "\n",
       "                                       track_name  acousticness  danceability  \\\n",
       "0  Big Bank feat. 2 Chainz, Big Sean, Nicki Minaj      0.005820         0.743   \n",
       "1                    BAND DRUM (feat. A$AP Rocky)      0.024400         0.846   \n",
       "2                                   Radio Silence      0.025000         0.603   \n",
       "3                                         Lactose      0.029400         0.800   \n",
       "4                             Same - Original mix      0.000035         0.783   \n",
       "\n",
       "   duration_ms  energy  instrumentalness  key  liveness  loudness  mode  \\\n",
       "0       238373   0.339             0.000    1    0.0812    -7.678     1   \n",
       "1       214800   0.557             0.000    8    0.2860    -7.259     1   \n",
       "2       138913   0.723             0.000    9    0.0824    -5.890     0   \n",
       "3       125381   0.579             0.912    5    0.0994   -12.118     0   \n",
       "4       124016   0.792             0.878    7    0.0332   -10.277     1   \n",
       "\n",
       "   speechiness    tempo  time_signature  valence  popularity  \n",
       "0       0.4090  203.927               4    0.118          15  \n",
       "1       0.4570  159.009               4    0.371           0  \n",
       "2       0.0454  114.966               4    0.382          56  \n",
       "3       0.0701  123.003               4    0.641           0  \n",
       "4       0.0661  120.047               4    0.928           0  "
      ]
     },
     "execution_count": 2,
     "metadata": {},
     "output_type": "execute_result"
    }
   ],
   "source": [
    "import pandas as pd\n",
    "data = pd.read_csv('SpotifyAudioFeaturesApril2019.csv')\n",
    "data.head()"
   ]
  },
  {
   "cell_type": "code",
   "execution_count": 3,
   "metadata": {},
   "outputs": [
    {
     "data": {
      "text/plain": [
       "Johann Sebastian Bach      3621\n",
       "Wolfgang Amadeus Mozart    1755\n",
       "Armin van Buuren           1124\n",
       "Ludwig van Beethoven        928\n",
       "Frédéric Chopin             614\n",
       "                           ... \n",
       "Acherontas                    1\n",
       "Deep Gill                     1\n",
       "Dinker kalvala                1\n",
       "Los Rieleros Del Norte        1\n",
       "Cast - Elena of Avalor        1\n",
       "Name: artist_name, Length: 34621, dtype: int64"
      ]
     },
     "execution_count": 3,
     "metadata": {},
     "output_type": "execute_result"
    }
   ],
   "source": [
    "data.artist_name.value_counts()"
   ]
  },
  {
   "cell_type": "code",
   "execution_count": 6,
   "metadata": {},
   "outputs": [],
   "source": [
    "#initial webscraping of Spotify for artist information\n",
    "artist_name = []\n",
    "genres = []\n",
    "artist_id = []\n",
    "\n",
    "for i in range(0,9999,1):\n",
    "    artist_results = sp.search(q='year:2018', type='artist', limit=1,offset=i)\n",
    "    for i, t in enumerate(artist_results['artists']['items']):\n",
    "        artist_name.append(t['name'])\n",
    "        genres.append(t['genres'])\n",
    "        artist_id.append(t['id'])"
   ]
  },
  {
   "cell_type": "code",
   "execution_count": 7,
   "metadata": {
    "scrolled": true
   },
   "outputs": [
    {
     "data": {
      "text/plain": [
       "2000"
      ]
     },
     "execution_count": 7,
     "metadata": {},
     "output_type": "execute_result"
    }
   ],
   "source": [
    "len(artist_id)"
   ]
  },
  {
   "cell_type": "code",
   "execution_count": 8,
   "metadata": {
    "scrolled": true
   },
   "outputs": [
    {
     "name": "stdout",
     "output_type": "stream",
     "text": [
      "[['pop'], ['dfw rap', 'pop', 'rap'], ['electropop', 'pop'], ['pop', 'pop rap', 'rap'], ['pop', 'uk pop'], ['chicago rap', 'trap music'], ['dance pop', 'pop', 'pop rap', 'r&b', 'rap'], ['dance pop', 'pop', 'post-teen pop'], ['reggaeton', 'trap latino'], ['emo rap', 'miami hip hop'], ['hip hop', 'new orleans rap', 'pop', 'pop rap', 'rap', 'trap music'], ['detroit hip hop', 'g funk', 'hip hop', 'rap'], ['latin', 'reggaeton'], ['chicago rap', 'hip hop', 'pop rap', 'rap'], ['rap', 'trap music'], ['philly rap', 'rap', 'trap music'], ['pop', 'rap'], ['dance pop', 'hip pop', 'pop', 'pop rap', 'post-teen pop', 'rap'], ['dance pop', 'pop', 'post-teen pop'], ['canadian pop', 'pop', 'viral pop'], ['hip hop', 'rap'], ['conscious hip hop', 'hip hop', 'pop rap', 'rap', 'west coast rap'], ['canadian pop', 'dance pop', 'pop', 'post-teen pop'], ['country rap'], ['k-pop', 'k-pop boy group'], ['canadian contemporary r&b', 'canadian pop', 'hip hop', 'pop', 'rap'], ['brostep', 'progressive electro house'], ['dance pop', 'pop', 'post-teen pop'], ['conscious hip hop', 'dmv rap', 'hip hop', 'pop rap', 'rap'], ['cali rap', 'hip hop', 'pop', 'pop rap', 'rap', 'southern hip hop', 'trap music'], ['reggaeton flow', 'trap latino'], ['trap music'], ['hip hop', 'rap'], ['trap music'], ['contemporary country', 'country road'], ['latin', 'latin hip hop', 'pop', 'reggaeton', 'tropical'], ['dance pop', 'electropop', 'etherpop', 'indie poptimism', 'pop', 'post-teen pop'], ['florida rap', 'miami hip hop', 'pop', 'pop rap', 'rap', 'southern hip hop', 'trap music'], ['baroque pop', 'emo', 'modern rock', 'pop punk'], ['dance pop', 'pop', 'post-teen pop', 'r&b', 'urban contemporary'], ['british invasion', 'merseybeat', 'psychedelic rock', 'rock'], ['electropop', 'pop', 'tropical house'], ['trap music'], ['hip hop', 'pittsburgh rap', 'pop', 'pop rap', 'rap', 'southern hip hop', 'trap music'], ['dance pop', 'pop', 'post-teen pop'], ['dance pop', 'pop', 'post-teen pop'], ['glam rock', 'rock'], ['contemporary country', 'country', 'country pop', 'country road', 'modern country rock'], ['rap', 'trap music'], ['atl hip hop', 'hip hop', 'pop', 'rap', 'trap music', 'underground hip hop'], ['hip hop', 'pittsburgh rap', 'pop rap', 'rap'], ['hip hop', 'indie pop rap', 'pop', 'pop rap', 'rap'], ['modern rock', 'rock'], [], ['cali rap'], ['pop punk', 'rock'], ['contemporary country'], ['latin', 'latin hip hop', 'pop', 'reggaeton', 'tropical'], ['contemporary country', 'country', 'country road', 'modern country rock'], ['hip hop', 'pop rap', 'rap', 'southern hip hop', 'trap music'], ['hip hop', 'pop', 'pop rap', 'rap', 'trap music'], ['alternative r&b', 'hip hop', 'lgbtq+ hip hop', 'pop', 'rap'], ['latin', 'reggaeton', 'trap latino', 'tropical'], ['chicago rap'], ['alternative r&b', 'viral pop'], ['miami hip hop', 'rap', 'trap music', 'underground hip hop'], ['canadian hip hop', 'hip hop', 'pop', 'pop rap', 'rap', 'southern hip hop', 'toronto rap', 'trap music'], ['hip hop', 'pop', 'pop rap', 'rap', 'southern hip hop', 'trap music'], ['dark trap', 'new orleans rap', 'underground hip hop'], ['emo', 'modern rock', 'pop punk'], ['hip hop', 'pop rap', 'rap'], ['dance pop', 'pop', 'post-teen pop'], ['dance pop', 'pop', 'post-teen pop'], ['nyc rap'], ['houston rap', 'pop', 'trap queen'], ['pop'], ['contemporary country', 'country', 'country road'], ['reggaeton'], ['contemporary country', 'country', 'country road'], ['rap', 'southern hip hop', 'trap music'], ['chicago rap', 'dance pop', 'hip hop', 'pop', 'pop rap', 'r&b', 'rap', 'southern hip hop', 'trap music', 'urban contemporary'], ['edm', 'electropop', 'pop', 'tropical house'], ['atl hip hop', 'hip hop', 'pop', 'pop rap', 'rap'], ['pop'], ['alternative r&b', 'atl hip hop', 'hip hop', 'pop', 'pop rap', 'rap', 'trap music'], ['edm', 'pop', 'tropical house'], ['dance pop', 'pop', 'post-teen pop'], ['hip hop', 'miami hip hop', 'pop', 'pop rap', 'rap', 'southern hip hop', 'trap music'], ['contemporary country'], ['dance pop', 'pop', 'post-teen pop', 'uk pop'], ['pop'], ['hip hop', 'pop', 'pop rap', 'rap', 'southern hip hop', 'trap music', 'underground hip hop'], ['emo rap', 'trap music'], ['dmv rap', 'hip hop', 'pop rap', 'rap', 'trap music', 'underground hip hop'], ['bmore', 'edm', 'moombahton', 'ninja', 'pop'], ['hip hop', 'pop', 'pop rap', 'rap'], ['edm', 'electro house', 'house', 'pop', 'progressive house', 'uk dance'], ['conscious hip hop', 'hip hop', 'pop rap', 'rap', 'southern hip hop', 'trap music'], ['hip hop', 'pop', 'pop rap', 'rap', 'southern hip hop', 'trap music'], ['emo rap', 'lgbtq+ hip hop'], ['alternative metal', 'nu metal', 'post-grunge', 'rap metal'], ['dance pop', 'electropop', 'pop'], ['alternative metal', 'nu metal', 'post-grunge', 'rap metal'], ['dance pop', 'pop', 'post-teen pop'], ['glam rock', 'mellow gold', 'piano rock', 'rock'], ['canadian contemporary r&b', 'pop'], ['east coast hip hop', 'gangster rap', 'hip hop', 'pop rap', 'rap'], ['dance pop', 'pop', 'pop rap', 'r&b', 'rap', 'urban contemporary'], ['dance pop', 'edm', 'electropop', 'metropopolis', 'pop', 'post-teen pop', 'tropical house', 'uk pop'], ['canadian hip hop', 'dark trap', 'underground hip hop', 'vapor trap'], ['latin hip hop', 'trap latino'], ['permanent wave', 'pop'], ['dance pop', 'hip hop', 'pop', 'pop rap', 'r&b', 'rap', 'southern hip hop', 'trap music', 'urban contemporary'], ['dance pop', 'pop', 'post-teen pop', 'uk pop'], ['alternative rock', 'funk metal', 'funk rock', 'permanent wave', 'post-grunge', 'rock'], ['dance pop', 'pop', 'post-teen pop'], ['panamanian pop'], ['dance pop', 'pop', 'post-teen pop', 'uk pop'], ['canadian contemporary r&b', 'dance pop', 'pop', 'post-teen pop', 'uk pop'], ['alternative r&b', 'dance pop', 'pop', 'pop rap', 'r&b', 'rap', 'urban contemporary'], ['australian dance', 'australian pop', 'pop'], ['album rock', 'classic rock', 'mellow gold', 'rock', 'soft rock', 'yacht rock'], ['reggaeton'], ['pop', 'uk pop'], ['pop'], ['bachata', 'latin', 'tropical'], ['dance pop', 'pop', 'post-teen pop'], ['complextro', 'dance pop', 'edm', 'electro house', 'german techno', 'pop', 'post-teen pop', 'tropical house'], ['album rock', 'classic rock', 'hard rock', 'rock'], ['pop'], ['dance pop', 'pop', 'pop rap', 'post-teen pop', 'r&b', 'uk contemporary r&b'], ['crunk', 'dirty south rap', 'gangster rap', 'hip hop', 'memphis hip hop', 'pop rap', 'rap', 'southern hip hop', 'trap music'], ['chamber pop', 'eau claire indie', 'folk-pop', 'indie folk', 'indie pop', 'melancholia', 'slow core', 'stomp and holler'], ['hip hop', 'pop', 'pop rap', 'rap'], ['dance pop', 'neo mellow', 'piano rock', 'pop', 'pop rap', 'pop rock', 'post-teen pop'], ['country'], ['hard rock', 'metal', 'old school thrash', 'rock', 'speed metal', 'thrash metal'], ['escape room'], ['boston hip hop', 'hip hop', 'pop rap', 'rap'], ['album rock', 'british invasion', 'classic rock', 'protopunk', 'rock'], ['metropopolis', 'modern rock', 'pop', 'tropical house'], ['bedroom pop', 'indie r&b'], ['folk-pop', 'irish singer-songwriter', 'pop'], ['emo rap', 'miami hip hop', 'trap music'], ['pop rap'], ['alternative metal', 'groove metal', 'nu metal', 'post-grunge'], ['australian psych', 'neo-psychedelic', 'psychedelic rock'], ['neo mellow', 'neo soul', 'pop', 'r&b', 'urban contemporary'], ['east coast hip hop', 'gangster rap', 'hardcore hip hop', 'hip hop', 'pop rap', 'rap'], ['hip hop', 'pop', 'pop rap', 'rap', 'southern hip hop', 'trap music'], ['boy band', 'dance pop', 'pop', 'post-teen pop', 'teen pop', 'uk pop'], ['dark trap', 'drill', 'hip hop', 'miami hip hop', 'pop rap', 'rap', 'trap music', 'underground hip hop'], ['dance pop', 'pop'], ['permanent wave', 'pop punk', 'punk', 'rock'], ['brostep', 'complextro', 'edm', 'electro'], ['indonesian hip hop', 'underground hip hop'], ['pop'], ['british soul', 'pop', 'uk pop'], ['banda', 'norteno', 'regional mexican'], ['modern alternative rock', 'nu gaze', 'pop', 'shiver pop'], ['dance pop', 'edm', 'pop', 'post-teen pop', 'tropical house', 'uk pop'], ['pop rap'], ['dance pop', 'pop'], ['dance pop', 'pop', 'post-teen pop', 'uk pop'], ['pop', 'pop rap'], ['reggae'], ['dance pop', 'electropop', 'pop', 'post-teen pop', 'uk pop', 'viral pop'], ['neo mellow'], ['dance pop', 'pop', 'pop rap'], [], ['alternative rock', 'grunge', 'permanent wave', 'post-grunge', 'rock'], ['album rock', 'classic rock', 'folk rock', 'heartland rock', 'mellow gold', 'rock', 'singer-songwriter', 'soft rock', 'yacht rock'], ['canadian hip hop', 'pop'], ['dance pop', 'pop', 'pop rap', 'post-teen pop'], ['dance pop', 'pop', 'post-teen pop', 'talent show', 'uk pop'], ['dance pop', 'pop', 'post-teen pop', 'tropical house', 'uk pop'], ['g funk', 'gangster rap', 'hip hop', 'rap', 'west coast rap'], ['dance pop', 'pop', 'r&b', 'urban contemporary'], ['alternative metal', 'canadian metal', 'canadian rock', 'nu metal', 'pop punk', 'post-grunge'], ['latin viral pop', 'pop', 'rap latina', 'reggaeton'], ['candy pop', 'emo', 'pixie', 'pop emo', 'pop punk'], ['electro house'], ['dance pop', 'edm', 'pop', 'post-teen pop', 'tropical house'], ['dance pop', 'pop', 'tropical house', 'uk pop'], ['dance pop', 'pop', 'post-teen pop', 'uk pop', 'viral pop'], ['pop', 'pop rap', 'uk pop'], ['electro', 'electronic', 'filter house'], ['modern rock', 'stomp and holler', 'uk americana'], ['latin', 'rap latina', 'reggaeton', 'tropical'], ['motown', 'quiet storm', 'soul'], ['dance pop', 'edm', 'electropop', 'pop', 'post-teen pop', 'scandipop', 'swedish electropop', 'swedish pop', 'tropical house', 'uk pop'], ['latin', 'latin hip hop', 'reggaeton', 'reggaeton flow', 'trap latino', 'tropical'], ['big room', 'brostep', 'dance pop', 'edm', 'electro house', 'house', 'pop', 'trance', 'tropical house'], ['dance pop', 'edm', 'electro house', 'pop', 'pop edm', 'tropical house', 'uk pop'], ['dance pop', 'electropop', 'indie poptimism', 'indie r&b', 'pop', 'tropical house'], ['ccm', 'christian music', 'world worship', 'worship'], ['alternative metal', 'nu metal', 'post-grunge', 'rap metal'], ['album rock', 'art rock', 'classic rock', 'dance rock', 'glam rock', 'new wave', 'permanent wave', 'protopunk', 'rock'], ['dance pop', 'pop', 'post-teen pop', 'uk pop'], ['canadian pop', 'dance pop', 'electropop', 'pop', 'post-teen pop'], ['dance pop', 'pop', 'r&b', 'urban contemporary'], ['pop', 'post-teen pop', 'r&b'], ['sleep', 'white noise'], ['reggaeton flow', 'trap latino'], ['dance pop', 'dancehall'], ['alternative hip hop', 'art pop'], ['garage rock', 'indie rock', 'modern rock', 'permanent wave', 'rock', 'sheffield indie'], ['colombian pop', 'latin', 'reggaeton'], ['indie rock', 'modern rock', 'permanent wave', 'rock'], ['latin', 'reggaeton flow', 'trap latino', 'tropical'], ['dance pop', 'edm', 'pop', 'post-teen pop', 'tropical house', 'uk pop'], ['ccm', 'christian music', 'worship'], ['boy band', 'dance pop', 'europop'], ['dance pop', 'girl group', 'pop', 'post-teen pop', 'talent show', 'uk pop'], ['glam metal', 'hard rock', 'rock'], ['british indie rock'], ['pop reggaeton'], ['bachata', 'latin', 'latin pop', 'pop', 'tropical'], ['environmental', 'sleep'], ['alternative metal', 'christian alternative rock', 'christian music', 'christian rock', 'post-grunge'], ['latin', 'reggaeton flow', 'tropical'], ['colombian pop', 'dance pop', 'latin', 'latin pop', 'mexican pop', 'pop'], ['big room', 'dance pop', 'edm', 'electro house', 'pop', 'tropical house'], ['dance pop', 'electropop', 'metropopolis', 'pop', 'post-teen pop', 'swedish electropop', 'swedish pop', 'swedish synthpop', 'tropical house'], ['dance pop', 'edm', 'pop', 'tropical house', 'uk dance'], ['hip pop', 'neo soul', 'pop', 'r&b', 'urban contemporary'], ['reggaeton flow'], ['j-pop girl group', 'k-pop', 'k-pop girl group'], ['dance pop', 'edm', 'electro house', 'electropop', 'pop', 'pop edm', 'post-teen pop', 'tropical house', 'uk pop'], ['ambient worship', 'ccm', 'christian music', 'deep ccm', 'world worship', 'worship'], ['indie folk', 'modern rock', 'neo mellow', 'pop'], ['classic soul', 'funk', 'motown', 'northern soul', 'quiet storm', 'soul'], ['alternative metal', 'alternative rock', 'modern rock', 'permanent wave', 'post-grunge', 'rock'], ['colombian pop'], ['pop'], ['electro latino', 'latin', 'latin hip hop', 'reggaeton', 'tropical'], ['australian dance', 'australian electropop', 'australian indie', 'downtempo', 'pop'], ['g funk', 'gangster rap', 'hip hop', 'pop rap', 'rap', 'west coast rap'], ['heartland rock', 'mellow gold', 'permanent wave', 'rock', 'singer-songwriter'], ['australian pop', 'pop', 'uk pop'], ['afro dancehall', 'afropop', 'azonto', 'nigerian hip hop', 'nigerian pop'], ['latin', 'reggaeton flow', 'tropical'], ['ccm', 'russian ccm', 'world worship', 'worship'], ['dance pop', 'edm', 'electro house', 'moombahton', 'pop', 'tropical house'], ['acoustic pop', 'neo mellow', 'pop', 'pop rock'], ['electropop', 'modern alternative rock', 'modern rock', 'pop'], ['australian pop', 'dance pop', 'electropop', 'indie poptimism', 'pop', 'post-teen pop', 'tropical house', 'uk pop'], ['deep tropical house', 'edm', 'electro house', 'pop', 'pop edm', 'tropical house'], ['dance pop', 'latin', 'latin hip hop', 'latin pop', 'pop', 'reggaeton', 'reggaeton flow', 'tropical'], ['latin', 'reggaeton', 'reggaeton flow', 'tropical'], ['dance pop', 'electropop', 'pop', 'post-teen pop', 'uk pop', 'viral pop'], ['house', 'pop', 'tropical house', 'uk dance'], ['rock-and-roll', 'rockabilly'], ['dance pop', 'electropop', 'pop', 'post-teen pop', 'uk pop'], ['latin', 'latin hip hop', 'latin pop', 'pop', 'reggaeton', 'reggaeton flow', 'tropical'], ['dance pop', 'pop', 'post-teen pop'], ['big room', 'dance pop', 'edm', 'electro house', 'pop', 'progressive electro house', 'tropical house'], ['canadian pop', 'candy pop', 'dance pop', 'pop', 'post-teen pop'], ['dance pop', 'edm', 'pop', 'post-teen pop', 'tropical house', 'uk dance', 'uk funky', 'uk pop'], ['alternative rock', 'grunge', 'permanent wave', 'post-grunge', 'rock'], ['german soundtrack', 'soundtrack'], ['banda', 'norteno', 'regional mexican'], ['hollywood'], ['baroque pop', 'chamber pop', 'folk-pop', 'pop', 'uk alternative pop'], ['dance pop'], ['irish rock', 'permanent wave', 'rock'], ['alternative metal', 'groove metal', 'nu metal', 'post-grunge', 'rap metal', 'rap rock', 'rock'], ['bachata', 'latin', 'latin hip hop', 'latin pop', 'tropical'], ['latin', 'latin pop', 'pop', 'tropical'], ['australian pop', 'dance pop', 'electropop', 'indie poptimism', 'pop'], ['latin', 'reggaeton flow', 'trap latino', 'tropical'], ['reggaeton flow', 'trap argentino'], ['argentine hip hop', 'trap argentino', 'trap latino'], ['alternative metal', 'permanent wave', 'pop punk', 'post-grunge', 'punk', 'rock', 'skate punk', 'socal pop punk'], ['album rock', 'classic rock', 'folk', 'folk rock', 'folk-pop', 'mellow gold', 'rock', 'roots rock', 'singer-songwriter'], ['melodic metalcore', 'metalcore', 'rock', 'screamo', 'uk metalcore'], ['latin', 'latin hip hop', 'latin pop', 'pop', 'reggaeton', 'reggaeton flow', 'tropical'], ['r&b'], ['europop', 'swedish pop'], ['neo mellow', 'pop', 'uk pop'], ['la pop', 'pop'], ['deep pop r&b'], ['r&b en espanol'], ['garage rock', 'indie rock', 'modern rock', 'rock'], ['reggaeton flow', 'trap latino'], ['alternative pop rock'], ['baroque', 'classical', 'early music', 'german baroque'], ['latin', 'latin arena pop', 'latin pop', 'mexican pop', 'pop', 'reggaeton'], ['j-pop girl group', 'k-pop', 'k-pop girl group'], ['reggaeton flow'], ['alternative metal', 'nu metal', 'pop punk', 'post-grunge', 'rap metal', 'rap rock', 'screamo'], ['celtic rock', 'dance pop', 'neo mellow', 'pop', 'pop rock', 'post-teen pop', 'uk pop', 'viral pop'], ['australian pop', 'dance pop', 'pop', 'post-teen pop', 'uk pop'], ['regional mexican pop'], ['hollywood', 'pop', 'post-teen pop', 'viral pop'], ['grupera', 'gruperas inmortales', 'nu-cumbia', 'regional mexican'], ['modern rock', 'permanent wave', 'piano rock', 'post-grunge', 'rock'], ['r&b en espanol'], ['dark trap', 'florida rap', 'underground hip hop'], ['afro dancehall', 'dancehall', 'nigerian hip hop', 'nigerian pop'], ['latin', 'latin hip hop', 'reggaeton flow', 'trap latino', 'tropical'], ['latin', 'latin hip hop', 'reggaeton', 'reggaeton flow', 'trap latino', 'tropical'], ['pop', 'uk pop'], ['alternative metal', 'danish metal', 'nu metal', 'post-grunge'], ['pop rap'], ['banda', 'grupera', 'norteno', 'regional mexican'], ['grupera', 'mariachi', 'ranchera'], ['latin', 'reggaeton flow', 'trap latino'], ['reggaeton flow'], ['baile pop', 'funk carioca', 'funk das antigas'], ['reggae fusion'], ['dembow', 'latin', 'rap dominicano', 'reggaeton flow', 'tropical'], ['banda', 'grupera', 'norteno', 'ranchera', 'regional mexican'], ['indie folk', 'uk pop'], ['neo-singer-songwriter', 'pop'], ['latin', 'latin arena pop', 'latin pop', 'latin rock', 'mexican pop', 'mexican rock', 'rock en espanol', 'tropical'], ['dance pop', 'deep euro house', 'deep house', 'edm', 'german dance', 'pop', 'tropical house'], ['alternative metal', 'canadian pop punk', 'canadian punk', 'nu metal', 'pop punk', 'post-grunge', 'punk'], ['reggaeton flow', 'trap latino'], ['boy band', 'latin', 'latin pop', 'pop', 'reggaeton', 'tropical'], ['pop', 'uk contemporary r&b'], ['banda', 'regional mexican'], ['dance pop', 'edm', 'electro house', 'pop', 'pop edm', 'tropical house', 'uk pop'], ['metal', 'power metal', 'swedish metal'], ['latin', 'latin pop', 'pop'], ['dance pop', 'edm', 'norwegian pop', 'pop', 'pop edm', 'tropical house'], ['reggaeton flow'], ['argentine hip hop', 'rap latina', 'trap argentino', 'trap latino'], ['electronic'], ['k-pop', 'k-pop boy group'], ['j-pop girl group', 'k-pop', 'k-pop girl group'], ['sleep'], ['banda', 'grupera', 'norteno', 'regional mexican'], ['britpop', 'madchester', 'permanent wave', 'rock'], ['grupera', 'latin', 'latin pop', 'regional mexican'], ['latin pop'], ['canadian pop', 'dance pop'], ['k-pop', 'k-pop boy group'], ['chamber pop', 'folk-pop', 'indie folk', 'indie pop', 'indie rock', 'modern rock', 'stomp and holler'], ['edm', 'progressive house', 'progressive trance', 'trance'], ['birmingham grime', 'grime', 'instrumental grime', 'rap'], ['grime', 'uk hip hop'], ['colombian pop', 'pop reggaeton', 'reggaeton flow'], ['bass trap'], ['colombian pop'], ['belgian dance', 'belgian edm', 'big room', 'deep big room', 'edm', 'electro house', 'progressive electro house', 'tropical house'], ['danish pop', 'pop', 'scandipop'], ['bow pop', 'compositional ambient', 'neo-classical'], ['album rock', 'hard rock', 'metal', 'nwobhm', 'rock'], ['dance pop', 'edm', 'electro house', 'german dance', 'pop', 'tropical house', 'uk pop'], ['indie r&b'], ['latin hip hop', 'mexican hip hop'], ['colombian pop', 'cumbia', 'dance pop', 'latin', 'latin pop', 'mexican pop', 'pop', 'rock en espanol', 'tropical'], ['big room', 'deep big room', 'edm', 'electro house', 'future house', 'house', 'pop', 'progressive electro house', 'progressive house', 'tropical house'], ['latin', 'latin pop'], ['canadian hip hop', 'dark trap', 'emo rap', 'ottawa rap', 'underground hip hop'], ['dance pop', 'edm', 'pop', 'tropical house', 'uk pop'], ['colombian pop', 'latin'], ['argentine hip hop', 'trap argentino'], ['pop'], ['hollywood', 'post-teen pop', 'vapor pop'], ['latin', 'latin alternative', 'latin pop', 'mexican pop', 'rock en espanol', 'veracruz indie'], ['australian pop', 'dance pop', 'neo mellow', 'pop', 'tropical house', 'uk pop'], ['banda', 'grupera', 'latin', 'latin pop', 'norteno', 'ranchera', 'regional mexican', 'tejano'], ['k-pop', 'k-pop boy group'], ['banda', 'deep regional mexican', 'regional mexican', 'regional mexican pop'], ['australian pop', 'dance pop', 'pop', 'post-teen pop', 'uk pop', 'viral pop'], ['dance pop', 'edm', 'liquid funk', 'pop', 'tropical house', 'uk funky', 'uk pop'], ['k-pop', 'k-pop boy group'], ['dancehall', 'reggae fusion'], ['israeli pop'], ['reggaeton flow'], ['latin', 'latin arena pop', 'latin pop', 'mexican pop', 'ranchera', 'tropical'], ['swedish pop', 'tropical house'], ['champeta', 'colombian pop', 'latin', 'latin pop', 'tropical', 'vallenato'], ['latin', 'pop', 'reggaeton', 'tropical'], ['big room', 'dance pop', 'deep big room', 'dutch house', 'edm', 'electro house', 'pop', 'progressive electro house', 'progressive house', 'tropical house'], ['dream pop', 'el paso indie', 'shoegaze'], ['latin', 'latin pop', 'pop', 'tropical'], ['bachata', 'latin', 'latin pop', 'merengue', 'salsa choke', 'tropical'], ['grupera', 'latin pop', 'latin talent show', 'mariachi', 'ranchera'], ['neo soul'], ['k-pop', 'k-pop boy group'], ['dance pop', 'electropop', 'norwegian pop', 'pop', 'post-teen pop', 'tropical house', 'uk pop'], ['k-pop', 'k-pop girl group'], ['musica canaria'], ['neo mellow', 'pop', 'pop rock', 'viral pop'], ['cantautor', 'latin', 'latin arena pop', 'latin pop', 'mexican pop', 'rock en espanol', 'spanish pop', 'tropical'], ['indie anthem-folk', 'pop', 'uk pop'], ['desi pop', 'filmi', 'modern bollywood'], ['indie r&b', 'uk pop'], ['c-pop', 'mandopop', 'taiwan pop'], ['k-pop', 'k-pop boy group'], ['uk hip hop'], ['dance pop', 'gauze pop', 'pop', 'post-teen pop', 'tropical house', 'uk pop'], ['reggae fusion', 'uk reggae'], ['latin', 'latin arena pop', 'latin pop', 'mexican pop', 'pop'], ['k-pop', 'k-pop boy group'], ['k-pop'], ['latin christian', 'rock cristiano'], ['alternative r&b', 'malaysian pop'], ['aussietronica', 'australian pop', 'edm', 'gauze pop', 'house', 'pop', 'tropical house', 'vapor soul'], ['belgian edm'], ['pop', 'uk pop'], ['k-pop', 'k-pop girl group'], ['colombian hip hop', 'latin', 'reggaeton flow'], ['grime', 'uk hip hop'], ['australian dance', 'catstep', 'edm', 'melbourne bounce', 'melbourne bounce international'], ['latin', 'latin arena pop', 'latin pop', 'mexican pop'], ['colombian pop', 'latin', 'latin pop', 'r&b en espanol', 'tropical'], ['adult standards', 'mellow gold', 'soft rock'], ['house', 'pop house', 'tropical house', 'uk pop'], ['bolero', 'latin pop'], ['belgian edm', 'edm', 'pop', 'tropical house'], ['dance pop', 'tropical house'], ['deep tropical house'], ['k-pop', 'k-pop boy group'], ['colombian pop', 'latin pop'], ['k-pop', 'korean pop'], ['argentine hip hop', 'trap argentino'], ['latin', 'latin arena pop', 'latin pop', 'mexican pop'], ['dance pop', 'edm', 'electro house', 'pop', 'pop edm', 'swedish tropical house', 'tropical house'], ['latin pop'], ['bossa nova', 'latin classical', 'mpb'], ['edm', 'tropical house'], ['venezuelan hip hop'], ['basshall', 'dutch hip hop', 'dutch house', 'dutch pop', 'dutch urban'], ['dance pop', 'electropop', 'norwegian pop', 'pop', 'tropical house'], ['desi pop', 'filmi', 'modern bollywood'], ['swedish pop'], ['colombian pop', 'cumbia', 'latin', 'latin pop', 'tropical'], ['alternative metal', 'gothenburg metal', 'groove metal', 'melodic death metal', 'melodic metalcore', 'metal', 'nu metal', 'swedish death metal', 'swedish metal'], ['desi pop', 'filmi', 'modern bollywood'], ['latin', 'latin arena pop', 'latin pop', 'mexican pop'], ['latin', 'latin arena pop', 'latin pop', 'spanish pop', 'spanish pop rock', 'tropical'], ['grupera', 'latin', 'latin arena pop', 'latin pop', 'mexican pop'], ['deep groove house', 'deep tech house', 'disco house', 'edm', 'house', 'progressive house', 'tropical house', 'uk dance'], ['indie rock'], ['latin', 'latin arena pop', 'latin pop', 'spanish pop'], ['colombian pop', 'cumbia', 'latin', 'tropical', 'vallenato'], ['norwegian pop', 'tropical house'], ['latin alternative', 'latin rock', 'mexican rock', 'rock en espanol'], ['desi pop', 'filmi', 'modern bollywood', 'sufi'], ['latin', 'latin alternative', 'latin rock', 'mexican rock', 'rock en espanol'], ['anime', 'j-pop'], ['argentine rock', 'latin alternative', 'latin rock', 'rock en espanol', 'ska argentino'], ['australian indie', 'australian reggae fusion', 'reggae fusion'], ['anime', 'j-pop', 'j-rock', 'visual kei'], [], ['k-pop'], ['desi pop', 'filmi', 'modern bollywood', 'sufi'], ['mexican hip hop', 'rap conciencia'], [\"australian children's music\", \"children's music\"], ['dutch house', 'dutch pop', 'tropical house'], ['boy band', 'dance pop', 'europop'], ['colombian pop', 'latin', 'latin pop', 'pop reggaeton', 'tropical'], ['australian pop', 'nz pop'], ['mexican hip hop', 'trap mexicano'], ['r&b en espanol', 'spanish hip hop', 'trap espanol'], ['colombian hip hop', 'colombian pop', 'cumbia', 'latin', 'latin alternative', 'latin pop', 'latin rock', 'salsa choke'], ['j-pop', 'j-rock', 'visual kei'], ['latin pop', 'reggaeton chileno', 'trap chileno'], ['desi pop', 'filmi', 'modern bollywood', 'sufi'], ['mandopop', 'singaporean mandopop', 'singaporean pop'], ['bossa nova', 'jazz guitar', 'mpb', 'samba'], ['desi pop', 'filmi', 'modern bollywood', 'sufi'], ['electropop', 'europop', 'swedish electropop', 'swedish pop'], ['k-pop'], ['j-pop girl group', 'k-pop', 'k-pop girl group'], ['trap espanol'], ['spanish hip hop', 'spanish pop'], ['sertanejo'], ['latin alternative', 'latin rock', 'rock en espanol'], ['australian pop', 'australian talent show'], ['norwegian pop', 'tropical house'], ['k-pop', 'korean pop'], [], ['cantopop', 'mandopop'], ['argentine reggae', 'latin alternative', 'rock en espanol'], ['dance pop', 'edm', 'electronic trap', 'tropical house'], ['bass trap', 'funk carioca', 'pop nacional'], ['chihuahua indie', 'mexican indie'], ['baile pop', 'funk carioca', 'funk das antigas'], ['opm'], ['dance pop', 'edm', 'nordic house', 'norwegian pop', 'tropical house'], ['sertanejo universitario'], ['desi pop', 'filmi', 'modern bollywood', 'sufi'], ['chutney', 'desi pop', 'filmi', 'modern bollywood', 'sufi'], ['desi pop', 'modern bollywood', 'punjabi pop'], ['anime', 'anime rock', 'j-pixie', 'j-pop', 'j-poprock'], ['desi pop', 'filmi', 'modern bollywood', 'sufi'], ['desi pop', 'modern bollywood'], ['deep euro house', 'edm', 'german dance', 'tropical house', 'uk pop'], ['indie r&b', 'popping'], ['opm', 'pinoy indie', 'pinoy pop punk'], ['desi pop', 'filmi', 'modern bollywood', 'pakistani pop', 'sufi'], ['c-pop', 'cantopop', 'mandopop'], ['uk dancehall', 'uk drill', 'uk hip hop', 'uk pop'], ['anime', 'j-pop', 'j-poprock', 'j-rock', 'otacore'], ['latin pop', 'spanish pop', 'spanish pop rock'], ['swedish pop'], ['french hip hop', 'trap francais'], ['baile pop', 'dance pop', 'funk carioca', 'pop', 'pop nacional', 'post-teen pop'], ['norwegian pop'], ['k-pop', 'k-pop boy group'], ['basshall'], ['israeli mediterranean', 'israeli pop', 'mizrahi'], ['desi pop', 'filmi', 'modern bollywood', 'sufi'], ['desi pop', 'filmi', 'modern bollywood', 'sufi'], ['grime', 'uk drill', 'uk hip hop'], ['australian indie', 'australian reggae fusion'], ['baile pop', 'funk carioca', 'funk ostentacao'], ['dance pop', 'europop', 'hands up', 'italo dance'], ['sertanejo', 'sertanejo universitario'], ['latin pop', 'latin talent show', 'spanish pop'], ['jawaiian', 'kiwi rock', 'nz hip hop', 'nz reggae', 'polynesian pop', 'reggae rock'], ['anime rock', 'j-pop', 'j-rock'], ['desi pop', 'filmi', 'modern bollywood', 'punjabi', 'punjabi pop', 'sufi'], ['modern bollywood'], ['big room', 'dance pop', 'deep pop edm', 'edm', 'electro house', 'norwegian pop', 'tropical house'], ['c-pop', 'mandopop', 'taiwan pop'], ['sertanejo universitario'], ['argentine rock', 'latin alternative', 'latin rock', 'rock en espanol'], ['desi pop', 'filmi', 'modern bollywood', 'punjabi', 'sufi'], ['french hip hop', 'trap francais'], ['argentine hip hop', 'trap argentino'], ['belgian pop'], ['reggaeton flow', 'trap chileno', 'trap espanol'], ['deep indian pop', 'desi pop', 'filmi', 'modern bollywood', 'sufi', 'tamil pop'], ['deep indian pop', 'desi hip hop', 'filmi', 'tamil pop'], ['colombian pop', 'cumbia', 'latin', 'latin pop'], ['latin', 'latin pop', 'peruvian rock', 'tropical'], ['desi pop', 'filmi', 'modern bollywood', 'sufi'], ['viral pop'], ['filmi', 'tamil pop'], ['french hip hop', 'rap maroc', 'trap francais'], ['mandopop'], ['classic opm', 'opm', 'pinoy reggae', 'pinoy rock'], ['swedish pop'], ['brazilian edm', 'pop nacional'], ['classic arab pop', 'rai'], ['cantautor', 'nueva cancion', 'rock en espanol', 'spanish pop', 'trova'], ['desi pop', 'filmi', 'modern bollywood'], ['desi pop', 'filmi', 'modern bollywood', 'sufi'], ['desi pop', 'filmi', 'modern bollywood'], ['french hip hop', 'trap francais'], ['cantautor', 'latin afrobeat', 'latin alternative', 'latin rock', 'nueva cancion', 'rock en espanol'], ['c-pop', 'cantopop', 'classic cantopop', 'classic mandopop', 'classic opm', 'mandopop'], ['desi pop', 'filmi', 'modern bollywood', 'sufi'], ['bhangra', 'desi pop', 'filmi', 'modern bollywood', 'punjabi', 'sufi'], ['indie anthem-folk', 'irish pop', 'tropical house'], ['opm', 'pinoy indie'], ['argentine rock', 'cantautor', 'latin alternative', 'latin rock', 'pop argentino', 'rock en espanol'], ['pinoy hip hop'], ['argentine rock', 'cuarteto', 'latin alternative', 'latin rock', 'rock en espanol', 'ska argentino'], ['pop nacional', 'sertanejo universitario'], ['c-pop', 'mandopop', 'singaporean mandopop', 'singaporean pop'], ['australian pop'], ['desi pop', 'filmi', 'modern bollywood', 'sufi'], ['francoton', 'french hip hop', 'trap francais'], ['brazilian edm'], ['forro'], ['sertanejo universitario'], ['italian hip hop'], ['mandopop'], ['c-pop', 'mandopop', 'taiwan pop'], ['argentine hip hop', 'reggaeton chileno', 'trap chileno'], ['mainland chinese pop', 'mandopop'], ['desi pop', 'filmi', 'modern bollywood', 'sufi'], ['mandopop'], ['bossa nova', 'mpb'], ['funk carioca'], ['desi pop', 'modern bollywood'], ['c-pop', 'cantopop', 'chinese indie', 'classic cantopop', 'classic mandopop', 'mandopop'], ['australian hip hop', 'australian pop'], ['rap conscient', 'trap francais'], ['dakke dak', 'danish pop'], ['brazilian reggae'], ['belgian hip hop', 'french hip hop', 'rap conscient', 'trap francais'], ['desi pop', 'modern bollywood'], ['baile pop', 'funk carioca', 'funk das antigas'], ['c-pop', 'malaysian mandopop', 'mandopop'], ['opm', 'pinoy indie', 'pinoy rock'], ['belgian hip hop', 'french hip hop', 'rap conscient', 'trap francais'], ['russian hip hop'], ['trap espanol', 'trap latino'], ['classic opm', 'opm', 'pinoy indie', 'pinoy reggae', 'pinoy rock'], ['anime', 'anime rock', 'j-pop', 'j-rock', 'otacore'], ['desi pop', 'filmi', 'modern bollywood', 'sufi'], ['sertanejo universitario'], ['classic opm', 'opm'], ['italian arena pop', 'italian pop'], ['anime', 'anime score', 'j-pop', 'j-pop boy group', 'j-rock'], ['danish pop'], ['c-pop', 'mandopop'], ['classic opm', 'opm'], ['mandopop'], ['c-pop', 'mandopop'], ['trap espanol'], ['desi pop', 'filmi', 'modern bollywood'], ['german hip hop'], ['classic opm', 'manila sound', 'opm'], ['modern bollywood'], ['dutch pop'], ['jawaiian', 'nz reggae', 'polynesian pop'], ['estonian hip hop', 'russian trap', 'uzbek pop'], ['v-pop'], ['afro house', 'afropop', 'gqom', 'kwaito house', 'south african pop'], ['afro house', 'south african hip hop', 'south african pop'], ['norwegian pop'], ['argentine hip hop', 'trap argentino'], ['c-pop', 'cantopop'], ['c-pop', 'chinese indie', 'mandopop'], ['francoton', 'trap francais'], ['classic opm', 'opm', 'pinoy indie', 'pinoy rock'], ['desi pop', 'modern bollywood'], ['opm', 'pinoy indie', 'pinoy rock'], ['argentine hip hop', 'trap argentino'], ['chinese indie', 'mandopop'], ['argentine rock', 'latin alternative', 'latin rock', 'nueva cancion', 'rock en espanol', 'rock nacional'], ['funk carioca', 'sertanejo', 'sertanejo universitario'], ['norwegian pop', 'tropical house'], ['classic opm', 'opm'], ['opm', 'pinoy r&b'], ['italian hip hop'], ['german hip hop'], ['russiavision'], ['argentine hip hop', 'trap argentino'], ['funk carioca', 'pop nacional', 'sertanejo pop', 'sertanejo universitario'], ['pinoy r&b'], ['swedish idol pop', 'swedish pop'], ['trap argentino'], ['italian arena pop'], ['desi pop', 'modern bollywood', 'punjabi pop'], ['afro dancehall', 'grime', 'uk hip hop'], ['desi pop', 'filmi', 'modern bollywood', 'sufi'], ['baile pop', 'brazilian edm', 'funk carioca', 'funk das antigas', 'funk ostentacao'], ['cumbia pop'], ['francoton', 'french hip hop', 'trap francais'], ['classic opm', 'opm', 'pinoy alternative rap', 'pinoy hip hop', 'pinoy trap'], ['turkish pop'], ['c-pop', 'mandopop', 'taiwan pop'], ['israeli pop', 'jewish pop'], ['opm', 'pinoy hip hop', 'pinoy r&b'], ['afro house', 'kwaito house', 'south african pop'], ['opm', 'pinoy indie'], ['kazakh pop'], ['basshall'], ['latin pop', 'pop chileno'], ['desi pop', 'modern bollywood'], ['opm'], ['francoton', 'french hip hop', 'rap maroc', 'trap francais'], ['deep neofolk', 'opm', 'pinoy indie', 'pinoy r&b'], ['c-pop', 'cantopop', 'classic mandopop', 'mandopop'], ['belgian hip hop', 'french hip hop'], ['israeli mediterranean', 'israeli pop', 'mizrahi', 'persian pop'], ['german hip hop', 'german pop'], ['j-pop'], ['kazakh pop'], ['spanish pop'], ['c-pop', 'cantopop', 'mandopop'], ['lithuanian electronic'], ['russian hip hop'], ['desi pop', 'modern bollywood', 'punjabi pop'], ['desi pop', 'filmi', 'modern bollywood', 'sufi'], ['argentine rock', 'argentine telepop', 'folklore argentino', 'pop argentino', 'rock en espanol'], ['pagode', 'sertanejo', 'sertanejo pop', 'sertanejo universitario'], ['c-pop', 'chinese indie', 'mandopop', 'singaporean mandopop', 'singaporean pop'], ['c-pop', 'cantopop', 'classic cantopop', 'mandopop'], ['rumba', 'spanish pop'], ['latin pop', 'spanish pop'], ['kazakh pop', 'russian hip hop', 'russian trap'], ['folk brasileiro', 'nova mpb', 'pop nacional', 'portuguese pop'], ['pagode'], ['argentine indie'], ['eurovision', 'greek pop', 'laiko'], ['opm', 'pinoy indie', 'pinoy rock', 'pinoy trap'], ['sertanejo', 'sertanejo universitario'], ['opm', 'pinoy alternative rap', 'pinoy hip hop', 'pinoy indie', 'pinoy r&b', 'pinoy rock', 'pinoy trap'], ['arabic hip hop', 'french hip hop', 'rap maroc', 'trap francais'], ['argentine rock', 'latin alternative', 'latin rock', 'rock en espanol'], ['basshall', 'dutch hip hop', 'dutch pop', 'dutch urban'], ['carnaval cadiz', 'latin pop', 'latin viral pop', 'spanish pop'], ['c-pop', 'cantopop', 'mandopop'], ['sertanejo pop', 'sertanejo universitario'], ['opm', 'pinoy indie'], ['pinoy hip hop', 'pinoy r&b'], ['brazilian rock', 'rock alternativo brasileiro', 'rock nacional brasileiro'], [], ['c-pop', 'cantopop', 'classic cantopop'], ['c-pop', 'mandopop', 'taiwan pop'], ['opm', 'pinoy indie', 'pinoy reggae', 'pinoy rock', 'pop rock'], ['israeli mediterranean', 'israeli pop'], ['grime', 'manchester hip hop', 'uk hip hop'], ['taiwan pop'], ['funk carioca', 'funk ostentacao'], ['cumbia paraguaya', 'cumbia villera'], ['dutch hip hop', 'dutch pop'], ['francoton', 'french hip hop', 'trap francais'], ['chinese jazz', 'mainland chinese pop', 'mandopop'], ['folk brasileiro', 'mpb', 'nova mpb'], ['funk carioca', 'sertanejo pop', 'sertanejo universitario'], ['classic opm', 'opm', 'pinoy indie', 'pinoy reggae', 'pinoy rock', 'pop rock'], ['grime', 'uk drill', 'uk hip hop'], ['opm', 'pinoy rock'], ['polish hip hop', 'polish trap'], ['baile pop', 'funk carioca', 'funk ostentacao'], ['baile pop', 'brega funk', 'funk carioca'], ['classic russian rock', 'russian hip hop', 'russian pop', 'russian rock', 'ukrainian pop'], ['latin alternative', 'latin rock', 'rock en espanol'], ['arab pop', 'rif'], ['desi pop', 'modern bollywood'], ['german hip hop'], ['belarusian pop'], ['classic opm', 'opm'], ['classic opm', 'opm', 'pinoy indie', 'pinoy rock'], ['anime score', 'j-pop', 'j-pop boy group'], ['pagode', 'sertanejo universitario'], ['classic opm', 'opm', 'pinoy pop punk', 'pinoy rock'], ['arabic hip hop', 'rap maroc'], ['french hip hop', 'trap francais'], ['brazilian hip hop', 'trap brasileiro'], ['anime', 'j-pop', 'j-rock'], ['turkish pop', 'turkish rock'], ['israeli mediterranean', 'israeli pop'], ['russian hip hop', 'russian pop', 'russiavision', 'ukrainian pop'], ['brazilian hip hop', 'trap brasileiro'], ['uk hip hop'], ['italian hip hop', 'italian underground hip hop', 'rap sardegna'], ['dutch hip hop', 'rap maroc'], ['c-pop', 'cantopop'], ['argentine hip hop', 'trap argentino'], ['classic opm', 'opm', 'pinoy indie', 'pinoy reggae', 'pinoy rock'], ['mandopop'], [], ['c-pop', 'cantopop', 'classic cantopop'], ['french hip hop', 'trap francais'], ['italian hip hop', 'italian pop', 'italian underground hip hop', 'rap napoletano'], ['german hip hop'], ['french hip hop'], ['french hip hop', 'rap conscient'], ['russian reggae'], ['rap catalan', 'rap latina', 'trap espanol'], ['baile pop', 'mpb', 'nova mpb', 'pop nacional'], ['dutch hip hop', 'dutch pop'], ['israeli mediterranean', 'mizrahi'], ['mainland chinese pop', 'mandopop'], ['russian hip hop', 'russian trap'], ['pop nacional'], ['manchester hip hop', 'uk hip hop'], ['c-pop', 'cantopop'], ['italian arena pop', 'italian hip hop', 'italian pop'], ['j-pop', 'j-rock', 'japanese r&b'], ['cumbia peruana', 'peruvian rock', 'tropical'], ['trap espanol'], ['j-pop', 'j-rock', 'japanese alternative rock', 'japanese r&b'], ['funk carioca', 'sertanejo', 'sertanejo pop', 'sertanejo universitario'], ['norwegian pop'], ['indonesian jazz', 'indonesian pop'], ['lithuanian pop'], ['french hip hop', 'trap francais'], ['brazilian hip hop', 'r&b brasileiro', 'trap brasileiro'], ['italian arena pop', 'italian hip hop', 'italian pop'], ['uk hip hop'], ['francoton', 'french pop', 'trap francais'], ['chinese indie', 'mandopop', 'taiwan indie', 'taiwan pop', 'taiwan singer-songwriter'], ['c-pop', 'cantopop', 'classic cantopop'], ['v-pop'], ['c-pop', 'cantopop', 'classic cantopop'], ['axe', 'funk carioca', 'pagode', 'pop nacional'], ['anime rock', 'j-pop', 'j-pop boy group'], ['italian arena pop', 'italian pop'], ['russian pop', 'russiavision'], ['israeli mediterranean', 'mizrahi'], ['c-pop', 'mandopop'], ['c-pop', 'cantopop', 'classic cantopop', 'vintage chinese pop'], ['anime rock', 'j-pop'], ['funk carioca', 'funk ostentacao'], ['anime', 'anime score', 'j-pop', 'j-rock'], ['j-pop', 'j-punk', 'j-rock'], ['francoton', 'french hip hop', 'french pop'], ['cologne indie', 'german pop'], ['french hip hop', 'trap francais'], ['israeli pop'], ['francoton', 'french hip hop', 'french pop', 'rap conscient', 'trap francais'], ['albanian hip hop'], ['reading'], ['turkish hip hop', 'turkish trap'], ['arab pop', 'egyptian pop'], ['funk carioca', 'pagode', 'sertanejo universitario'], ['chinese hip hop', 'malaysian mandopop', 'mandopop'], ['german cloud rap', 'german hip hop', 'latin hip hop'], ['italian arena pop', 'italian pop'], ['j-acoustic', 'j-pop'], ['belo horizonte indie', 'brazilian edm', 'funk carioca', 'nova mpb'], ['dutch hip hop', 'dutch pop'], ['italian arena pop', 'italian pop'], ['brazilian edm', 'funk carioca', 'funk ostentacao'], ['brazilian hip hop', 'pop nacional'], ['c-pop', 'chinese indie', 'mandopop', 'taiwan pop', 'taiwan singer-songwriter'], ['israeli mediterranean'], ['italian hip hop', 'milan indie', 'rap tunisien'], ['modern salsa', 'salsa peruana'], ['dutch hip hop', 'dutch urban'], ['kavkaz', 'russian trap'], ['russian hip hop', 'russian trap'], ['anime', 'j-pop', 'j-pop boy group', 'j-rock'], ['francoton', 'french hip hop', 'french pop', 'trap francais'], ['anime', 'j-acoustic', 'j-pop', 'j-rock'], ['j-rap'], ['french hip hop', 'trap francais'], ['anime', 'eurobeat', 'j-idol', 'j-pop'], ['italian arena pop', 'italian hip hop', 'italian pop'], ['deep german hip hop', 'german hip hop', 'hamburg hip hop'], ['electro bailando'], ['uk hip hop'], ['cumbia chilena'], ['turkish trap'], ['opm'], ['brazilian hip hop', 'funk carioca', 'trap brasileiro'], ['opm', 'pinoy indie'], ['anime', 'anime rock', 'j-acoustic', 'j-idol', 'j-pop', 'j-pop girl group'], ['francoton', 'rap conscient'], ['german hip hop', 'hamburg hip hop'], ['brazilian punk', 'brazilian rock', 'mpb', 'rock nacional brasileiro'], ['dutch hip hop', 'dutch pop', 'dutch urban'], ['mainland chinese pop', 'mandopop'], ['brazilian hip hop', 'funk carioca', 'funk ostentacao'], ['albanian hip hop', 'deep german hip hop', 'german hip hop'], ['spanish pop'], ['chinese hip hop', 'taiwan pop'], ['c-pop', 'cantopop'], ['pagode', 'sertanejo universitario'], ['dutch pop', 'dutch rock'], ['pagode', 'sertanejo', 'sertanejo pop', 'sertanejo universitario'], ['russian trap'], ['chinese indie', 'mandopop'], ['italian hip hop'], [], ['sertanejo pop', 'sertanejo universitario'], ['baile pop', 'pop nacional', 'r&b brasileiro'], ['mandopop'], ['israeli pop'], ['russiavision'], ['sertanejo pop', 'sertanejo universitario'], ['norwegian indie', 'norwegian pop', 'norwegian rock'], ['francoton', 'french hip hop', 'french pop', 'trap francais'], ['c-pop', 'cantopop'], ['sertanejo pop', 'sertanejo universitario'], ['dutch hip hop'], ['indie viet', 'v-pop', 'vietnamese hip hop'], ['anime', 'j-idol', 'j-pop', 'j-pop boy group', 'j-poprock', 'j-rock'], ['french hip hop', 'trap francais'], ['basshall', 'desi pop', 'dutch hip hop', 'dutch pop', 'dutch urban'], ['brazilian edm', 'funk carioca'], ['baile pop', 'funk carioca', 'funk ostentacao'], ['sertanejo pop', 'sertanejo universitario'], ['mainland chinese pop'], ['turkish pop', 'turkish rock'], ['funk carioca', 'funk ostentacao', 'r&b brasileiro'], ['argentine rock', 'latin alternative', 'latin rock', 'rock en espanol', 'rock nacional'], ['desi pop'], ['belgian pop'], ['turkish hip hop'], ['australian hip hop', 'australian indie', 'australian pop', 'australian trap', 'pop rap'], ['funk carioca', 'sertanejo pop'], ['latin arena pop', 'spanish pop', 'spanish rock'], ['indonesian indie', 'indonesian pop'], ['chinese indie', 'mandopop', 'taiwan indie', 'taiwan pop'], ['francoton', 'french hip hop', 'rap maroc', 'rap tunisien', 'trap francais'], ['mandopop'], ['dutch hip hop', 'dutch pop'], ['thai hip hop', 'thai pop'], ['romanian pop'], ['brazilian hip hop', 'funk carioca', 'funk ostentacao', 'trap brasileiro'], ['israeli mediterranean', 'israeli pop', 'mizrahi'], ['italian arena pop', 'italian pop'], ['dutch hip hop', 'dutch pop', 'dutch urban'], ['anime rock', 'j-pop', 'j-rock', 'japanese alternative rock'], ['indonesian pop', 'indonesian r&b'], ['italian arena pop', 'italian pop'], ['anime', 'j-idol', 'j-pop', 'j-pop girl group'], ['anime', 'j-pop', 'j-rock'], ['greek pop', 'laiko'], ['j-pop', 'japanese alternative rock'], ['sertanejo', 'sertanejo pop', 'sertanejo universitario'], ['cantautor', 'latin rock', 'rock en espanol', 'spanish pop'], ['french hip hop', 'rap conscient', 'trap francais'], ['egyptian pop'], ['indonesian jazz', 'indonesian pop'], ['israeli pop'], ['albanian hip hop', 'german hip hop'], ['mandopop'], ['italian arena pop', 'italian hip hop', 'italian pop'], ['israeli hip hop', 'israeli pop'], ['turkish pop', 'turkish soundtrack'], ['grime', 'uk drill', 'uk hip hop'], ['french hip hop', 'rap conscient', 'trap francais'], ['c-pop', 'mandopop', 'taiwan pop'], ['dutch hip hop', 'dutch pop', 'dutch urban'], ['arabic hip hop', 'rap tunisien', 'rif'], ['anime', 'j-idol', 'j-pop', 'j-pop boy group'], ['classic greek pop', 'entehno', 'greek pop', 'laiko'], ['sertanejo pop'], ['italian hip hop'], ['german hip hop'], ['italian arena pop', 'italian hip hop', 'italian pop', 'rap napoletano', 'rome indie'], ['argentine telepop', 'folklore argentino', 'latin pop'], ['german hip hop'], ['dutch hip hop', 'dutch pop'], ['swedish pop'], ['mandopop', 'taiwan pop'], ['italian hip hop'], ['c-pop', 'cantopop', 'classic cantopop'], ['mandopop', 'taiwan pop'], ['brazilian hip hop', 'funk carioca'], ['mandopop', 'taiwan pop'], ['kizomba'], ['chinese indie', 'taiwan pop'], ['french hip hop', 'trap francais'], ['funk carioca', 'pop nacional'], ['indonesian pop'], ['cumbia pop', 'pop argentino'], ['italian arena pop', 'italian pop', 'italian pop rock'], ['russian trap'], ['chinese hip hop'], ['norwegian hip hop', 'norwegian indie', 'norwegian pop', 'norwegian pop rap', 'norwegian rock'], ['c-pop', 'cantopop'], ['axe', 'forro', 'pagode', 'sertanejo universitario'], ['french hip hop', 'rap ivoire', 'trap francais'], ['dutch hip hop', 'dutch pop'], ['greek hip hop', 'greek pop', 'greek trap'], ['basshall', 'dutch hip hop', 'dutch pop', 'dutch urban', 'kaseko'], ['german hip hop', 'german pop'], ['brazilian hip hop', 'funk carioca', 'funk ostentacao'], ['indonesian indie', 'indonesian pop', 'indonesian pop punk'], ['norwegian indie', 'norwegian pop rap'], ['francoton', 'rap maroc', 'rif', 'trap francais'], ['cantopop'], ['brazilian edm', 'brazilian hip hop', 'r&b brasileiro', 'trap brasileiro'], ['c-pop', 'cantopop'], ['brazilian hip hop', 'trap brasileiro'], ['italian arena pop', 'italian pop', 'italian pop rock'], ['entehno', 'greek pop', 'laiko'], ['c-pop', 'mandopop', 'taiwan pop'], ['classic italian pop', 'italian arena pop', 'italian pop'], ['dutch hip hop', 'dutch pop'], ['arab pop', 'palestinian pop'], ['turkish hip hop', 'turkish rock'], ['mandopop'], ['albanian hip hop', 'german hip hop'], ['french hip hop', 'rap conscient', 'trap francais'], ['v-pop'], ['italian arena pop', 'italian hip hop', 'italian pop'], ['argentine rock', 'latin alternative', 'latin rock', 'rock en espanol', 'rock nacional', 'ska argentino'], ['mainland chinese pop', 'mandopop'], ['french hip hop', 'neo metal', 'trap francais'], ['israeli pop', 'israeli rock'], ['dutch hip hop'], ['turkish hip hop', 'turkish trap'], ['chinese hip hop', 'mandopop', 'taiwan pop'], ['russian trap'], ['danish hip hop', 'danish pop'], ['c-pop', 'cantopop', 'mandopop'], ['swedish pop'], ['polish indie', 'polish pop', 'talent show'], ['mandopop', 'taiwan pop'], ['albanian hip hop', 'german hip hop'], ['mandopop', 'taiwan pop', 'taiwan singer-songwriter'], ['brazilian rock', 'mpb'], ['turkish hip hop', 'turkish rock', 'turkish trap'], ['italian arena pop', 'italian hip hop', 'italian pop', 'italian reggae'], ['birmingham grime', 'birmingham indie', 'grime', 'uk hip hop'], ['entehno', 'greek pop', 'laiko'], ['j-idol', 'j-pop', 'j-pop girl group'], ['german hip hop'], ['italian arena pop', 'italian pop', 'rome indie'], ['romanian pop'], ['german hip hop'], ['europop', 'swedish idol pop', 'swedish pop'], ['indie viet', 'rock viet', 'v-pop'], ['luk thung', 'thai idol', 'thai pop'], ['israeli pop', 'israeli rock'], ['arab pop', 'rai', 'rif'], ['c-pop', 'cantopop'], ['polish hip hop', 'polish trap'], ['c-pop', 'cantopop'], ['israeli mediterranean', 'mizrahi'], ['anime', 'j-pop', 'j-pop boy group'], ['polish underground hip hop'], ['dutch hip hop', 'dutch pop', 'dutch urban'], ['romanian pop'], ['greek pop'], ['rai', 'rif'], ['italian hip hop'], ['hoerspiel', 'kleine hoerspiel'], ['arabic hip hop', 'rap maroc'], ['indonesian indie', 'indonesian pop'], ['argentine rock', 'cumbia pop', 'cumbia santafesina', 'cumbia villera'], ['c-pop', 'classic mandopop', 'mandopop', 'taiwan pop'], ['c-pop', 'cantopop'], ['hip hop tuga', 'trap tuga'], ['entehno', 'greek pop', 'laiko'], ['italian hip hop', 'trap italiana'], ['italian hip hop', 'italian pop', 'italian underground hip hop', 'rap napoletano'], ['dutch hip hop'], ['hoerspiel'], ['italian hip hop'], ['chinese electropop', 'mandopop', 'taiwan pop'], ['italian arena pop', 'italian pop'], ['italian hip hop'], ['v-pop'], ['romanian pop'], ['v-pop'], ['c-pop', 'cantopop', 'classic cantopop', 'mandopop'], ['greek pop'], [], ['dutch hip hop', 'dutch pop', 'dutch urban'], ['dangdut koplo', 'indonesian pop'], ['italian hip hop', 'trap italiana'], ['cantopop'], ['indonesian indie', 'indonesian jazz', 'indonesian pop'], ['danish hip hop', 'danish pop'], ['polish trap'], ['french hip hop', 'rap conscient'], ['german cloud rap', 'german hip hop'], ['cumbia pop', 'latin alternative', 'latin rock', 'rock en espanol'], ['francoton'], ['entehno', 'greek pop', 'laiko'], ['indonesian indie', 'indonesian pop'], ['german hip hop'], ['indonesian pop', 'malaysian pop'], ['chinese hip hop', 'chinese indie', 'mandopop', 'taiwan pop'], ['dutch hip hop'], ['cumbia pop'], [], ['j-pop', 'j-rap', 'japanese r&b'], ['tracestep'], ['arabic hip hop', 'rai', 'rap maroc'], ['polish hip hop', 'polish trap'], ['italian hip hop'], ['italian alternative', 'italian hip hop', 'trap italiana'], ['turkish folk', 'turkish rock'], ['c-pop', 'cantopop'], ['kizomba', 'portuguese pop'], ['dutch hip hop'], ['spanish hip hop', 'trap espanol'], ['indonesian pop'], ['deep german hip hop', 'german hip hop'], [], ['indonesian indie', 'indonesian pop', 'indonesian rock'], ['mandopop', 'taiwan pop'], ['trap espanol'], ['italian hip hop', 'rap napoletano'], ['indonesian indie', 'indonesian pop'], ['polish hip hop', 'polish trap'], ['dutch indie', 'dutch pop', 'dutch rock'], ['german hip hop'], ['francoton', 'french hip hop', 'trap francais'], ['j-dance', 'j-division', 'j-pop', 'j-pop boy group'], ['turkish hip hop', 'turkish trap'], ['israeli mediterranean'], ['french hip hop', 'trap francais'], ['polish hip hop'], ['turkish hip hop', 'turkish trap'], ['indonesian indie', 'indonesian pop'], ['french hip hop'], ['turkish pop', 'turkish rock'], ['arabic hip hop', 'rai', 'rap maroc'], ['mandopop', 'taiwan pop'], ['israeli mediterranean'], ['dutch cabaret', 'dutch pop', 'dutch rock'], ['turkish modern jazz', 'turkish rock'], ['turkish pop'], ['mandopop', 'taiwan pop'], ['indonesian pop', 'malaysian pop'], ['italian alternative', 'italian arena pop'], ['cantautor', 'latin rock', 'spanish indie pop', 'spanish pop', 'spanish rock'], ['argentine rock', 'cumbia pop'], ['chinese indie', 'mandopop', 'taiwan indie', 'taiwan pop', 'taiwan singer-songwriter'], ['italian hip hop'], ['swedish pop'], ['turkish rock'], ['polish hip hop', 'polish trap'], ['indonesian indie', 'indonesian pop'], ['anime', 'j-pop', 'japanese city pop'], ['hoerspiel', 'kleine hoerspiel'], ['thai pop'], ['dutch pop', 'dutch rock'], ['arabesk', 'deep turkish pop', 'turkish pop'], ['arab pop', 'iraqi pop', 'khaliji'], ['c-pop', 'cantopop', 'classic cantopop'], ['indonesian indie', 'indonesian pop'], ['belgian edm'], ['rai', 'rif'], ['cumbia pop'], ['turkish hip hop'], ['italian arena pop', 'italian hip hop', 'italian pop'], ['arabic hip hop', 'rai', 'rap maroc'], ['italian arena pop', 'italian hip hop', 'italian pop', 'rap napoletano'], ['indonesian indie', 'indonesian pop'], ['arab pop', 'classic arab pop', 'syrian pop'], ['rap maroc'], ['italian hip hop', 'trap italiana'], ['mandopop'], ['italian hip hop'], ['karadeniz halk muzigi', 'turkish pop'], ['turkish pop'], ['j-pop', 'j-pop boy group'], ['indonesian pop'], ['israeli hip hop', 'israeli pop'], ['greek hip hop', 'greek trap'], ['turkish pop', 'turkish rock'], ['turkish pop'], ['afro house', 'kwaito', 'kwaito house', 'south african hip hop', 'south african pop'], ['afro house', 'gqom', 'kwaito', 'kwaito house', 'south african pop'], ['french hip hop'], ['entehno', 'greek pop', 'laiko'], ['anime', 'j-pop'], ['fado', 'portuguese pop'], ['polish hip hop'], ['anime', 'j-idol', 'j-pop'], ['argentine rock', 'cumbia pop', 'cumbia villera', 'latin alternative', 'rock en espanol'], ['arabesk', 'turkish rock'], ['israeli pop'], ['indonesian pop', 'malaysian pop'], ['indonesian indie', 'indonesian pop', 'indonesian r&b'], ['turkish pop'], ['australian talent show', 'nz pop', 'polynesian pop'], ['french hip hop', 'trap francais'], ['j-pop', 'japanese r&b'], ['turkish rock', 'turkish trap'], ['italian hip hop'], ['j-division', 'j-pop', 'j-pop boy group'], ['dutch hip hop', 'dutch pop', 'dutch rock'], ['cyber metal', 'finnish metal', 'gothic metal', 'melodic death metal', 'suomi rock'], ['panamanian pop'], ['arabesk', 'deep turkish pop', 'turkish pop'], ['israeli pop'], ['thai idol', 'thai pop', 'thai rock'], ['deep turkish pop', 'persian pop', 'turkish pop'], ['afro house', 'gospel', 'haitian gospel', 'kwaito', 'kwaito house', 'naija worship', 'south african choral', 'south african gospel', 'south african pop', 'world worship'], ['israeli hip hop', 'israeli pop'], ['indonesian indie', 'indonesian jazz', 'indonesian pop'], ['dutch urban'], ['german hip hop'], ['chinese indie', 'taiwan indie', 'taiwan pop'], ['turkish pop'], ['iraqi pop', 'khaliji'], ['turkish hip hop'], ['romanian pop'], ['c-pop', 'cantopop', 'malaysian mandopop'], ['classic icelandic pop', 'icelandic folk', 'icelandic pop'], ['italian hip hop'], ['thai hip hop', 'thai pop'], ['swedish alternative rock', 'swedish pop'], ['anadolu rock', 'turkish jazz', 'turkish psych', 'turkish rock'], ['dutch pop', 'dutch rock'], ['eurovision', 'greek pop', 'laiko'], ['turkish jazz', 'turkish pop', 'turkish psych', 'turkish rock'], ['c-pop', 'cantopop', 'classic cantopop'], ['thai idol', 'thai indie', 'thai pop', 'thai rock'], ['cypriot pop', 'entehno', 'greek pop', 'laiko'], ['greek hip hop', 'greek pop', 'greek trap'], ['batida', 'funana', 'portuguese pop'], ['dangdut', 'dangdut koplo', 'indonesian indie', 'indonesian pop'], ['indonesian pop'], ['kizomba', 'portuguese pop'], ['dutch pop', 'dutch rock'], ['greek hip hop', 'greek trap'], ['israeli pop'], ['turkish jazz', 'turkish pop', 'turkish singer-songwriter'], ['greek hip hop', 'greek pop', 'greek trap'], ['dutch hip hop', 'dutch pop', 'dutch urban'], ['polish hip hop', 'polish trap'], ['anime', 'j-idol', 'j-pop', 'j-pop boy group'], ['turkish pop'], ['dutch indie', 'dutch pop', 'dutch rock', 'nederpop'], ['hoerspiel'], ['chinese hip hop', 'taiwan pop'], ['turkish hip hop'], ['israeli hip hop', 'israeli pop'], ['oyun havasi', 'turkish pop', 'turkish rock'], ['polish hip hop', 'polish trap'], ['indonesian indie', 'indonesian pop'], ['turkish pop'], ['alt-idol', 'j-idol', 'j-pop', 'j-pop girl group'], ['german hip hop', 'hamburg hip hop'], ['indonesian indie', 'indonesian pop'], ['thai idol', 'thai pop'], ['italian arena pop'], ['afro house', 'kwaito', 'kwaito house', 'south african pop'], ['argentine rock', 'cumbia pop', 'latin alternative', 'latin rock', 'rock en espanol', 'rock nacional'], ['chinese hip hop', 'chinese indie', 'taiwan pop'], ['belgian dance', 'belgian edm'], ['norwegian pop', 'russelater', 'tropical house'], ['turkish rock'], ['danish hip hop', 'danish pop'], ['turkish pop'], [], ['cantopop'], ['polish hip hop', 'polish trap'], ['greek hip hop', 'greek pop', 'greek trap'], ['polish hip hop'], ['arab pop', 'iraqi pop', 'khaliji'], ['rai', 'rif'], ['israeli pop', 'israeli rock'], ['turkish pop'], ['mainland chinese pop', 'mandopop'], ['indonesian pop'], ['albanian pop', 'greek trap'], ['turkish hip hop'], ['chinese indie', 'mandopop', 'taiwan pop'], ['israeli pop'], ['turkish pop', 'turkish rock', 'turkish singer-songwriter'], ['polish hip hop', 'polish trap'], ['dutch hip hop'], ['thai idol', 'thai pop'], ['israeli mediterranean'], ['cuarteto', 'cumbia pop'], ['israeli pop', 'israeli rock'], ['danspunk', 'russelater', 'swedish eurodance'], ['swedish hip hop', 'swedish pop'], ['thai idol', 'thai indie', 'thai pop', 'thai rock'], ['entehno', 'greek pop', 'laiko'], ['italian alternative', 'italian arena pop', 'italian hip hop'], ['j-division', 'j-pop', 'j-pop boy group'], ['italian hip hop'], ['turkish jazz', 'turkish pop', 'turkish rock'], ['indonesian indie', 'indonesian pop'], ['danish pop'], ['anadolu rock', 'azeri traditional', 'turkish folk', 'turkish jazz', 'turkish psych', 'turkish rock'], ['hip hop tuga', 'portuguese pop'], ['indonesian pop', 'malaysian pop'], ['thai idol', 'thai pop'], ['turkish pop', 'turkish rock'], ['dutch hip hop', 'dutch urban'], ['israeli pop', 'israeli rock'], ['greek hip hop', 'greek pop', 'greek trap'], ['greek pop', 'laiko'], ['italian alternative', 'italian arena pop', 'italian hip hop', 'milan indie'], ['indonesian jazz', 'indonesian pop'], ['v-pop'], ['indonesian indie', 'indonesian pop'], ['dutch hip hop'], ['scandinavian r&b', 'swedish gangsta rap', 'swedish hip hop', 'swedish pop', 'swedish urban'], ['rai', 'rif'], ['israeli indie', 'israeli pop'], ['israeli pop', 'israeli rock'], ['j-pop', 'j-punk', 'j-rock'], ['dutch hip hop', 'dutch pop'], ['polish hip hop', 'polish trap'], ['polish hip hop', 'polish trap'], ['israeli rock'], ['turkish folk', 'turkish jazz', 'turkish pop', 'turkish singer-songwriter'], ['israeli mediterranean'], ['indonesian indie'], ['indonesian indie', 'indonesian jazz', 'indonesian pop'], ['turkish hip hop', 'turkish trap'], ['indonesian indie', 'indonesian jazz', 'indonesian pop'], ['indonesian pop'], ['indonesian indie', 'indonesian pop', 'musik anak-anak'], ['thai pop'], ['mandopop'], ['entehno', 'greek pop', 'laiko'], ['hoerspiel'], ['hoerspiel'], ['polish hip hop', 'polish trap'], ['turkish hip hop'], ['dangdut', 'dangdut koplo'], ['danish hip hop', 'danish pop'], ['classic arab pop', 'khaliji'], ['turkish pop'], ['polish hip hop'], ['thai hip hop', 'thai pop'], ['italian hip hop'], ['turkish alternative', 'turkish alternative rock', 'turkish pop', 'turkish rock'], ['romanian pop'], ['dutch hip hop', 'dutch pop', 'dutch urban', 'kaseko'], ['czsk hip hop'], ['dutch hip hop', 'dutch pop'], ['swedish idol pop', 'swedish pop'], ['dutch hip hop', 'dutch pop', 'dutch urban'], ['polish hip hop', 'polish trap'], ['argentine rock', 'latin alternative', 'latin rock', 'rock en espanol', 'rock nacional', 'ska argentino'], ['gnawa', 'rai', 'rif'], [], ['israeli rock'], ['classic arab pop', 'khaliji'], ['gothenburg indie', 'swedish indie rock', 'swedish pop'], ['classic greek pop', 'cypriot pop', 'entehno', 'greek pop', 'laiko'], ['anime', 'j-pop'], ['belgian hip hop', 'dutch hip hop', 'dutch pop', 'dutch urban'], ['greek hip hop', 'greek pop', 'greek trap'], ['indie viet', 'v-pop'], ['polish hip hop'], ['israeli pop', 'israeli rock'], ['turkish pop'], ['dutch hip hop', 'dutch pop', 'kaseko'], ['arabic hip hop', 'gnawa', 'rai', 'rap maroc'], ['kabyle', 'rai', 'rif'], ['indonesian pop'], ['thai idol', 'thai indie', 'thai pop', 'thai rock'], ['italian hip hop'], ['greek trap'], ['indonesian indie', 'indonesian pop'], ['indonesian pop'], ['dutch pop', 'dutch rock'], ['polish hip hop', 'south african gospel'], ['indonesian pop', 'malaysian pop'], ['thai idol', 'thai pop'], ['dutch hip hop', 'dutch pop', 'dutch urban'], ['thai idol', 'thai pop'], ['dutch hip hop', 'dutch pop', 'dutch urban'], ['europop', 'swedish pop'], ['indonesian pop'], ['greek hip hop', 'greek pop', 'greek trap'], ['polish hip hop', 'polish trap'], ['danish hip hop', 'danish pop'], ['thai idol', 'thai indie', 'thai pop', 'thai rock'], ['swedish gangsta rap', 'swedish hip hop', 'swedish urban'], ['thai idol', 'thai pop'], ['polish hip hop', 'polish trap'], ['indonesian indie', 'indonesian pop', 'indonesian rock'], [], ['turkish hip hop', 'turkish trap'], ['indonesian indie'], ['entehno', 'greek pop', 'laiko'], ['afro house', 'kwaito', 'kwaito house', 'south african pop'], ['rai'], ['anime', 'j-pop', 'j-pop boy group'], ['turkish hip hop', 'turkish trap'], ['indonesian pop'], ['indonesian indie', 'indonesian pop'], ['turkish pop', 'turkish rock', 'turkish singer-songwriter'], ['arabic hip hop', 'rai', 'rap maroc', 'rif'], ['thai hip hop', 'thai pop'], ['indonesian indie', 'indonesian pop'], ['thai pop'], ['israeli pop', 'israeli rock'], ['thai idol', 'thai pop'], ['turkish hip hop', 'turkish trap'], ['thai idol', 'thai pop'], ['norwegian pop', 'tropical house'], ['turkish jazz', 'turkish pop', 'turkish rock'], ['turkish rock'], ['israeli pop', 'israeli rock'], ['norwegian indie', 'norwegian pop', 'norwegian pop rap', 'scandinavian r&b', 'tropical house'], ['dutch hip hop', 'dutch pop', 'dutch rock'], ['italian arena pop'], ['italian alternative', 'italian arena pop', 'rome indie'], ['chinese indie', 'mandopop', 'taiwan indie', 'taiwan pop'], [], ['danish pop'], ['dutch hip hop'], ['romanian pop'], ['dangdut', 'dangdut koplo'], ['arabic hip hop', 'rap maroc'], ['chinese indie', 'taiwan indie', 'taiwan pop'], ['rap maroc'], ['polish hip hop'], ['dutch hip hop', 'dutch pop', 'dutch urban'], ['canto popular uruguayo', 'cumbia pop', 'cumbia uruguaya'], ['italian alternative', 'italian hip hop', 'milan indie'], ['turkish hip hop', 'turkish trap'], ['c-pop', 'cantopop', 'chinese indie'], [], ['hip hop tuga', 'trap tuga'], ['argentine rock', 'cumbia pop', 'latin alternative', 'latin rock', 'rock en espanol', 'rock nacional'], ['greek house', 'thai pop'], ['norwegian hip hop', 'norwegian indie', 'norwegian pop', 'norwegian pop rap', 'norwegian rock', 'tropical house'], ['romanian hip hop', 'romanian pop'], ['arabic hip hop', 'rai', 'rap maroc'], ['israeli pop', 'mizrahi'], ['brostep', 'edm'], ['arabesk', 'deep turkish pop', 'turkish pop', 'turkish rock'], ['polish hip hop', 'polish trap'], ['anadolu rock', 'karadeniz halk muzigi', 'turkish folk', 'turkish jazz', 'turkish psych', 'turkish rock'], ['swedish hip hop', 'swedish pop', 'swedish reggae', 'swedish trap', 'swedish urban'], ['arabesk', 'turkish folk', 'turkish pop'], ['thai hip hop', 'thai idol', 'thai pop'], ['israeli pop', 'israeli rock'], ['arabesk', 'deep turkish pop', 'turkish pop'], [], ['turkish rock'], ['swedish alternative rock', 'swedish pop'], ['polish hip hop'], ['indonesian pop'], ['turkish pop'], ['turkish hip hop', 'turkish pop', 'turkish trap'], ['thai idol', 'thai pop'], ['turkish hip hop', 'turkish pop', 'turkish trap'], ['dutch indie', 'dutch pop', 'dutch rock'], ['indonesian indie', 'indonesian indie rock', 'indonesian pop'], ['deep turkish pop', 'turkish pop', 'turkish rock'], ['c-pop', 'cantopop'], ['arabic hip hop', 'rap maroc'], ['thai pop'], ['thai pop'], ['czech hip hop', 'czsk hip hop'], ['thai hip hop', 'thai pop'], ['c-pop'], ['estonian electronic', 'estonian pop'], ['polish hip hop', 'polish trap'], ['israeli mediterranean'], ['indie viet', 'rock viet', 'v-pop'], ['turkish hip hop', 'turkish trap'], ['c-pop', 'cantopop'], ['israeli pop'], ['polish indie', 'polish pop'], ['polish hip hop', 'polish trap'], ['dutch hip hop', 'dutch pop', 'dutch urban', 'kaseko'], ['khaliji'], ['romanian hip hop', 'romanian trap'], ['italian alternative', 'italian arena pop', 'italian hip hop'], ['j-pop', 'j-pop boy group'], ['bulgarian hip hop', 'bulgarian pop', 'chalga'], ['fado'], ['german pop'], ['italian hip hop'], ['indonesian pop'], ['indonesian indie', 'indonesian pop'], ['indonesian indie', 'indonesian jazz', 'indonesian pop', 'indonesian reggae'], ['israeli pop'], ['turkish singer-songwriter'], ['israeli hip hop', 'israeli pop'], ['turkish pop', 'turkish rock'], ['manele', 'romanian pop'], ['arab pop', 'rai', 'rif'], ['turkish hip hop'], ['polish hip hop', 'polish trap'], ['thai idol', 'thai pop'], ['thai idol', 'thai pop'], ['dutch hip hop', 'dutch pop', 'dutch urban'], ['danspunk', 'russelater'], ['romanian pop'], ['indonesian indie', 'indonesian pop', 'indonesian reggae', 'indonesian rock'], ['israeli mediterranean'], ['thai idol', 'thai pop'], ['dangdut', 'indonesian pop'], ['dutch hip hop', 'dutch urban'], ['dutch hip hop', 'dutch urban'], ['swedish pop', 'swedish urban'], ['turkish pop', 'turkish rock'], ['dutch hip hop', 'dutch pop', 'dutch urban'], ['swedish pop', 'swedish urban'], ['turkish hip hop', 'turkish pop'], ['turkish pop', 'turkish rock'], ['israeli pop', 'israeli rock'], ['danish pop'], ['thai idol', 'thai indie', 'thai pop'], [], ['malaysian hip hop', 'malaysian indie', 'malaysian pop'], ['j-pop', 'j-pop girl group', 'j-rock'], ['swedish pop', 'swedish urban'], ['indonesian pop'], ['turkish hip hop', 'turkish trap'], ['turkish pop', 'turkish rock'], ['dutch hip hop', 'dutch pop', 'dutch urban'], ['dutch hip hop', 'dutch urban'], ['turkish hip hop', 'turkish trap'], ['malaysian hip hop'], ['danish pop'], ['czech hip hop', 'czsk hip hop'], ['swedish pop', 'swedish urban'], ['rai'], ['israeli pop'], ['turkish pop'], ['turkish hip hop', 'turkish pop'], ['hip hop tuga'], ['hip hop tuga'], ['polish pop', 'polish trap'], ['thai idol', 'thai indie', 'thai pop', 'thai rock'], [], ['thai idol', 'thai indie', 'thai pop', 'thai rock'], ['czsk hip hop'], ['turkish pop', 'turkish punk', 'turkish rock'], ['danish pop'], ['polish alternative rock', 'polish indie', 'polish pop'], ['dutch hip hop', 'dutch pop', 'dutch urban'], ['danish hip hop', 'danish pop'], ['anadolu rock', 'turkish alternative', 'turkish alternative rock', 'turkish rock'], ['turkish pop'], ['thai pop'], ['turkish hip hop', 'turkish trap'], ['icelandic pop'], ['dutch hip hop', 'dutch pop', 'dutch urban'], [], ['malaysian indie', 'malaysian pop'], ['classic greek rock', 'entehno', 'greek indie', 'greek pop', 'laiko'], ['swedish pop'], ['europop', 'swedish idol pop', 'swedish pop'], ['turkish hip hop'], ['portuguese pop'], ['hoerspiel'], ['swedish gangsta rap', 'swedish hip hop', 'swedish trap', 'swedish urban'], ['swedish gangsta rap', 'swedish hip hop', 'swedish pop', 'swedish reggae', 'swedish urban'], ['swedish gangsta rap', 'swedish hip hop', 'swedish pop', 'swedish urban'], ['icelandic electronic'], ['hip hop tuga', 'trap tuga'], ['turkish pop', 'turkish rock'], ['turkish alternative rock', 'turkish rock'], ['bulgarian pop', 'bulgarian rock', 'chalga'], ['classic danish pop', 'danish pop'], ['danspunk', 'russelater', 'swedish eurodance'], ['anime', 'j-pop', 'japanese city pop'], ['bulgarian pop', 'chalga'], ['dutch hip hop', 'dutch pop', 'dutch urban'], ['turkish rock'], ['swedish hip hop', 'swedish pop', 'swedish urban'], ['lithuanian pop'], ['turkish hip hop', 'turkish trap'], ['icelandic hip hop', 'icelandic pop'], ['icelandic hip hop', 'icelandic pop'], ['portuguese pop'], ['dutch hip hop', 'dutch pop', 'dutch urban'], ['portuguese pop'], ['icelandic hip hop'], ['israeli rock'], [], ['nordic house', 'norwegian pop', 'tropical house'], ['dutch hip hop', 'dutch urban'], ['eurovision', 'turkish pop', 'turkish rock'], ['thai idol', 'thai indie', 'thai pop'], ['albanian pop'], ['greek trap'], ['turkish rock'], ['norwegian indie', 'norwegian pop', 'norwegian pop rap', 'tropical house'], ['thai idol', 'thai pop'], ['israeli mediterranean'], ['danish hip hop', 'danish pop'], ['thai pop'], ['turkish rock'], ['classic swedish pop', 'danspunk', 'swedish pop'], ['manele', 'romanian pop'], ['norwegian pop', 'tropical house'], ['khaliji'], ['baile pop', 'portuguese pop'], ['swedish hip hop', 'swedish pop', 'swedish soul'], ['turkish rock'], ['bulgarian pop', 'chalga', 'macedonian folk'], ['swedish eurodance', 'swedish hip hop', 'swedish idol pop', 'swedish pop'], ['romanian hip hop', 'romanian trap'], ['classic danish pop', 'danish pop', 'danish pop rock'], ['dakke dak', 'danish pop'], ['thai idol', 'thai pop'], ['russelater'], ['dutch hip hop', 'dutch trap', 'dutch urban'], ['swedish urban'], ['romanian trap'], ['dutch americana', 'dutch indie', 'dutch pop', 'dutch rock', 'dutch singer-songwriter', 'nederpop'], ['swedish alternative rock', 'swedish pop'], ['hip hop tuga'], ['bulgarian pop'], ['danish pop', 'europop'], ['norwegian pop', 'russelater'], ['anime', 'j-pop', 'j-rap', 'japanese r&b'], ['estonian pop'], ['j-pop', 'j-pop boy group', 'j-rap'], ['balkan trap', 'bulgarian pop'], ['swedish gangsta rap', 'swedish urban'], ['irish hip hop'], ['thai idol', 'thai pop'], ['norwegian pop', 'tropical house'], ['romanian hip hop', 'romanian pop', 'romanian rock', 'romanian trap'], ['thai hip hop', 'thai pop'], ['swedish hip hop', 'swedish pop', 'swedish urban'], [], ['dutch pop', 'dutch rock'], ['dutch hip hop', 'dutch pop', 'dutch urban'], ['czsk hip hop'], ['romanian hip hop', 'romanian trap'], ['icelandic hip hop', 'icelandic indie', 'icelandic pop'], ['norwegian pop', 'norwegian pop rap'], ['thai idol', 'thai pop'], [\"children's choir\"], ['thai idol', 'thai pop'], ['thai pop'], ['j-pop', 'j-pop boy group', 'j-rap', 'okinawan folk'], ['czsk hip hop'], ['danish alternative rock', 'danish pop'], ['dutch urban'], ['belgian hip hop', 'belgian rock'], ['thai idol', 'thai pop', 'thai rock'], ['latvian pop'], ['swedish alternative rock', 'swedish eurodance', 'swedish gangsta rap', 'swedish hip hop', 'swedish pop'], ['african rock', 'afrikaans', 'south african pop'], ['lithuanian pop'], ['turkish pop', 'turkish rock'], ['turkish alternative', 'turkish modern jazz', 'turkish pop', 'turkish rock'], ['norwegian pop', 'norwegian pop rap', 'russelater', 'tropical house'], ['classic malaysian pop', 'malaysian indie', 'malaysian pop', 'rock kapak'], ['classic swedish pop', 'danspunk', 'europop', 'swedish alternative rock', 'swedish eurodance', 'swedish pop'], ['norges stemme', 'norwegian indie', 'norwegian pop', 'tropical house'], ['malaysian indie', 'malaysian pop'], ['norwegian pop rap'], ['swedish hip hop', 'swedish trap', 'swedish urban'], ['bulgarian hip hop', 'bulgarian pop', 'chalga'], ['thai idol', 'thai pop'], ['romanian hip hop', 'romanian pop', 'romanian rock'], ['dutch hip hop', 'dutch urban'], ['thai hip hop'], ['thai idol', 'thai pop'], [], ['greek hip hop', 'greek trap'], ['dutch hip hop', 'dutch indie', 'dutch pop', 'dutch rock'], [], ['swedish gangsta rap', 'swedish hip hop', 'swedish urban'], ['czsk hip hop', 'slovak hip hop'], [], ['czech pop', 'czech rock'], ['bulgarian pop', 'chalga'], ['thai pop'], ['romanian hip hop', 'romanian rock'], ['bulgarian pop', 'chalga'], ['czsk hip hop'], ['dutch pop', 'dutch rock', 'levenslied', 'nederpop'], [], ['hip hop tuga'], ['thai pop'], ['czech pop', 'czsk hip hop'], ['portuguese rock', 'punk tuga'], ['thai idol', 'thai pop', 'thai rock'], ['swedish gangsta rap', 'swedish hip hop', 'swedish trap', 'swedish urban'], ['thai hip hop', 'thai pop'], ['hip hop tuga'], ['romanian electronic', 'romanian hip hop', 'romanian rock'], ['bulgarian hip hop', 'bulgarian pop', 'chalga'], ['dutch pop'], ['romanian hip hop', 'romanian pop'], ['dutch pop', 'dutch rock'], [], ['cypriot pop', 'entehno', 'greek indie', 'greek pop'], ['slovak hip hop'], ['romanian pop'], ['hip hop tuga', 'portuguese pop'], ['lithuanian hip hop', 'lithuanian pop'], ['norwegian pop', 'tropical house'], ['hip hop tuga'], ['bulgarian pop', 'chalga'], ['romanian hip hop'], ['norwegian hip hop', 'norwegian pop rap'], ['lithuanian pop'], ['classic portuguese pop', 'hip hop tuga', 'portuguese rock'], ['swedish hip hop', 'swedish urban'], ['swedish hip hop', 'swedish pop', 'swedish urban'], ['classic norwegian pop', 'danseband', 'norwegian country', 'norwegian pop'], [], ['czech pop', 'czech rock'], ['portuguese pop'], ['czsk hip hop'], ['thai hip hop'], ['iraqi pop'], ['bulgarian hip hop', 'bulgarian pop'], ['danish hip hop', 'danish pop'], ['bulgarian pop', 'chalga'], ['hip hop tuga', 'moombahton'], ['romanian hip hop', 'romanian pop', 'romanian rock'], ['dutch pop', 'dutch rock', 'levenslied'], ['malaysian indie', 'malaysian pop', 'rock kapak'], ['j-pop', 'j-rap', 'japanese r&b'], ['czech hip hop', 'czsk hip hop'], ['portuguese pop'], ['austropop', 'volkspop'], ['icelandic pop'], ['thai idol', 'thai pop'], ['czsk hip hop'], ['african rock', 'afrikaans', 'south african alternative', 'south african pop'], ['danish hip hop', 'danish pop'], ['thai hip hop'], ['swedish hip hop', 'swedish urban'], ['icelandic pop'], ['bulgarian hip hop', 'bulgarian pop', 'chalga'], ['greek hip hop', 'greek trap'], ['swedish hip hop', 'swedish urban'], ['romanian hip hop', 'romanian trap'], ['lithuanian hip hop', 'lithuanian pop'], ['malaysian pop'], ['classic greek rock', 'entehno', 'greek indie'], ['lithuanian pop'], ['icelandic pop'], ['finnish dance pop', 'finnish pop', 'iskelma', 'suomi rock'], ['romanian hip hop', 'romanian pop', 'romanian trap'], ['czsk hip hop', 'slovak hip hop'], ['classic swedish pop', 'swedish alternative rock', 'swedish pop', 'swedish singer-songwriter'], ['greek trap'], ['danspunk', 'swedish eurodance', 'swedish pop'], ['bulgarian pop', 'chalga'], ['portuguese pop'], ['norwegian pop', 'norwegian pop rap', 'russelater'], [], ['classic swedish pop', 'swedish pop'], ['bulgarian hip hop', 'bulgarian pop'], ['portuguese pop'], [], ['greek trap'], ['hungarian hip hop', 'hungarian pop'], ['dutch pop'], ['danish hip hop', 'danish pop'], ['thai pop'], [], ['bulgarian pop', 'chalga'], ['swedish gangsta rap', 'swedish urban'], ['hungarian hip hop', 'hungarian pop', 'hungarian rock', 'magyar alternative'], ['czsk hip hop'], ['romanian trap'], ['thai pop'], ['icelandic electronic', 'icelandic hip hop', 'icelandic pop'], ['classic swedish pop', 'danspunk', 'europop', 'swedish alternative rock', 'swedish pop'], ['czech folk', 'czech pop', 'czech rock'], ['bulgarian pop', 'chalga'], ['hip hop tuga'], ['bulgarian pop', 'chalga'], ['hungarian hip hop', 'hungarian pop'], ['swedish gangsta rap', 'swedish hip hop', 'swedish urban'], ['dutch hip hop', 'dutch pop', 'dutch rock'], ['danish hip hop', 'danish pop'], ['norwegian pop', 'norwegian pop rap', 'swedish gangsta rap'], ['swedish hip hop', 'swedish urban'], ['lithuanian pop'], ['estonian hip hop', 'estonian pop'], ['dakke dak', 'danish hip hop', 'danish pop'], ['czsk hip hop'], ['lithuanian hip hop', 'lithuanian pop'], ['bulgarian hip hop', 'bulgarian pop', 'bulgarian rock', 'chalga'], ['classic swedish pop', 'dansband', 'danspunk', 'swedish pop'], ['hungarian pop', 'hungarian rock'], ['finnish dance pop', 'finnish pop', 'suomi rock'], ['classic swedish pop', 'dansband', 'danspunk', 'swedish eurodance'], ['icelandic hip hop', 'icelandic pop'], ['lithuanian pop'], ['dutch pop'], ['czsk hip hop'], ['icelandic hip hop', 'icelandic pop'], ['hip hop tuga'], ['czech folk', 'czech pop', 'czech rock'], ['hungarian hip hop', 'hungarian pop'], ['classic icelandic pop', 'icelandic pop', 'icelandic rock'], [], ['bulgarian hip hop', 'bulgarian pop'], ['czech folk', 'czech pop', 'czech rock'], ['czsk hip hop'], ['funk ostentacao'], ['hip hop tuga'], ['latvian hip hop', 'latvian pop'], ['greek hip hop'], [], ['greek hip hop', 'greek trap'], ['romanian hip hop', 'romanian pop', 'romanian rock'], ['romanian trap'], ['finnish dance pop', 'finnish hip hop'], ['czech hip hop', 'czsk hip hop'], ['bulgarian hip hop', 'bulgarian pop'], ['romanian hip hop', 'romanian rock', 'romanian trap'], ['icelandic electronic', 'icelandic pop'], ['hip hop tuga', 'portuguese indie', 'portuguese rock'], ['czsk hip hop'], ['romanian trap'], ['italian arena pop'], ['bulgarian pop', 'chalga'], ['indie surf', 'latvian indie'], ['icelandic hip hop', 'icelandic pop'], ['czech folk', 'czech pop', 'czech rock'], ['bulgarian pop', 'chalga'], ['lithuanian hip hop', 'lithuanian pop'], ['norwegian country', 'norwegian pop'], ['bulgarian hip hop', 'bulgarian pop', 'bulgarian rock'], ['barnemusikk'], ['dutch hip hop', 'dutch pop', 'dutch rock'], ['finnish dance pop', 'finnish hip hop'], ['swedish gangsta rap', 'swedish hip hop', 'swedish urban'], ['latvian pop'], ['hungarian pop', 'magyar alternative'], ['lithuanian pop'], ['lithuanian hip hop', 'lithuanian pop'], ['bulgarian pop', 'chalga'], ['swedish hip hop', 'swedish urban'], [], ['lithuanian pop'], ['czsk hip hop', 'slovak pop', 'slovak rock'], ['classic norwegian pop', 'danseband', 'norwegian country', 'norwegian pop', 'norwegian rock'], ['finnish dance pop', 'finnish pop', 'iskelma', 'suomi rock'], [], ['italian arena pop'], ['czsk hip hop', 'slovak hip hop'], ['czsk hip hop'], ['czsk hip hop'], ['czsk hip hop'], ['hip hop tuga', 'trap tuga'], ['hungarian hip hop'], ['czsk hip hop'], ['estonian hip hop', 'estonian pop'], ['hip hop tuga', 'trap tuga'], ['bulgarian pop'], ['greek trap'], ['finnish dance pop', 'finnish hip hop', 'finnish pop', 'iskelma'], ['entehno', 'greek indie'], ['hip hop tuga', 'trap tuga'], ['czsk hip hop'], [], ['icelandic pop'], ['hip hop tuga'], ['thai pop'], ['hungarian hip hop'], ['classic icelandic pop', 'icelandic pop'], ['latvian pop'], ['latvian pop'], ['czsk hip hop'], ['belgian rock', 'classic belgian pop', 'dutch rock'], ['czech rock', 'czsk hip hop', 'slovak pop', 'slovak rock'], ['czech hip hop', 'czsk hip hop'], ['finnish dance pop', 'finnish hip hop'], ['czech punk', 'czech rock'], ['hungarian pop'], ['cumbia pop'], ['czsk hip hop', 'slovak hip hop'], ['hip hop tuga', 'trap tuga'], ['finnish dance pop', 'finnish hip hop', 'finnish pop', 'iskelma', 'suomi rock'], ['hungarian hip hop', 'hungarian pop', 'hungarian rock'], ['greek trap'], ['romanian trap'], ['lithuanian pop'], ['czech pop', 'czech rock'], ['czech folk', 'czech punk', 'czech rock'], ['romanian trap'], ['czsk hip hop'], ['czsk hip hop'], [], ['greek hip hop'], ['carnaval', 'levenslied'], ['lithuanian pop'], ['greek hip hop'], ['classic norwegian pop', 'danseband', 'norwegian pop', 'norwegian rock'], ['czsk hip hop'], ['bulgarian hip hop', 'bulgarian pop'], ['slovak pop'], ['finnish dance pop', 'finnish hip hop', 'finnish pop'], ['finnish dance pop', 'finnish hip hop', 'finnish pop'], ['lithuanian hip hop', 'lithuanian pop'], ['latvian pop'], ['romanian trap'], ['czsk hip hop'], ['lithuanian pop'], [], ['czech hip hop', 'czsk hip hop'], ['hip hop tuga', 'trap tuga'], ['lithuanian pop'], ['czech hip hop', 'czsk hip hop'], ['finnish dance pop', 'finnish hip hop'], ['finnish dance pop', 'finnish hip hop'], ['czsk hip hop'], ['barnemusikk'], ['j-pop', 'j-pop girl group', 'j-rock', 'japanese alternative rock'], ['hungarian pop', 'hungarian rock', 'magyar alternative'], ['khaliji'], ['lithuanian hip hop', 'lithuanian pop'], ['hip hop tuga'], ['hungarian pop'], ['finnish dance pop', 'finnish pop', 'iskelma', 'suomi rock'], ['finnish dance pop', 'finnish hip hop'], ['czsk hip hop'], ['hungarian hip hop'], ['lithuanian pop', 'sung poetry'], ['barnemusikk', 'classic norwegian pop'], ['icelandic hip hop', 'icelandic pop'], ['icelandic hip hop', 'icelandic pop'], ['finnish dance pop', 'finnish hip hop'], ['czech folk', 'czech pop', 'czech rock'], ['hungarian pop', 'hungarian rock'], ['finnish dance pop', 'finnish punk', 'suomi rock'], ['icelandic pop'], ['finnish dance pop', 'finnish hip hop', 'finnish pop'], ['latvian hip hop'], ['finnish dance pop', 'finnish hip hop', 'finnish pop', 'iskelma', 'suomi rock'], ['lithuanian pop'], ['hungarian pop', 'hungarian rock', 'magyar alternative'], ['bulgarian pop'], ['lithuanian indie', 'lithuanian pop'], ['romanian trap'], ['hungarian hip hop'], ['hungarian pop'], ['czsk hip hop'], ['czsk hip hop'], ['czech folk', 'czech hip hop', 'czech pop', 'czech rock'], ['czech pop', 'czech rock'], ['finnish dance pop', 'finnish pop', 'iskelma', 'suomi rock'], ['czech pop', 'czech rock'], ['classic icelandic pop', 'icelandic rock'], ['czsk hip hop'], ['hungarian pop', 'hungarian rock'], ['classic swedish pop', 'dansband', 'danspunk'], ['czech pop'], ['czsk hip hop', 'slovak hip hop'], ['finnish dance pop', 'finnish hip hop', 'finnish pop'], ['czech folk', 'czech pop', 'czech rock', 'slovak pop'], ['czsk hip hop'], ['bulgarian electronic'], ['hungarian pop'], ['romanian hip hop'], ['bulgarian rock'], ['finnish dance pop', 'finnish hip hop', 'finnish pop'], ['czsk hip hop'], ['lithuanian pop'], ['czsk hip hop'], ['latvian hip hop'], ['finnish dance pop', 'finnish hip hop', 'finnish pop'], ['belgian pop', 'dutch pop', 'dutch rock'], ['finnish dance pop', 'finnish hip hop'], ['bulgarian hip hop', 'bulgarian pop', 'bulgarian rock'], ['barnsagor'], ['finnish dance pop', 'finnish hip hop'], ['latvian hip hop'], ['hungarian pop'], ['hungarian hip hop'], ['bulgarian hip hop'], ['czsk hip hop'], ['finnish dance pop', 'finnish hip hop', 'finnish pop'], ['classic icelandic pop'], ['czsk hip hop', 'slovak hip hop'], ['estonian hip hop', 'estonian pop'], ['finnish dance pop', 'finnish pop', 'iskelma'], ['czech pop'], ['belgian hip hop'], ['hip hop tuga'], [], ['estonian pop'], ['lithuanian indie', 'lithuanian pop'], ['dansband', 'danspunk'], ['bulgarian hip hop', 'bulgarian pop', 'bulgarian rock'], ['finnish dance pop', 'finnish hip hop', 'finnish pop'], ['belgian rock', 'classic belgian pop', 'flemish folk'], [], ['barnmusik', 'barnsagor'], ['czech indie', 'czech punk', 'czech rock'], ['finnish dance pop', 'finnish hip hop', 'finnish pop'], ['finnish dance pop', 'finnish hip hop', 'finnish pop'], ['iraqi pop'], ['slovak pop'], ['hungarian pop', 'hungarian rock', 'magyar alternative'], [], ['latvian pop'], ['hungarian pop', 'hungarian rock', 'magyar alternative'], ['czsk hip hop'], [], [], [], ['finnish dance pop', 'finnish hip hop', 'finnish pop'], ['finnish dance pop', 'finnish hip hop', 'finnish pop', 'iskelma', 'suomi rock'], ['finnish dance pop', 'finnish hip hop'], ['czsk hip hop'], ['hungarian pop'], ['czech folk', 'czech pop', 'czech punk', 'czech rock'], ['finnish dance pop', 'finnish hip hop'], ['latvian pop', 'latvian rock'], [], [], ['finnish dance pop', 'finnish pop', 'suomi rock'], ['estonian pop'], ['czech pop'], [], [], ['latvian hip hop', 'latvian pop'], [], ['classic swedish pop', 'swedish pop'], ['hungarian pop', 'hungarian rock'], ['finnish dance pop', 'finnish hip hop', 'finnish pop', 'iskelma'], [], ['latvian indie', 'latvian pop'], ['belgian pop'], ['czech folk', 'czech pop', 'czech rock'], ['finnish dance pop', 'finnish hip hop', 'finnish pop', 'iskelma'], ['finnish dance pop', 'finnish hip hop'], ['estonian hip hop', 'estonian pop'], ['belgian pop', 'classic belgian pop'], ['maltese pop'], [], ['latvian hip hop'], ['latvian hip hop', 'latvian pop'], ['latvian pop'], ['hungarian pop', 'hungarian rock'], ['slovak pop'], ['czsk hip hop'], ['finnish indie', 'finnish pop', 'suomi rock'], ['latvian hip hop'], [], ['finnish dance pop', 'finnish hip hop'], ['slovak indie', 'slovak pop'], ['finnish dance pop', 'finnish hip hop', 'finnish pop', 'iskelma', 'suomi rock'], ['latvian pop'], ['finnish pop'], ['j-indie', 'j-pop', 'j-pop girl group', 'j-rock', 'japanese alternative rock'], ['danish hip hop', 'danish pop'], ['finnish dance pop', 'finnish hip hop', 'finnish pop', 'iskelma'], ['finnish dance pop', 'finnish hip hop', 'finnish pop'], ['finnish pop'], ['finnish dance pop', 'finnish hip hop', 'finnish pop'], [], ['finnish dance pop', 'finnish hip hop'], ['czech pop'], ['czech pop', 'czech rock']]\n"
     ]
    }
   ],
   "source": [
    "print(genres)"
   ]
  },
  {
   "cell_type": "code",
   "execution_count": 9,
   "metadata": {},
   "outputs": [
    {
     "data": {
      "text/plain": [
       "(2000, 3)"
      ]
     },
     "execution_count": 9,
     "metadata": {},
     "output_type": "execute_result"
    }
   ],
   "source": [
    "data2 = pd.DataFrame({'artist_name':artist_name, 'genres':genres, 'artist_id':artist_id})\n",
    "data2.head()\n",
    "data2.shape"
   ]
  },
  {
   "cell_type": "code",
   "execution_count": 10,
   "metadata": {
    "scrolled": true
   },
   "outputs": [
    {
     "data": {
      "text/html": [
       "<div>\n",
       "<style scoped>\n",
       "    .dataframe tbody tr th:only-of-type {\n",
       "        vertical-align: middle;\n",
       "    }\n",
       "\n",
       "    .dataframe tbody tr th {\n",
       "        vertical-align: top;\n",
       "    }\n",
       "\n",
       "    .dataframe thead th {\n",
       "        text-align: right;\n",
       "    }\n",
       "</style>\n",
       "<table border=\"1\" class=\"dataframe\">\n",
       "  <thead>\n",
       "    <tr style=\"text-align: right;\">\n",
       "      <th></th>\n",
       "      <th>artist_name</th>\n",
       "      <th>genres</th>\n",
       "      <th>artist_id</th>\n",
       "    </tr>\n",
       "  </thead>\n",
       "  <tbody>\n",
       "    <tr>\n",
       "      <th>0</th>\n",
       "      <td>Khalid</td>\n",
       "      <td>[pop]</td>\n",
       "      <td>6LuN9FCkKOj5PcnpouEgny</td>\n",
       "    </tr>\n",
       "    <tr>\n",
       "      <th>1</th>\n",
       "      <td>Post Malone</td>\n",
       "      <td>[dfw rap, pop, rap]</td>\n",
       "      <td>246dkjvS1zLTtiykXe5h60</td>\n",
       "    </tr>\n",
       "    <tr>\n",
       "      <th>2</th>\n",
       "      <td>Billie Eilish</td>\n",
       "      <td>[electropop, pop]</td>\n",
       "      <td>6qqNVTkY8uBg9cP3Jd7DAH</td>\n",
       "    </tr>\n",
       "    <tr>\n",
       "      <th>3</th>\n",
       "      <td>Travis Scott</td>\n",
       "      <td>[pop, pop rap, rap]</td>\n",
       "      <td>0Y5tJX1MQlPlqiwlOH1tJY</td>\n",
       "    </tr>\n",
       "    <tr>\n",
       "      <th>4</th>\n",
       "      <td>Ed Sheeran</td>\n",
       "      <td>[pop, uk pop]</td>\n",
       "      <td>6eUKZXaKkcviH0Ku9w2n3V</td>\n",
       "    </tr>\n",
       "  </tbody>\n",
       "</table>\n",
       "</div>"
      ],
      "text/plain": [
       "     artist_name               genres               artist_id\n",
       "0         Khalid                [pop]  6LuN9FCkKOj5PcnpouEgny\n",
       "1    Post Malone  [dfw rap, pop, rap]  246dkjvS1zLTtiykXe5h60\n",
       "2  Billie Eilish    [electropop, pop]  6qqNVTkY8uBg9cP3Jd7DAH\n",
       "3   Travis Scott  [pop, pop rap, rap]  0Y5tJX1MQlPlqiwlOH1tJY\n",
       "4     Ed Sheeran        [pop, uk pop]  6eUKZXaKkcviH0Ku9w2n3V"
      ]
     },
     "execution_count": 10,
     "metadata": {},
     "output_type": "execute_result"
    }
   ],
   "source": [
    "data2.head()"
   ]
  },
  {
   "cell_type": "code",
   "execution_count": 11,
   "metadata": {},
   "outputs": [],
   "source": [
    "data2['Empty'] = data2['genres'].apply(lambda dog : 1 if len(dog) == 0 else 0)"
   ]
  },
  {
   "cell_type": "code",
   "execution_count": 12,
   "metadata": {},
   "outputs": [
    {
     "data": {
      "text/plain": [
       "0    1948\n",
       "1      52\n",
       "Name: Empty, dtype: int64"
      ]
     },
     "execution_count": 12,
     "metadata": {},
     "output_type": "execute_result"
    }
   ],
   "source": [
    "data2.Empty.value_counts()"
   ]
  },
  {
   "cell_type": "code",
   "execution_count": 13,
   "metadata": {
    "scrolled": true
   },
   "outputs": [],
   "source": [
    "data2 = data2[data2.Empty != 1]"
   ]
  },
  {
   "cell_type": "code",
   "execution_count": 14,
   "metadata": {},
   "outputs": [
    {
     "name": "stdout",
     "output_type": "stream",
     "text": [
      "<class 'pandas.core.frame.DataFrame'>\n",
      "Int64Index: 1948 entries, 0 to 1999\n",
      "Data columns (total 4 columns):\n",
      "artist_name    1948 non-null object\n",
      "genres         1948 non-null object\n",
      "artist_id      1948 non-null object\n",
      "Empty          1948 non-null int64\n",
      "dtypes: int64(1), object(3)\n",
      "memory usage: 76.1+ KB\n"
     ]
    }
   ],
   "source": [
    "data2.info()"
   ]
  },
  {
   "cell_type": "code",
   "execution_count": 15,
   "metadata": {},
   "outputs": [
    {
     "data": {
      "text/html": [
       "<div>\n",
       "<style scoped>\n",
       "    .dataframe tbody tr th:only-of-type {\n",
       "        vertical-align: middle;\n",
       "    }\n",
       "\n",
       "    .dataframe tbody tr th {\n",
       "        vertical-align: top;\n",
       "    }\n",
       "\n",
       "    .dataframe thead th {\n",
       "        text-align: right;\n",
       "    }\n",
       "</style>\n",
       "<table border=\"1\" class=\"dataframe\">\n",
       "  <thead>\n",
       "    <tr style=\"text-align: right;\">\n",
       "      <th></th>\n",
       "      <th>artist_name</th>\n",
       "      <th>genres</th>\n",
       "      <th>artist_id</th>\n",
       "      <th>Empty</th>\n",
       "      <th>genre_mc</th>\n",
       "    </tr>\n",
       "  </thead>\n",
       "  <tbody>\n",
       "    <tr>\n",
       "      <th>0</th>\n",
       "      <td>Khalid</td>\n",
       "      <td>[pop]</td>\n",
       "      <td>6LuN9FCkKOj5PcnpouEgny</td>\n",
       "      <td>0</td>\n",
       "      <td>pop</td>\n",
       "    </tr>\n",
       "    <tr>\n",
       "      <th>1</th>\n",
       "      <td>Post Malone</td>\n",
       "      <td>[dfw rap, pop, rap]</td>\n",
       "      <td>246dkjvS1zLTtiykXe5h60</td>\n",
       "      <td>0</td>\n",
       "      <td>dfw rap</td>\n",
       "    </tr>\n",
       "    <tr>\n",
       "      <th>2</th>\n",
       "      <td>Billie Eilish</td>\n",
       "      <td>[electropop, pop]</td>\n",
       "      <td>6qqNVTkY8uBg9cP3Jd7DAH</td>\n",
       "      <td>0</td>\n",
       "      <td>electropop</td>\n",
       "    </tr>\n",
       "    <tr>\n",
       "      <th>3</th>\n",
       "      <td>Travis Scott</td>\n",
       "      <td>[pop, pop rap, rap]</td>\n",
       "      <td>0Y5tJX1MQlPlqiwlOH1tJY</td>\n",
       "      <td>0</td>\n",
       "      <td>pop</td>\n",
       "    </tr>\n",
       "    <tr>\n",
       "      <th>4</th>\n",
       "      <td>Ed Sheeran</td>\n",
       "      <td>[pop, uk pop]</td>\n",
       "      <td>6eUKZXaKkcviH0Ku9w2n3V</td>\n",
       "      <td>0</td>\n",
       "      <td>pop</td>\n",
       "    </tr>\n",
       "  </tbody>\n",
       "</table>\n",
       "</div>"
      ],
      "text/plain": [
       "     artist_name               genres               artist_id  Empty  \\\n",
       "0         Khalid                [pop]  6LuN9FCkKOj5PcnpouEgny      0   \n",
       "1    Post Malone  [dfw rap, pop, rap]  246dkjvS1zLTtiykXe5h60      0   \n",
       "2  Billie Eilish    [electropop, pop]  6qqNVTkY8uBg9cP3Jd7DAH      0   \n",
       "3   Travis Scott  [pop, pop rap, rap]  0Y5tJX1MQlPlqiwlOH1tJY      0   \n",
       "4     Ed Sheeran        [pop, uk pop]  6eUKZXaKkcviH0Ku9w2n3V      0   \n",
       "\n",
       "     genre_mc  \n",
       "0         pop  \n",
       "1     dfw rap  \n",
       "2  electropop  \n",
       "3         pop  \n",
       "4         pop  "
      ]
     },
     "execution_count": 15,
     "metadata": {},
     "output_type": "execute_result"
    }
   ],
   "source": [
    "from collections import Counter \n",
    "  \n",
    "def most_frequent(List): \n",
    "    occurence_count = Counter(List) \n",
    "    return occurence_count.most_common(1)[0][0]\n",
    "\n",
    "data2['genre_mc'] = data2['genres'].apply(lambda fav: most_frequent(fav))\n",
    "\n",
    "data2.head()"
   ]
  },
  {
   "cell_type": "code",
   "execution_count": 16,
   "metadata": {},
   "outputs": [],
   "source": [
    "#data2 = data2.drop('Empty', axis=1)\n",
    "data2 = data2.drop('genres', axis=1)"
   ]
  },
  {
   "cell_type": "code",
   "execution_count": 17,
   "metadata": {},
   "outputs": [
    {
     "data": {
      "text/html": [
       "<div>\n",
       "<style scoped>\n",
       "    .dataframe tbody tr th:only-of-type {\n",
       "        vertical-align: middle;\n",
       "    }\n",
       "\n",
       "    .dataframe tbody tr th {\n",
       "        vertical-align: top;\n",
       "    }\n",
       "\n",
       "    .dataframe thead th {\n",
       "        text-align: right;\n",
       "    }\n",
       "</style>\n",
       "<table border=\"1\" class=\"dataframe\">\n",
       "  <thead>\n",
       "    <tr style=\"text-align: right;\">\n",
       "      <th></th>\n",
       "      <th>artist_name</th>\n",
       "      <th>artist_id</th>\n",
       "      <th>Empty</th>\n",
       "      <th>genre_mc</th>\n",
       "    </tr>\n",
       "  </thead>\n",
       "  <tbody>\n",
       "    <tr>\n",
       "      <th>0</th>\n",
       "      <td>Khalid</td>\n",
       "      <td>6LuN9FCkKOj5PcnpouEgny</td>\n",
       "      <td>0</td>\n",
       "      <td>pop</td>\n",
       "    </tr>\n",
       "    <tr>\n",
       "      <th>1</th>\n",
       "      <td>Post Malone</td>\n",
       "      <td>246dkjvS1zLTtiykXe5h60</td>\n",
       "      <td>0</td>\n",
       "      <td>dfw rap</td>\n",
       "    </tr>\n",
       "    <tr>\n",
       "      <th>2</th>\n",
       "      <td>Billie Eilish</td>\n",
       "      <td>6qqNVTkY8uBg9cP3Jd7DAH</td>\n",
       "      <td>0</td>\n",
       "      <td>electropop</td>\n",
       "    </tr>\n",
       "    <tr>\n",
       "      <th>3</th>\n",
       "      <td>Travis Scott</td>\n",
       "      <td>0Y5tJX1MQlPlqiwlOH1tJY</td>\n",
       "      <td>0</td>\n",
       "      <td>pop</td>\n",
       "    </tr>\n",
       "    <tr>\n",
       "      <th>4</th>\n",
       "      <td>Ed Sheeran</td>\n",
       "      <td>6eUKZXaKkcviH0Ku9w2n3V</td>\n",
       "      <td>0</td>\n",
       "      <td>pop</td>\n",
       "    </tr>\n",
       "  </tbody>\n",
       "</table>\n",
       "</div>"
      ],
      "text/plain": [
       "     artist_name               artist_id  Empty    genre_mc\n",
       "0         Khalid  6LuN9FCkKOj5PcnpouEgny      0         pop\n",
       "1    Post Malone  246dkjvS1zLTtiykXe5h60      0     dfw rap\n",
       "2  Billie Eilish  6qqNVTkY8uBg9cP3Jd7DAH      0  electropop\n",
       "3   Travis Scott  0Y5tJX1MQlPlqiwlOH1tJY      0         pop\n",
       "4     Ed Sheeran  6eUKZXaKkcviH0Ku9w2n3V      0         pop"
      ]
     },
     "execution_count": 17,
     "metadata": {},
     "output_type": "execute_result"
    }
   ],
   "source": [
    "data2.head()"
   ]
  },
  {
   "cell_type": "code",
   "execution_count": 47,
   "metadata": {},
   "outputs": [
    {
     "name": "stdout",
     "output_type": "stream",
     "text": [
      "<class 'pandas.core.frame.DataFrame'>\n",
      "Int64Index: 130663 entries, 0 to 130662\n",
      "Data columns (total 20 columns):\n",
      "artist_name         130663 non-null object\n",
      "track_id            130663 non-null object\n",
      "track_name          130663 non-null object\n",
      "acousticness        130663 non-null float64\n",
      "danceability        130663 non-null float64\n",
      "duration_ms         130663 non-null int64\n",
      "energy              130663 non-null float64\n",
      "instrumentalness    130663 non-null float64\n",
      "key                 130663 non-null int64\n",
      "liveness            130663 non-null float64\n",
      "loudness            130663 non-null float64\n",
      "mode                130663 non-null int64\n",
      "speechiness         130663 non-null float64\n",
      "tempo               130663 non-null float64\n",
      "time_signature      130663 non-null int64\n",
      "valence             130663 non-null float64\n",
      "popularity          130663 non-null int64\n",
      "artist_id           13132 non-null object\n",
      "Empty               13132 non-null float64\n",
      "genre_mc            13132 non-null object\n",
      "dtypes: float64(10), int64(5), object(5)\n",
      "memory usage: 20.9+ MB\n"
     ]
    }
   ],
   "source": [
    "data_all=pd.merge(data, data2, on = \"artist_name\", how = 'left')\n",
    "data_all.info()"
   ]
  },
  {
   "cell_type": "code",
   "execution_count": 48,
   "metadata": {
    "scrolled": true
   },
   "outputs": [
    {
     "data": {
      "text/html": [
       "<div>\n",
       "<style scoped>\n",
       "    .dataframe tbody tr th:only-of-type {\n",
       "        vertical-align: middle;\n",
       "    }\n",
       "\n",
       "    .dataframe tbody tr th {\n",
       "        vertical-align: top;\n",
       "    }\n",
       "\n",
       "    .dataframe thead th {\n",
       "        text-align: right;\n",
       "    }\n",
       "</style>\n",
       "<table border=\"1\" class=\"dataframe\">\n",
       "  <thead>\n",
       "    <tr style=\"text-align: right;\">\n",
       "      <th></th>\n",
       "      <th>artist_name</th>\n",
       "      <th>track_id</th>\n",
       "      <th>track_name</th>\n",
       "      <th>acousticness</th>\n",
       "      <th>danceability</th>\n",
       "      <th>duration_ms</th>\n",
       "      <th>energy</th>\n",
       "      <th>instrumentalness</th>\n",
       "      <th>key</th>\n",
       "      <th>liveness</th>\n",
       "      <th>loudness</th>\n",
       "      <th>mode</th>\n",
       "      <th>speechiness</th>\n",
       "      <th>tempo</th>\n",
       "      <th>time_signature</th>\n",
       "      <th>valence</th>\n",
       "      <th>popularity</th>\n",
       "      <th>artist_id</th>\n",
       "      <th>Empty</th>\n",
       "      <th>genre_mc</th>\n",
       "    </tr>\n",
       "  </thead>\n",
       "  <tbody>\n",
       "    <tr>\n",
       "      <th>0</th>\n",
       "      <td>YG</td>\n",
       "      <td>2RM4jf1Xa9zPgMGRDiht8O</td>\n",
       "      <td>Big Bank feat. 2 Chainz, Big Sean, Nicki Minaj</td>\n",
       "      <td>0.005820</td>\n",
       "      <td>0.743</td>\n",
       "      <td>238373</td>\n",
       "      <td>0.339</td>\n",
       "      <td>0.000</td>\n",
       "      <td>1</td>\n",
       "      <td>0.0812</td>\n",
       "      <td>-7.678</td>\n",
       "      <td>1</td>\n",
       "      <td>0.4090</td>\n",
       "      <td>203.927</td>\n",
       "      <td>4</td>\n",
       "      <td>0.118</td>\n",
       "      <td>15</td>\n",
       "      <td>0A0FS04o6zMoto8OKPsDwY</td>\n",
       "      <td>0.0</td>\n",
       "      <td>cali rap</td>\n",
       "    </tr>\n",
       "    <tr>\n",
       "      <th>1</th>\n",
       "      <td>YG</td>\n",
       "      <td>1tHDG53xJNGsItRA3vfVgs</td>\n",
       "      <td>BAND DRUM (feat. A$AP Rocky)</td>\n",
       "      <td>0.024400</td>\n",
       "      <td>0.846</td>\n",
       "      <td>214800</td>\n",
       "      <td>0.557</td>\n",
       "      <td>0.000</td>\n",
       "      <td>8</td>\n",
       "      <td>0.2860</td>\n",
       "      <td>-7.259</td>\n",
       "      <td>1</td>\n",
       "      <td>0.4570</td>\n",
       "      <td>159.009</td>\n",
       "      <td>4</td>\n",
       "      <td>0.371</td>\n",
       "      <td>0</td>\n",
       "      <td>0A0FS04o6zMoto8OKPsDwY</td>\n",
       "      <td>0.0</td>\n",
       "      <td>cali rap</td>\n",
       "    </tr>\n",
       "    <tr>\n",
       "      <th>2</th>\n",
       "      <td>R3HAB</td>\n",
       "      <td>6Wosx2euFPMT14UXiWudMy</td>\n",
       "      <td>Radio Silence</td>\n",
       "      <td>0.025000</td>\n",
       "      <td>0.603</td>\n",
       "      <td>138913</td>\n",
       "      <td>0.723</td>\n",
       "      <td>0.000</td>\n",
       "      <td>9</td>\n",
       "      <td>0.0824</td>\n",
       "      <td>-5.890</td>\n",
       "      <td>0</td>\n",
       "      <td>0.0454</td>\n",
       "      <td>114.966</td>\n",
       "      <td>4</td>\n",
       "      <td>0.382</td>\n",
       "      <td>56</td>\n",
       "      <td>NaN</td>\n",
       "      <td>NaN</td>\n",
       "      <td>NaN</td>\n",
       "    </tr>\n",
       "    <tr>\n",
       "      <th>3</th>\n",
       "      <td>Chris Cooq</td>\n",
       "      <td>3J2Jpw61sO7l6Hc7qdYV91</td>\n",
       "      <td>Lactose</td>\n",
       "      <td>0.029400</td>\n",
       "      <td>0.800</td>\n",
       "      <td>125381</td>\n",
       "      <td>0.579</td>\n",
       "      <td>0.912</td>\n",
       "      <td>5</td>\n",
       "      <td>0.0994</td>\n",
       "      <td>-12.118</td>\n",
       "      <td>0</td>\n",
       "      <td>0.0701</td>\n",
       "      <td>123.003</td>\n",
       "      <td>4</td>\n",
       "      <td>0.641</td>\n",
       "      <td>0</td>\n",
       "      <td>NaN</td>\n",
       "      <td>NaN</td>\n",
       "      <td>NaN</td>\n",
       "    </tr>\n",
       "    <tr>\n",
       "      <th>4</th>\n",
       "      <td>Chris Cooq</td>\n",
       "      <td>2jbYvQCyPgX3CdmAzeVeuS</td>\n",
       "      <td>Same - Original mix</td>\n",
       "      <td>0.000035</td>\n",
       "      <td>0.783</td>\n",
       "      <td>124016</td>\n",
       "      <td>0.792</td>\n",
       "      <td>0.878</td>\n",
       "      <td>7</td>\n",
       "      <td>0.0332</td>\n",
       "      <td>-10.277</td>\n",
       "      <td>1</td>\n",
       "      <td>0.0661</td>\n",
       "      <td>120.047</td>\n",
       "      <td>4</td>\n",
       "      <td>0.928</td>\n",
       "      <td>0</td>\n",
       "      <td>NaN</td>\n",
       "      <td>NaN</td>\n",
       "      <td>NaN</td>\n",
       "    </tr>\n",
       "  </tbody>\n",
       "</table>\n",
       "</div>"
      ],
      "text/plain": [
       "  artist_name                track_id  \\\n",
       "0          YG  2RM4jf1Xa9zPgMGRDiht8O   \n",
       "1          YG  1tHDG53xJNGsItRA3vfVgs   \n",
       "2       R3HAB  6Wosx2euFPMT14UXiWudMy   \n",
       "3  Chris Cooq  3J2Jpw61sO7l6Hc7qdYV91   \n",
       "4  Chris Cooq  2jbYvQCyPgX3CdmAzeVeuS   \n",
       "\n",
       "                                       track_name  acousticness  danceability  \\\n",
       "0  Big Bank feat. 2 Chainz, Big Sean, Nicki Minaj      0.005820         0.743   \n",
       "1                    BAND DRUM (feat. A$AP Rocky)      0.024400         0.846   \n",
       "2                                   Radio Silence      0.025000         0.603   \n",
       "3                                         Lactose      0.029400         0.800   \n",
       "4                             Same - Original mix      0.000035         0.783   \n",
       "\n",
       "   duration_ms  energy  instrumentalness  key  liveness  loudness  mode  \\\n",
       "0       238373   0.339             0.000    1    0.0812    -7.678     1   \n",
       "1       214800   0.557             0.000    8    0.2860    -7.259     1   \n",
       "2       138913   0.723             0.000    9    0.0824    -5.890     0   \n",
       "3       125381   0.579             0.912    5    0.0994   -12.118     0   \n",
       "4       124016   0.792             0.878    7    0.0332   -10.277     1   \n",
       "\n",
       "   speechiness    tempo  time_signature  valence  popularity  \\\n",
       "0       0.4090  203.927               4    0.118          15   \n",
       "1       0.4570  159.009               4    0.371           0   \n",
       "2       0.0454  114.966               4    0.382          56   \n",
       "3       0.0701  123.003               4    0.641           0   \n",
       "4       0.0661  120.047               4    0.928           0   \n",
       "\n",
       "                artist_id  Empty  genre_mc  \n",
       "0  0A0FS04o6zMoto8OKPsDwY    0.0  cali rap  \n",
       "1  0A0FS04o6zMoto8OKPsDwY    0.0  cali rap  \n",
       "2                     NaN    NaN       NaN  \n",
       "3                     NaN    NaN       NaN  \n",
       "4                     NaN    NaN       NaN  "
      ]
     },
     "execution_count": 48,
     "metadata": {},
     "output_type": "execute_result"
    }
   ],
   "source": [
    "data_all.head()"
   ]
  },
  {
   "cell_type": "code",
   "execution_count": 49,
   "metadata": {
    "scrolled": true
   },
   "outputs": [
    {
     "data": {
      "text/plain": [
       "artist_name              0\n",
       "track_id                 0\n",
       "track_name               0\n",
       "acousticness             0\n",
       "danceability             0\n",
       "duration_ms              0\n",
       "energy                   0\n",
       "instrumentalness         0\n",
       "key                      0\n",
       "liveness                 0\n",
       "loudness                 0\n",
       "mode                     0\n",
       "speechiness              0\n",
       "tempo                    0\n",
       "time_signature           0\n",
       "valence                  0\n",
       "popularity               0\n",
       "artist_id           117531\n",
       "Empty               117531\n",
       "genre_mc            117531\n",
       "dtype: int64"
      ]
     },
     "execution_count": 49,
     "metadata": {},
     "output_type": "execute_result"
    }
   ],
   "source": [
    "data_all.isnull().sum()"
   ]
  },
  {
   "cell_type": "code",
   "execution_count": 50,
   "metadata": {
    "scrolled": false
   },
   "outputs": [
    {
     "data": {
      "text/html": [
       "<div>\n",
       "<style scoped>\n",
       "    .dataframe tbody tr th:only-of-type {\n",
       "        vertical-align: middle;\n",
       "    }\n",
       "\n",
       "    .dataframe tbody tr th {\n",
       "        vertical-align: top;\n",
       "    }\n",
       "\n",
       "    .dataframe thead th {\n",
       "        text-align: right;\n",
       "    }\n",
       "</style>\n",
       "<table border=\"1\" class=\"dataframe\">\n",
       "  <thead>\n",
       "    <tr style=\"text-align: right;\">\n",
       "      <th></th>\n",
       "      <th>url</th>\n",
       "      <th>WeekID</th>\n",
       "      <th>Week Position</th>\n",
       "      <th>Song</th>\n",
       "      <th>Performer</th>\n",
       "      <th>SongID</th>\n",
       "      <th>Instance</th>\n",
       "      <th>Previous Week Position</th>\n",
       "      <th>Peak Position</th>\n",
       "      <th>Weeks on Chart</th>\n",
       "    </tr>\n",
       "  </thead>\n",
       "  <tbody>\n",
       "    <tr>\n",
       "      <th>0</th>\n",
       "      <td>https://www.billboard.com/charts/hot-100/2018-...</td>\n",
       "      <td>12/29/2018</td>\n",
       "      <td>41</td>\n",
       "      <td>(There's No Place Like) Home For The Holidays</td>\n",
       "      <td>Perry Como</td>\n",
       "      <td>(There's No Place Like) Home For The HolidaysP...</td>\n",
       "      <td>1</td>\n",
       "      <td>NaN</td>\n",
       "      <td>41</td>\n",
       "      <td>1</td>\n",
       "    </tr>\n",
       "    <tr>\n",
       "      <th>1</th>\n",
       "      <td>https://www.billboard.com/charts/hot-100/2018-...</td>\n",
       "      <td>12/29/2018</td>\n",
       "      <td>50</td>\n",
       "      <td>Christmas (Baby Please Come Home)</td>\n",
       "      <td>Darlene Love</td>\n",
       "      <td>Christmas (Baby Please Come Home)Darlene Love</td>\n",
       "      <td>1</td>\n",
       "      <td>NaN</td>\n",
       "      <td>50</td>\n",
       "      <td>1</td>\n",
       "    </tr>\n",
       "    <tr>\n",
       "      <th>2</th>\n",
       "      <td>https://www.billboard.com/charts/hot-100/2018-...</td>\n",
       "      <td>12/29/2018</td>\n",
       "      <td>100</td>\n",
       "      <td>MAMA</td>\n",
       "      <td>6ix9ine Featuring Nicki Minaj &amp; Kanye West</td>\n",
       "      <td>MAMA6ix9ine Featuring Nicki Minaj &amp; Kanye West</td>\n",
       "      <td>1</td>\n",
       "      <td>75.0</td>\n",
       "      <td>43</td>\n",
       "      <td>4</td>\n",
       "    </tr>\n",
       "    <tr>\n",
       "      <th>3</th>\n",
       "      <td>https://www.billboard.com/charts/hot-100/2018-...</td>\n",
       "      <td>12/29/2018</td>\n",
       "      <td>24</td>\n",
       "      <td>Imagine</td>\n",
       "      <td>Ariana Grande</td>\n",
       "      <td>ImagineAriana Grande</td>\n",
       "      <td>1</td>\n",
       "      <td>NaN</td>\n",
       "      <td>24</td>\n",
       "      <td>1</td>\n",
       "    </tr>\n",
       "    <tr>\n",
       "      <th>4</th>\n",
       "      <td>https://www.billboard.com/charts/hot-100/2018-...</td>\n",
       "      <td>12/29/2018</td>\n",
       "      <td>42</td>\n",
       "      <td>It's Beginning To Look A Lot Like Christmas</td>\n",
       "      <td>Perry Como &amp; The Fontane Sisters</td>\n",
       "      <td>It's Beginning To Look A Lot Like ChristmasPer...</td>\n",
       "      <td>1</td>\n",
       "      <td>NaN</td>\n",
       "      <td>42</td>\n",
       "      <td>1</td>\n",
       "    </tr>\n",
       "  </tbody>\n",
       "</table>\n",
       "</div>"
      ],
      "text/plain": [
       "                                                 url      WeekID  \\\n",
       "0  https://www.billboard.com/charts/hot-100/2018-...  12/29/2018   \n",
       "1  https://www.billboard.com/charts/hot-100/2018-...  12/29/2018   \n",
       "2  https://www.billboard.com/charts/hot-100/2018-...  12/29/2018   \n",
       "3  https://www.billboard.com/charts/hot-100/2018-...  12/29/2018   \n",
       "4  https://www.billboard.com/charts/hot-100/2018-...  12/29/2018   \n",
       "\n",
       "   Week Position                                           Song  \\\n",
       "0             41  (There's No Place Like) Home For The Holidays   \n",
       "1             50              Christmas (Baby Please Come Home)   \n",
       "2            100                                           MAMA   \n",
       "3             24                                        Imagine   \n",
       "4             42    It's Beginning To Look A Lot Like Christmas   \n",
       "\n",
       "                                    Performer  \\\n",
       "0                                  Perry Como   \n",
       "1                                Darlene Love   \n",
       "2  6ix9ine Featuring Nicki Minaj & Kanye West   \n",
       "3                               Ariana Grande   \n",
       "4            Perry Como & The Fontane Sisters   \n",
       "\n",
       "                                              SongID  Instance  \\\n",
       "0  (There's No Place Like) Home For The HolidaysP...         1   \n",
       "1      Christmas (Baby Please Come Home)Darlene Love         1   \n",
       "2     MAMA6ix9ine Featuring Nicki Minaj & Kanye West         1   \n",
       "3                               ImagineAriana Grande         1   \n",
       "4  It's Beginning To Look A Lot Like ChristmasPer...         1   \n",
       "\n",
       "   Previous Week Position  Peak Position  Weeks on Chart  \n",
       "0                     NaN             41               1  \n",
       "1                     NaN             50               1  \n",
       "2                    75.0             43               4  \n",
       "3                     NaN             24               1  \n",
       "4                     NaN             42               1  "
      ]
     },
     "execution_count": 50,
     "metadata": {},
     "output_type": "execute_result"
    }
   ],
   "source": [
    "billboard = pd.read_csv(\"billboard2018.csv\")\n",
    "billboard.head()"
   ]
  },
  {
   "cell_type": "code",
   "execution_count": 51,
   "metadata": {},
   "outputs": [],
   "source": [
    "billboard.rename(columns={'Song': 'track_name'}, inplace=True)"
   ]
  },
  {
   "cell_type": "code",
   "execution_count": 52,
   "metadata": {},
   "outputs": [
    {
     "name": "stdout",
     "output_type": "stream",
     "text": [
      "<class 'pandas.core.frame.DataFrame'>\n",
      "Int64Index: 154546 entries, 0 to 154545\n",
      "Data columns (total 29 columns):\n",
      "artist_name               154546 non-null object\n",
      "track_id                  154546 non-null object\n",
      "track_name                154546 non-null object\n",
      "acousticness              154546 non-null float64\n",
      "danceability              154546 non-null float64\n",
      "duration_ms               154546 non-null int64\n",
      "energy                    154546 non-null float64\n",
      "instrumentalness          154546 non-null float64\n",
      "key                       154546 non-null int64\n",
      "liveness                  154546 non-null float64\n",
      "loudness                  154546 non-null float64\n",
      "mode                      154546 non-null int64\n",
      "speechiness               154546 non-null float64\n",
      "tempo                     154546 non-null float64\n",
      "time_signature            154546 non-null int64\n",
      "valence                   154546 non-null float64\n",
      "popularity                154546 non-null int64\n",
      "artist_id                 16285 non-null object\n",
      "Empty                     16285 non-null float64\n",
      "genre_mc                  16285 non-null object\n",
      "url                       26412 non-null object\n",
      "WeekID                    26412 non-null object\n",
      "Week Position             26412 non-null float64\n",
      "Performer                 26412 non-null object\n",
      "SongID                    26412 non-null object\n",
      "Instance                  26412 non-null float64\n",
      "Previous Week Position    23647 non-null float64\n",
      "Peak Position             26412 non-null float64\n",
      "Weeks on Chart            26412 non-null float64\n",
      "dtypes: float64(15), int64(5), object(9)\n",
      "memory usage: 35.4+ MB\n"
     ]
    }
   ],
   "source": [
    "data_all=pd.merge(data_all, billboard, on = \"track_name\", how = 'left')\n",
    "data_all.info()"
   ]
  },
  {
   "cell_type": "code",
   "execution_count": 53,
   "metadata": {},
   "outputs": [],
   "source": [
    "cols = ['track_id', 'artist_id', 'url', 'WeekID', 'Performer', 'SongID', 'Week Position', 'Instance', 'Previous Week Position', 'Empty']\n",
    "data_all = data_all.drop(cols, axis=1)"
   ]
  },
  {
   "cell_type": "code",
   "execution_count": 54,
   "metadata": {},
   "outputs": [
    {
     "name": "stdout",
     "output_type": "stream",
     "text": [
      "<class 'pandas.core.frame.DataFrame'>\n",
      "Int64Index: 154546 entries, 0 to 154545\n",
      "Data columns (total 19 columns):\n",
      "artist_name         154546 non-null object\n",
      "track_name          154546 non-null object\n",
      "acousticness        154546 non-null float64\n",
      "danceability        154546 non-null float64\n",
      "duration_ms         154546 non-null int64\n",
      "energy              154546 non-null float64\n",
      "instrumentalness    154546 non-null float64\n",
      "key                 154546 non-null int64\n",
      "liveness            154546 non-null float64\n",
      "loudness            154546 non-null float64\n",
      "mode                154546 non-null int64\n",
      "speechiness         154546 non-null float64\n",
      "tempo               154546 non-null float64\n",
      "time_signature      154546 non-null int64\n",
      "valence             154546 non-null float64\n",
      "popularity          154546 non-null int64\n",
      "genre_mc            16285 non-null object\n",
      "Peak Position       26412 non-null float64\n",
      "Weeks on Chart      26412 non-null float64\n",
      "dtypes: float64(11), int64(5), object(3)\n",
      "memory usage: 23.6+ MB\n"
     ]
    }
   ],
   "source": [
    "data_all.info()"
   ]
  },
  {
   "cell_type": "code",
   "execution_count": 55,
   "metadata": {},
   "outputs": [],
   "source": [
    "data_all.to_csv('merged.csv')"
   ]
  },
  {
   "cell_type": "code",
   "execution_count": 44,
   "metadata": {},
   "outputs": [
    {
     "data": {
      "text/plain": [
       "0      21829\n",
       "1       3452\n",
       "22      2937\n",
       "19      2912\n",
       "23      2875\n",
       "       ...  \n",
       "93         6\n",
       "95         6\n",
       "98         4\n",
       "97         1\n",
       "100        1\n",
       "Name: popularity, Length: 100, dtype: int64"
      ]
     },
     "execution_count": 44,
     "metadata": {},
     "output_type": "execute_result"
    }
   ],
   "source": [
    "data_all.popularity.value_counts()"
   ]
  },
  {
   "cell_type": "code",
   "execution_count": 56,
   "metadata": {},
   "outputs": [],
   "source": [
    "import matplotlib.pyplot as plt\n",
    "import seaborn as sns"
   ]
  },
  {
   "cell_type": "code",
   "execution_count": 58,
   "metadata": {},
   "outputs": [
    {
     "ename": "ValueError",
     "evalue": "A wide-form input must have only numeric values.",
     "output_type": "error",
     "traceback": [
      "\u001b[1;31m---------------------------------------------------------------------------\u001b[0m",
      "\u001b[1;31mValueError\u001b[0m                                Traceback (most recent call last)",
      "\u001b[1;32m~\\Anaconda3\\envs\\learn-env\\lib\\site-packages\\seaborn\\relational.py\u001b[0m in \u001b[0;36mestablish_variables\u001b[1;34m(self, x, y, hue, size, style, units, data)\u001b[0m\n\u001b[0;32m     60\u001b[0m                 \u001b[1;32mtry\u001b[0m\u001b[1;33m:\u001b[0m\u001b[1;33m\u001b[0m\u001b[1;33m\u001b[0m\u001b[0m\n\u001b[1;32m---> 61\u001b[1;33m                     \u001b[0mdata\u001b[0m\u001b[1;33m.\u001b[0m\u001b[0mastype\u001b[0m\u001b[1;33m(\u001b[0m\u001b[0mnp\u001b[0m\u001b[1;33m.\u001b[0m\u001b[0mfloat\u001b[0m\u001b[1;33m)\u001b[0m\u001b[1;33m\u001b[0m\u001b[1;33m\u001b[0m\u001b[0m\n\u001b[0m\u001b[0;32m     62\u001b[0m                 \u001b[1;32mexcept\u001b[0m \u001b[0mValueError\u001b[0m\u001b[1;33m:\u001b[0m\u001b[1;33m\u001b[0m\u001b[1;33m\u001b[0m\u001b[0m\n",
      "\u001b[1;32m~\\Anaconda3\\envs\\learn-env\\lib\\site-packages\\pandas\\core\\generic.py\u001b[0m in \u001b[0;36mastype\u001b[1;34m(self, dtype, copy, errors, **kwargs)\u001b[0m\n\u001b[0;32m   5882\u001b[0m             new_data = self._data.astype(\n\u001b[1;32m-> 5883\u001b[1;33m                 \u001b[0mdtype\u001b[0m\u001b[1;33m=\u001b[0m\u001b[0mdtype\u001b[0m\u001b[1;33m,\u001b[0m \u001b[0mcopy\u001b[0m\u001b[1;33m=\u001b[0m\u001b[0mcopy\u001b[0m\u001b[1;33m,\u001b[0m \u001b[0merrors\u001b[0m\u001b[1;33m=\u001b[0m\u001b[0merrors\u001b[0m\u001b[1;33m,\u001b[0m \u001b[1;33m**\u001b[0m\u001b[0mkwargs\u001b[0m\u001b[1;33m\u001b[0m\u001b[1;33m\u001b[0m\u001b[0m\n\u001b[0m\u001b[0;32m   5884\u001b[0m             )\n",
      "\u001b[1;32m~\\Anaconda3\\envs\\learn-env\\lib\\site-packages\\pandas\\core\\internals\\managers.py\u001b[0m in \u001b[0;36mastype\u001b[1;34m(self, dtype, **kwargs)\u001b[0m\n\u001b[0;32m    580\u001b[0m     \u001b[1;32mdef\u001b[0m \u001b[0mastype\u001b[0m\u001b[1;33m(\u001b[0m\u001b[0mself\u001b[0m\u001b[1;33m,\u001b[0m \u001b[0mdtype\u001b[0m\u001b[1;33m,\u001b[0m \u001b[1;33m**\u001b[0m\u001b[0mkwargs\u001b[0m\u001b[1;33m)\u001b[0m\u001b[1;33m:\u001b[0m\u001b[1;33m\u001b[0m\u001b[1;33m\u001b[0m\u001b[0m\n\u001b[1;32m--> 581\u001b[1;33m         \u001b[1;32mreturn\u001b[0m \u001b[0mself\u001b[0m\u001b[1;33m.\u001b[0m\u001b[0mapply\u001b[0m\u001b[1;33m(\u001b[0m\u001b[1;34m\"astype\"\u001b[0m\u001b[1;33m,\u001b[0m \u001b[0mdtype\u001b[0m\u001b[1;33m=\u001b[0m\u001b[0mdtype\u001b[0m\u001b[1;33m,\u001b[0m \u001b[1;33m**\u001b[0m\u001b[0mkwargs\u001b[0m\u001b[1;33m)\u001b[0m\u001b[1;33m\u001b[0m\u001b[1;33m\u001b[0m\u001b[0m\n\u001b[0m\u001b[0;32m    582\u001b[0m \u001b[1;33m\u001b[0m\u001b[0m\n",
      "\u001b[1;32m~\\Anaconda3\\envs\\learn-env\\lib\\site-packages\\pandas\\core\\internals\\managers.py\u001b[0m in \u001b[0;36mapply\u001b[1;34m(self, f, axes, filter, do_integrity_check, consolidate, **kwargs)\u001b[0m\n\u001b[0;32m    437\u001b[0m \u001b[1;33m\u001b[0m\u001b[0m\n\u001b[1;32m--> 438\u001b[1;33m             \u001b[0mapplied\u001b[0m \u001b[1;33m=\u001b[0m \u001b[0mgetattr\u001b[0m\u001b[1;33m(\u001b[0m\u001b[0mb\u001b[0m\u001b[1;33m,\u001b[0m \u001b[0mf\u001b[0m\u001b[1;33m)\u001b[0m\u001b[1;33m(\u001b[0m\u001b[1;33m**\u001b[0m\u001b[0mkwargs\u001b[0m\u001b[1;33m)\u001b[0m\u001b[1;33m\u001b[0m\u001b[1;33m\u001b[0m\u001b[0m\n\u001b[0m\u001b[0;32m    439\u001b[0m             \u001b[0mresult_blocks\u001b[0m \u001b[1;33m=\u001b[0m \u001b[0m_extend_blocks\u001b[0m\u001b[1;33m(\u001b[0m\u001b[0mapplied\u001b[0m\u001b[1;33m,\u001b[0m \u001b[0mresult_blocks\u001b[0m\u001b[1;33m)\u001b[0m\u001b[1;33m\u001b[0m\u001b[1;33m\u001b[0m\u001b[0m\n",
      "\u001b[1;32m~\\Anaconda3\\envs\\learn-env\\lib\\site-packages\\pandas\\core\\internals\\blocks.py\u001b[0m in \u001b[0;36mastype\u001b[1;34m(self, dtype, copy, errors, values, **kwargs)\u001b[0m\n\u001b[0;32m    556\u001b[0m     \u001b[1;32mdef\u001b[0m \u001b[0mastype\u001b[0m\u001b[1;33m(\u001b[0m\u001b[0mself\u001b[0m\u001b[1;33m,\u001b[0m \u001b[0mdtype\u001b[0m\u001b[1;33m,\u001b[0m \u001b[0mcopy\u001b[0m\u001b[1;33m=\u001b[0m\u001b[1;32mFalse\u001b[0m\u001b[1;33m,\u001b[0m \u001b[0merrors\u001b[0m\u001b[1;33m=\u001b[0m\u001b[1;34m\"raise\"\u001b[0m\u001b[1;33m,\u001b[0m \u001b[0mvalues\u001b[0m\u001b[1;33m=\u001b[0m\u001b[1;32mNone\u001b[0m\u001b[1;33m,\u001b[0m \u001b[1;33m**\u001b[0m\u001b[0mkwargs\u001b[0m\u001b[1;33m)\u001b[0m\u001b[1;33m:\u001b[0m\u001b[1;33m\u001b[0m\u001b[1;33m\u001b[0m\u001b[0m\n\u001b[1;32m--> 557\u001b[1;33m         \u001b[1;32mreturn\u001b[0m \u001b[0mself\u001b[0m\u001b[1;33m.\u001b[0m\u001b[0m_astype\u001b[0m\u001b[1;33m(\u001b[0m\u001b[0mdtype\u001b[0m\u001b[1;33m,\u001b[0m \u001b[0mcopy\u001b[0m\u001b[1;33m=\u001b[0m\u001b[0mcopy\u001b[0m\u001b[1;33m,\u001b[0m \u001b[0merrors\u001b[0m\u001b[1;33m=\u001b[0m\u001b[0merrors\u001b[0m\u001b[1;33m,\u001b[0m \u001b[0mvalues\u001b[0m\u001b[1;33m=\u001b[0m\u001b[0mvalues\u001b[0m\u001b[1;33m,\u001b[0m \u001b[1;33m**\u001b[0m\u001b[0mkwargs\u001b[0m\u001b[1;33m)\u001b[0m\u001b[1;33m\u001b[0m\u001b[1;33m\u001b[0m\u001b[0m\n\u001b[0m\u001b[0;32m    558\u001b[0m \u001b[1;33m\u001b[0m\u001b[0m\n",
      "\u001b[1;32m~\\Anaconda3\\envs\\learn-env\\lib\\site-packages\\pandas\\core\\internals\\blocks.py\u001b[0m in \u001b[0;36m_astype\u001b[1;34m(self, dtype, copy, errors, values, **kwargs)\u001b[0m\n\u001b[0;32m    640\u001b[0m                     \u001b[0mvals1d\u001b[0m \u001b[1;33m=\u001b[0m \u001b[0mvalues\u001b[0m\u001b[1;33m.\u001b[0m\u001b[0mravel\u001b[0m\u001b[1;33m(\u001b[0m\u001b[1;33m)\u001b[0m\u001b[1;33m\u001b[0m\u001b[1;33m\u001b[0m\u001b[0m\n\u001b[1;32m--> 641\u001b[1;33m                     \u001b[0mvalues\u001b[0m \u001b[1;33m=\u001b[0m \u001b[0mastype_nansafe\u001b[0m\u001b[1;33m(\u001b[0m\u001b[0mvals1d\u001b[0m\u001b[1;33m,\u001b[0m \u001b[0mdtype\u001b[0m\u001b[1;33m,\u001b[0m \u001b[0mcopy\u001b[0m\u001b[1;33m=\u001b[0m\u001b[1;32mTrue\u001b[0m\u001b[1;33m,\u001b[0m \u001b[1;33m**\u001b[0m\u001b[0mkwargs\u001b[0m\u001b[1;33m)\u001b[0m\u001b[1;33m\u001b[0m\u001b[1;33m\u001b[0m\u001b[0m\n\u001b[0m\u001b[0;32m    642\u001b[0m \u001b[1;33m\u001b[0m\u001b[0m\n",
      "\u001b[1;32m~\\Anaconda3\\envs\\learn-env\\lib\\site-packages\\pandas\\core\\dtypes\\cast.py\u001b[0m in \u001b[0;36mastype_nansafe\u001b[1;34m(arr, dtype, copy, skipna)\u001b[0m\n\u001b[0;32m    728\u001b[0m         \u001b[1;31m# Explicit copy, or required since NumPy can't view from / to object.\u001b[0m\u001b[1;33m\u001b[0m\u001b[1;33m\u001b[0m\u001b[1;33m\u001b[0m\u001b[0m\n\u001b[1;32m--> 729\u001b[1;33m         \u001b[1;32mreturn\u001b[0m \u001b[0marr\u001b[0m\u001b[1;33m.\u001b[0m\u001b[0mastype\u001b[0m\u001b[1;33m(\u001b[0m\u001b[0mdtype\u001b[0m\u001b[1;33m,\u001b[0m \u001b[0mcopy\u001b[0m\u001b[1;33m=\u001b[0m\u001b[1;32mTrue\u001b[0m\u001b[1;33m)\u001b[0m\u001b[1;33m\u001b[0m\u001b[1;33m\u001b[0m\u001b[0m\n\u001b[0m\u001b[0;32m    730\u001b[0m \u001b[1;33m\u001b[0m\u001b[0m\n",
      "\u001b[1;31mValueError\u001b[0m: could not convert string to float: 'YG'",
      "\nDuring handling of the above exception, another exception occurred:\n",
      "\u001b[1;31mValueError\u001b[0m                                Traceback (most recent call last)",
      "\u001b[1;32m<ipython-input-58-9047ec4fe7d1>\u001b[0m in \u001b[0;36m<module>\u001b[1;34m\u001b[0m\n\u001b[1;32m----> 1\u001b[1;33m \u001b[0msns\u001b[0m\u001b[1;33m.\u001b[0m\u001b[0mscatterplot\u001b[0m\u001b[1;33m(\u001b[0m\u001b[0mdata\u001b[0m \u001b[1;33m=\u001b[0m \u001b[0mdata_all\u001b[0m\u001b[1;33m)\u001b[0m\u001b[1;33m\u001b[0m\u001b[1;33m\u001b[0m\u001b[0m\n\u001b[0m",
      "\u001b[1;32m~\\Anaconda3\\envs\\learn-env\\lib\\site-packages\\seaborn\\relational.py\u001b[0m in \u001b[0;36mscatterplot\u001b[1;34m(x, y, hue, style, size, data, palette, hue_order, hue_norm, sizes, size_order, size_norm, markers, style_order, x_bins, y_bins, units, estimator, ci, n_boot, alpha, x_jitter, y_jitter, legend, ax, **kwargs)\u001b[0m\n\u001b[0;32m   1333\u001b[0m         \u001b[0mx_bins\u001b[0m\u001b[1;33m=\u001b[0m\u001b[0mx_bins\u001b[0m\u001b[1;33m,\u001b[0m \u001b[0my_bins\u001b[0m\u001b[1;33m=\u001b[0m\u001b[0my_bins\u001b[0m\u001b[1;33m,\u001b[0m\u001b[1;33m\u001b[0m\u001b[1;33m\u001b[0m\u001b[0m\n\u001b[0;32m   1334\u001b[0m         \u001b[0mestimator\u001b[0m\u001b[1;33m=\u001b[0m\u001b[0mestimator\u001b[0m\u001b[1;33m,\u001b[0m \u001b[0mci\u001b[0m\u001b[1;33m=\u001b[0m\u001b[0mci\u001b[0m\u001b[1;33m,\u001b[0m \u001b[0mn_boot\u001b[0m\u001b[1;33m=\u001b[0m\u001b[0mn_boot\u001b[0m\u001b[1;33m,\u001b[0m\u001b[1;33m\u001b[0m\u001b[1;33m\u001b[0m\u001b[0m\n\u001b[1;32m-> 1335\u001b[1;33m         \u001b[0malpha\u001b[0m\u001b[1;33m=\u001b[0m\u001b[0malpha\u001b[0m\u001b[1;33m,\u001b[0m \u001b[0mx_jitter\u001b[0m\u001b[1;33m=\u001b[0m\u001b[0mx_jitter\u001b[0m\u001b[1;33m,\u001b[0m \u001b[0my_jitter\u001b[0m\u001b[1;33m=\u001b[0m\u001b[0my_jitter\u001b[0m\u001b[1;33m,\u001b[0m \u001b[0mlegend\u001b[0m\u001b[1;33m=\u001b[0m\u001b[0mlegend\u001b[0m\u001b[1;33m,\u001b[0m\u001b[1;33m\u001b[0m\u001b[1;33m\u001b[0m\u001b[0m\n\u001b[0m\u001b[0;32m   1336\u001b[0m     )\n\u001b[0;32m   1337\u001b[0m \u001b[1;33m\u001b[0m\u001b[0m\n",
      "\u001b[1;32m~\\Anaconda3\\envs\\learn-env\\lib\\site-packages\\seaborn\\relational.py\u001b[0m in \u001b[0;36m__init__\u001b[1;34m(self, x, y, hue, size, style, data, palette, hue_order, hue_norm, sizes, size_order, size_norm, dashes, markers, style_order, x_bins, y_bins, units, estimator, ci, n_boot, alpha, x_jitter, y_jitter, legend)\u001b[0m\n\u001b[0;32m    850\u001b[0m \u001b[1;33m\u001b[0m\u001b[0m\n\u001b[0;32m    851\u001b[0m         plot_data = self.establish_variables(\n\u001b[1;32m--> 852\u001b[1;33m             \u001b[0mx\u001b[0m\u001b[1;33m,\u001b[0m \u001b[0my\u001b[0m\u001b[1;33m,\u001b[0m \u001b[0mhue\u001b[0m\u001b[1;33m,\u001b[0m \u001b[0msize\u001b[0m\u001b[1;33m,\u001b[0m \u001b[0mstyle\u001b[0m\u001b[1;33m,\u001b[0m \u001b[0munits\u001b[0m\u001b[1;33m,\u001b[0m \u001b[0mdata\u001b[0m\u001b[1;33m\u001b[0m\u001b[1;33m\u001b[0m\u001b[0m\n\u001b[0m\u001b[0;32m    853\u001b[0m         )\n\u001b[0;32m    854\u001b[0m \u001b[1;33m\u001b[0m\u001b[0m\n",
      "\u001b[1;32m~\\Anaconda3\\envs\\learn-env\\lib\\site-packages\\seaborn\\relational.py\u001b[0m in \u001b[0;36mestablish_variables\u001b[1;34m(self, x, y, hue, size, style, units, data)\u001b[0m\n\u001b[0;32m     62\u001b[0m                 \u001b[1;32mexcept\u001b[0m \u001b[0mValueError\u001b[0m\u001b[1;33m:\u001b[0m\u001b[1;33m\u001b[0m\u001b[1;33m\u001b[0m\u001b[0m\n\u001b[0;32m     63\u001b[0m                     \u001b[0merr\u001b[0m \u001b[1;33m=\u001b[0m \u001b[1;34m\"A wide-form input must have only numeric values.\"\u001b[0m\u001b[1;33m\u001b[0m\u001b[1;33m\u001b[0m\u001b[0m\n\u001b[1;32m---> 64\u001b[1;33m                     \u001b[1;32mraise\u001b[0m \u001b[0mValueError\u001b[0m\u001b[1;33m(\u001b[0m\u001b[0merr\u001b[0m\u001b[1;33m)\u001b[0m\u001b[1;33m\u001b[0m\u001b[1;33m\u001b[0m\u001b[0m\n\u001b[0m\u001b[0;32m     65\u001b[0m \u001b[1;33m\u001b[0m\u001b[0m\n\u001b[0;32m     66\u001b[0m                 \u001b[0mplot_data\u001b[0m \u001b[1;33m=\u001b[0m \u001b[0mdata\u001b[0m\u001b[1;33m.\u001b[0m\u001b[0mcopy\u001b[0m\u001b[1;33m(\u001b[0m\u001b[1;33m)\u001b[0m\u001b[1;33m\u001b[0m\u001b[1;33m\u001b[0m\u001b[0m\n",
      "\u001b[1;31mValueError\u001b[0m: A wide-form input must have only numeric values."
     ]
    }
   ],
   "source": []
  },
  {
   "cell_type": "code",
   "execution_count": null,
   "metadata": {},
   "outputs": [],
   "source": []
  }
 ],
 "metadata": {
  "kernelspec": {
   "display_name": "learn-env",
   "language": "python",
   "name": "learn-env"
  },
  "language_info": {
   "codemirror_mode": {
    "name": "ipython",
    "version": 3
   },
   "file_extension": ".py",
   "mimetype": "text/x-python",
   "name": "python",
   "nbconvert_exporter": "python",
   "pygments_lexer": "ipython3",
   "version": "3.6.9"
  },
  "toc": {
   "base_numbering": 1,
   "nav_menu": {},
   "number_sections": true,
   "sideBar": true,
   "skip_h1_title": false,
   "title_cell": "Table of Contents",
   "title_sidebar": "Contents",
   "toc_cell": false,
   "toc_position": {
    "height": "calc(100% - 180px)",
    "left": "10px",
    "top": "150px",
    "width": "341.319px"
   },
   "toc_section_display": true,
   "toc_window_display": true
  }
 },
 "nbformat": 4,
 "nbformat_minor": 2
}
